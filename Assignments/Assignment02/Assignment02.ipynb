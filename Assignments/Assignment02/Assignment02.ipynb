{
 "cells": [
  {
   "cell_type": "markdown",
   "metadata": {},
   "source": [
    "# MODULE ASSIGNMENT "
   ]
  },
  {
   "cell_type": "code",
   "execution_count": 1,
   "metadata": {},
   "outputs": [],
   "source": [
    "# Importing Our Module\n",
    "from Temp_Conv import *"
   ]
  },
  {
   "cell_type": "code",
   "execution_count": 21,
   "metadata": {},
   "outputs": [
    {
     "name": "stdout",
     "output_type": "stream",
     "text": [
      "Enter Temperature in Centigrade: 15\n",
      "Your Temperature in Farenheit is  59.0\n"
     ]
    }
   ],
   "source": [
    "# Changing Centigrade To Farenheit\n",
    "a = float(input(\"Enter Temperature in Centigrade: \"))\n",
    "print(\"Your Temperature in Farenheit is \",cent_to_far(a))"
   ]
  },
  {
   "cell_type": "code",
   "execution_count": 7,
   "metadata": {},
   "outputs": [
    {
     "name": "stdout",
     "output_type": "stream",
     "text": [
      "Enter Temperature in Centigrade: 50\n",
      "Your Temperature in Kelvin is  323.0\n"
     ]
    }
   ],
   "source": [
    "# Changing Centigrade To Kelvin\n",
    "b = float(input(\"Enter Temperature in Centigrade: \"))\n",
    "print(\"Your Temperature in Kelvin is \",cent_to_kel(b))"
   ]
  },
  {
   "cell_type": "code",
   "execution_count": 11,
   "metadata": {},
   "outputs": [
    {
     "name": "stdout",
     "output_type": "stream",
     "text": [
      "Enter Temperature in Farenheit: 100\n",
      "Your Tempoerature in Centigrade is  37.77777777777778\n"
     ]
    }
   ],
   "source": [
    "# Changing Farenheit To Centigrade\n",
    "c = float(input(\"Enter Temperature in Farenheit: \"))\n",
    "print(\"Your Tempoerature in Centigrade is \",far_to_cent(c))"
   ]
  },
  {
   "cell_type": "code",
   "execution_count": 12,
   "metadata": {},
   "outputs": [
    {
     "name": "stdout",
     "output_type": "stream",
     "text": [
      "Enter Temperature in Farenheit: 100\n",
      "Your Tempoerature in Kelvin is  310.77777777777777\n"
     ]
    }
   ],
   "source": [
    "# Changing Farenheit To Kelvin\n",
    "d = float(input(\"Enter Temperature in Farenheit: \"))\n",
    "print(\"Your Tempoerature in Kelvin is \",far_to_kel(d))"
   ]
  },
  {
   "cell_type": "code",
   "execution_count": 17,
   "metadata": {},
   "outputs": [
    {
     "name": "stdout",
     "output_type": "stream",
     "text": [
      "Enter Temperature in Kelvin: 273\n",
      "Your Tempoerature in Farenheit is  32.0\n"
     ]
    }
   ],
   "source": [
    "# Changing Kelvin To Farenheit\n",
    "e = float(input(\"Enter Temperature in Kelvin: \"))\n",
    "print(\"Your Tempoerature in Farenheit is \",kel_to_far(e))"
   ]
  },
  {
   "cell_type": "code",
   "execution_count": 25,
   "metadata": {},
   "outputs": [
    {
     "name": "stdout",
     "output_type": "stream",
     "text": [
      "Enter Temperature in Kelvin: 300\n",
      "Your Tempoerature in Centigrade is  27.0\n"
     ]
    }
   ],
   "source": [
    "# Changing Kelvin To Centigrade\n",
    "x = float(input(\"Enter Temperature in Kelvin: \"))\n",
    "print(\"Your Tempoerature in Centigrade is \",kel_to_cent(x))"
   ]
  }
 ],
 "metadata": {
  "kernelspec": {
   "display_name": "Python 3",
   "language": "python",
   "name": "python3"
  },
  "language_info": {
   "codemirror_mode": {
    "name": "ipython",
    "version": 3
   },
   "file_extension": ".py",
   "mimetype": "text/x-python",
   "name": "python",
   "nbconvert_exporter": "python",
   "pygments_lexer": "ipython3",
   "version": "3.7.0"
  }
 },
 "nbformat": 4,
 "nbformat_minor": 2
}
