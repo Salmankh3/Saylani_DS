{
 "cells": [
  {
   "cell_type": "markdown",
   "metadata": {},
   "source": [
    "Total Exercise Questions = 14"
   ]
  },
  {
   "cell_type": "code",
   "execution_count": 1,
   "metadata": {},
   "outputs": [
    {
     "name": "stdout",
     "output_type": "stream",
     "text": [
      "Follow my github profile, username is: Salmankh3\n"
     ]
    }
   ],
   "source": [
    "# Exercise 8.1\n",
    "def display_message():\n",
    "    msg = \"Follow my github profile, username is: Salmankh3\"\n",
    "    print(msg)\n",
    "\n",
    "display_message()"
   ]
  },
  {
   "cell_type": "code",
   "execution_count": 2,
   "metadata": {},
   "outputs": [
    {
     "name": "stdout",
     "output_type": "stream",
     "text": [
      "The Kite Runner is one of my favorite books.\n"
     ]
    }
   ],
   "source": [
    "# Exeercise 8.2\n",
    "def favorite_book(title):\n",
    "    print(title + \" is one of my favorite books.\")\n",
    "\n",
    "favorite_book('The Kite Runner')"
   ]
  },
  {
   "cell_type": "code",
   "execution_count": 4,
   "metadata": {},
   "outputs": [
    {
     "name": "stdout",
     "output_type": "stream",
     "text": [
      "\n",
      "I'm going to make a large t-shirt.\n",
      "It will say, \"Let us begin!\"\n",
      "\n",
      "I'm going to make a medium t-shirt.\n",
      "It will say, \"Consistency is necessary to achieve goals.\"\n"
     ]
    }
   ],
   "source": [
    "# Exercise 8.3\n",
    "def make_shirt(size, message):\n",
    "    print(\"\\nI'm going to make a \" + size + \" t-shirt.\")\n",
    "    print('It will say, \"' + message + '\"')\n",
    "\n",
    "make_shirt('large', 'Let us begin!')\n",
    "make_shirt(message=\"Consistency is necessary to achieve goals.\", size='medium')"
   ]
  },
  {
   "cell_type": "code",
   "execution_count": 6,
   "metadata": {},
   "outputs": [
    {
     "name": "stdout",
     "output_type": "stream",
     "text": [
      "\n",
      "I'm going to make a large t-shirt.\n",
      "It will say, \"You can be the Best!\"\n",
      "\n",
      "I'm going to make a medium t-shirt.\n",
      "It will say, \"You can be the Best!\"\n",
      "\n",
      "I'm going to make a small t-shirt.\n",
      "It will say, \"University is great\"\n"
     ]
    }
   ],
   "source": [
    "# Exercise 8.4\n",
    "def shirt(size='large', message='You can be the Best!'):\n",
    "    print(\"\\nI'm going to make a \" + size + \" t-shirt.\")\n",
    "    print('It will say, \"' + message + '\"')\n",
    "\n",
    "shirt()\n",
    "shirt(size='medium')\n",
    "shirt('small', 'University is great')"
   ]
  },
  {
   "cell_type": "code",
   "execution_count": 1,
   "metadata": {},
   "outputs": [
    {
     "name": "stdout",
     "output_type": "stream",
     "text": [
      "Islamabad is in Pakistan.\n",
      "Mumbai is in India.\n",
      "Karachi is in Pakistan.\n"
     ]
    }
   ],
   "source": [
    "# Exercise 8.5\n",
    "def describe_city(city, country='pakistan'):\n",
    "    \"\"\"Describe a city.\"\"\"\n",
    "    msg = city.title() + \" is in \" + country.title() + \".\"\n",
    "    print(msg)\n",
    "\n",
    "describe_city('islamabad')\n",
    "describe_city('mumbai', 'india')\n",
    "describe_city('karachi')"
   ]
  },
  {
   "cell_type": "code",
   "execution_count": 2,
   "metadata": {},
   "outputs": [
    {
     "name": "stdout",
     "output_type": "stream",
     "text": [
      "Lahore, Pakistan\n",
      "Ahmedabad, India\n",
      "Kabul, Afghanistan\n"
     ]
    }
   ],
   "source": [
    "# Exercise 8.6\n",
    "def city_country(city, country):\n",
    "    \"\"\"Return a string like 'Santiago, Chile'.\"\"\"\n",
    "    return(city.title() + \", \" + country.title())\n",
    "\n",
    "city = city_country('lahore', 'pakistan')\n",
    "print(city)\n",
    "\n",
    "city = city_country('ahmedabad', 'india')\n",
    "print(city)\n",
    "\n",
    "city = city_country('kabul', 'afghanistan')\n",
    "print(city)"
   ]
  },
  {
   "cell_type": "code",
   "execution_count": 3,
   "metadata": {},
   "outputs": [
    {
     "name": "stdout",
     "output_type": "stream",
     "text": [
      "{'artist': 'Atif Aslam', 'title': 'Jal'}\n",
      "{'artist': 'Ali Zafar', 'title': 'Psl'}\n",
      "{'artist': 'Imran Khan', 'title': 'Unforgettable'}\n"
     ]
    }
   ],
   "source": [
    "# Exercise 8.7 (a)\n",
    "def make_album(artist, title):\n",
    "    \"\"\"Build a dictionary containing information about an album.\"\"\"\n",
    "    album_dict = {\n",
    "        'artist': artist.title(),\n",
    "        'title': title.title(),\n",
    "        }\n",
    "    return album_dict\n",
    "\n",
    "album = make_album('Atif Aslam', 'Jal')\n",
    "print(album)\n",
    "\n",
    "album = make_album('Ali Zafar', 'PSL')\n",
    "print(album)\n",
    "\n",
    "album = make_album('Imran Khan', 'Unforgettable')\n",
    "print(album)"
   ]
  },
  {
   "cell_type": "code",
   "execution_count": 10,
   "metadata": {},
   "outputs": [
    {
     "name": "stdout",
     "output_type": "stream",
     "text": [
      "{'artist': 'Atif Aslam', 'title': 'Jal', 'tracks': 8}\n",
      "{'artist': 'Ali Zafar', 'title': 'Psl', 'tracks': 3}\n"
     ]
    }
   ],
   "source": [
    "# Exercise 8.7 (b)\n",
    "def make_album(artist, title, tracks=0):\n",
    "    \"\"\"Build a dictionary containing information about an album.\"\"\"\n",
    "    album_dict = {\n",
    "        'artist': artist.title(),\n",
    "        'title': title.title(),\n",
    "        }\n",
    "    if tracks:\n",
    "        album_dict['tracks'] = tracks\n",
    "    return album_dict\n",
    "    \n",
    "album = make_album('Atif Aslam', 'Jal', tracks=8)\n",
    "print(album)\n",
    "\n",
    "album = make_album('Ali Zafar', 'PSL',3)\n",
    "print(album)"
   ]
  },
  {
   "cell_type": "code",
   "execution_count": 11,
   "metadata": {},
   "outputs": [
    {
     "name": "stdout",
     "output_type": "stream",
     "text": [
      "Enter 'quit' at any time to stop.\n",
      "\n",
      "What album are you thinking of? Jal\n",
      "Who's the artist? Atif Aslam\n",
      "{'artist': 'Atif Aslam', 'title': 'Jal'}\n",
      "\n",
      "What album are you thinking of? quit\n",
      "\n",
      "Thanks for responding!\n"
     ]
    }
   ],
   "source": [
    "# Exercise 8.8\n",
    "def make_album(artist, title, tracks=0):\n",
    "    \"\"\"Build a dictionary containing information about an album.\"\"\"\n",
    "    album_dict = {\n",
    "        'artist': artist.title(),\n",
    "        'title': title.title(),\n",
    "        }\n",
    "    if tracks:\n",
    "        album_dict['tracks'] = tracks\n",
    "    return album_dict\n",
    "\n",
    "title_prompt = \"\\nWhat album are you thinking of? \"\n",
    "artist_prompt = \"Who's the artist? \"\n",
    "\n",
    "print(\"Enter 'quit' at any time to stop.\")\n",
    "\n",
    "while True:\n",
    "    title = input(title_prompt)\n",
    "    if title == 'quit':\n",
    "        break\n",
    "    \n",
    "    artist = input(artist_prompt)\n",
    "    if artist == 'quit':\n",
    "        break\n",
    "\n",
    "    album = make_album(artist, title)\n",
    "    print(album)\n",
    "\n",
    "print(\"\\nThanks for responding!\")"
   ]
  },
  {
   "cell_type": "code",
   "execution_count": 12,
   "metadata": {},
   "outputs": [
    {
     "name": "stdout",
     "output_type": "stream",
     "text": [
      "Harry Houdini\n",
      "David Blaine\n",
      "Teller\n"
     ]
    }
   ],
   "source": [
    "# Exercise 8.9\n",
    "def show_magicians(magicians):\n",
    "    \"\"\"Print the name of each magician in the list.\"\"\"\n",
    "    for magician in magicians:\n",
    "        print(magician.title())\n",
    "\n",
    "magicians = ['harry houdini', 'david blaine', 'teller']\n",
    "show_magicians(magicians)"
   ]
  },
  {
   "cell_type": "code",
   "execution_count": 13,
   "metadata": {},
   "outputs": [
    {
     "name": "stdout",
     "output_type": "stream",
     "text": [
      "Harry Houdini\n",
      "David Blaine\n",
      "Teller\n",
      "\n",
      "\n",
      "Teller the Great\n",
      "David Blaine the Great\n",
      "Harry Houdini the Great\n"
     ]
    }
   ],
   "source": [
    "# Exercise 8.10\n",
    "def show_magicians(magicians):\n",
    "    \"\"\"Print the name of each magician in the list.\"\"\"\n",
    "    for magician in magicians:\n",
    "        print(magician)\n",
    "\n",
    "def make_great(magicians):\n",
    "    \"\"\"Add 'the Great!' to each magician's name.\"\"\"\n",
    "    great_magicians = []\n",
    "\n",
    "    while magicians:\n",
    "        magician = magicians.pop()\n",
    "        great_magician = magician + ' the Great'\n",
    "        great_magicians.append(great_magician)\n",
    "\n",
    "    for great_magician in great_magicians:\n",
    "        magicians.append(great_magician)\n",
    "\n",
    "magicians = ['Harry Houdini', 'David Blaine', 'Teller']\n",
    "show_magicians(magicians)\n",
    "\n",
    "print(\"\\n\")\n",
    "make_great(magicians)\n",
    "show_magicians(magicians)"
   ]
  },
  {
   "cell_type": "code",
   "execution_count": 16,
   "metadata": {},
   "outputs": [
    {
     "name": "stdout",
     "output_type": "stream",
     "text": [
      "Harry Houdini\n",
      "David Blaine\n",
      "Teller\n",
      "\n",
      "Great magicians:\n",
      "Teller the Great\n",
      "David Blaine the Great\n",
      "Harry Houdini the Great\n",
      "\n",
      "Original magicians:\n",
      "Teller the Great\n",
      "David Blaine the Great\n",
      "Harry Houdini the Great\n"
     ]
    }
   ],
   "source": [
    "# Exercise 8.11\n",
    "def show_magicians(magicians):\n",
    "    \"\"\"Print the name of each magician in the list.\"\"\"\n",
    "    for magician in magicians:\n",
    "        print(magician)\n",
    "\n",
    "def make_great(magicians):\n",
    "    \"\"\"Add 'the Great!' to each magician's name.\"\"\"\n",
    "    # Build a new list to hold the great musicians.\n",
    "    great_magicians = []\n",
    "\n",
    "    # Make each magician great, and add it to great_magicians.\n",
    "    while magicians:\n",
    "        magician = magicians.pop()\n",
    "        great_magician = magician + ' the Great'\n",
    "        great_magicians.append(great_magician)\n",
    "\n",
    "    # Add the great magicians back into magicians.\n",
    "    for great_magician in great_magicians:\n",
    "        magicians.append(great_magician)\n",
    "\n",
    "    return magicians\n",
    "\n",
    "magicians = ['Harry Houdini', 'David Blaine', 'Teller']\n",
    "show_magicians(magicians)\n",
    "\n",
    "print(\"\\nGreat magicians:\")\n",
    "great_magicians = make_great(magicians)\n",
    "show_magicians(great_magicians)\n",
    "\n",
    "print(\"\\nOriginal magicians:\")\n",
    "show_magicians(magicians)"
   ]
  },
  {
   "cell_type": "code",
   "execution_count": 17,
   "metadata": {},
   "outputs": [
    {
     "name": "stdout",
     "output_type": "stream",
     "text": [
      "\n",
      "I'll make you a great sandwich:\n",
      "  ...adding roast beef to your sandwich.\n",
      "  ...adding cheddar cheese to your sandwich.\n",
      "  ...adding lettuce to your sandwich.\n",
      "  ...adding honey dijon to your sandwich.\n",
      "Your sandwich is ready!\n",
      "\n",
      "I'll make you a great sandwich:\n",
      "  ...adding turkey to your sandwich.\n",
      "  ...adding apple slices to your sandwich.\n",
      "  ...adding honey mustard to your sandwich.\n",
      "Your sandwich is ready!\n",
      "\n",
      "I'll make you a great sandwich:\n",
      "  ...adding peanut butter to your sandwich.\n",
      "  ...adding strawberry jam to your sandwich.\n",
      "Your sandwich is ready!\n"
     ]
    }
   ],
   "source": [
    "# Exercise 8.12\n",
    "def make_sandwich(*items):\n",
    "    \"\"\"Make a sandwich with the given items.\"\"\"\n",
    "    print(\"\\nI'll make you a great sandwich:\")\n",
    "    for item in items:\n",
    "        print(\"  ...adding \" + item + \" to your sandwich.\")\n",
    "    print(\"Your sandwich is ready!\")\n",
    "\n",
    "make_sandwich('roast beef', 'cheddar cheese', 'lettuce', 'honey dijon')\n",
    "make_sandwich('turkey', 'apple slices', 'honey mustard')\n",
    "make_sandwich('peanut butter', 'strawberry jam')"
   ]
  },
  {
   "cell_type": "code",
   "execution_count": 18,
   "metadata": {},
   "outputs": [
    {
     "name": "stdout",
     "output_type": "stream",
     "text": [
      "{'manufacturer': 'Toyota', 'model': 'Corolla', 'color': 'blue', 'tow_package': True}\n",
      "{'manufacturer': 'Honda', 'model': 'Accord', 'year': 1991, 'color': 'white', 'headlights': 'popup'}\n"
     ]
    }
   ],
   "source": [
    "# Exercise 8.14\n",
    "def make_car(manufacturer, model, **options):\n",
    "    \"\"\"Make a dictionary representing a car.\"\"\"\n",
    "    car_dict = {\n",
    "        'manufacturer': manufacturer.title(),\n",
    "        'model': model.title(),\n",
    "        }\n",
    "    for option, value in options.items():\n",
    "        car_dict[option] = value\n",
    "\n",
    "    return car_dict\n",
    "\n",
    "my_outback = make_car('toyota', 'corolla', color='blue', tow_package=True)\n",
    "print(my_outback)\n",
    "\n",
    "my_accord = make_car('honda', 'accord', year=1991, color='white',\n",
    "        headlights='popup')\n",
    "print(my_accord)"
   ]
  }
 ],
 "metadata": {
  "kernelspec": {
   "display_name": "Python 3",
   "language": "python",
   "name": "python3"
  },
  "language_info": {
   "codemirror_mode": {
    "name": "ipython",
    "version": 3
   },
   "file_extension": ".py",
   "mimetype": "text/x-python",
   "name": "python",
   "nbconvert_exporter": "python",
   "pygments_lexer": "ipython3",
   "version": "3.7.0"
  }
 },
 "nbformat": 4,
 "nbformat_minor": 4
}
