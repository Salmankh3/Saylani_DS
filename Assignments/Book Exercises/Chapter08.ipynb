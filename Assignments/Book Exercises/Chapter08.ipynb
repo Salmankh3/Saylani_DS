{
 "cells": [
  {
   "cell_type": "markdown",
   "metadata": {},
   "source": [
    "Total Exercise Questions = 14"
   ]
  },
  {
   "cell_type": "code",
   "execution_count": 1,
   "metadata": {},
   "outputs": [
    {
     "name": "stdout",
     "output_type": "stream",
     "text": [
      "Follow my github profile, username is: Salmankh3\n"
     ]
    }
   ],
   "source": [
    "# Exercise 8.1\n",
    "def display_message():\n",
    "    msg = \"Follow my github profile, username is: Salmankh3\"\n",
    "    print(msg)\n",
    "\n",
    "display_message()"
   ]
  },
  {
   "cell_type": "code",
   "execution_count": 2,
   "metadata": {},
   "outputs": [
    {
     "name": "stdout",
     "output_type": "stream",
     "text": [
      "The Kite Runner is one of my favorite books.\n"
     ]
    }
   ],
   "source": [
    "# Exeercise 8.2\n",
    "def favorite_book(title):\n",
    "    print(title + \" is one of my favorite books.\")\n",
    "\n",
    "favorite_book('The Kite Runner')"
   ]
  },
  {
   "cell_type": "code",
   "execution_count": 4,
   "metadata": {},
   "outputs": [
    {
     "name": "stdout",
     "output_type": "stream",
     "text": [
      "\n",
      "I'm going to make a large t-shirt.\n",
      "It will say, \"Let us begin!\"\n",
      "\n",
      "I'm going to make a medium t-shirt.\n",
      "It will say, \"Consistency is necessary to achieve goals.\"\n"
     ]
    }
   ],
   "source": [
    "# Exercise 8.3\n",
    "def make_shirt(size, message):\n",
    "    print(\"\\nI'm going to make a \" + size + \" t-shirt.\")\n",
    "    print('It will say, \"' + message + '\"')\n",
    "\n",
    "make_shirt('large', 'Let us begin!')\n",
    "make_shirt(message=\"Consistency is necessary to achieve goals.\", size='medium')"
   ]
  },
  {
   "cell_type": "code",
   "execution_count": 6,
   "metadata": {},
   "outputs": [
    {
     "name": "stdout",
     "output_type": "stream",
     "text": [
      "\n",
      "I'm going to make a large t-shirt.\n",
      "It will say, \"You can be the Best!\"\n",
      "\n",
      "I'm going to make a medium t-shirt.\n",
      "It will say, \"You can be the Best!\"\n",
      "\n",
      "I'm going to make a small t-shirt.\n",
      "It will say, \"University is great\"\n"
     ]
    }
   ],
   "source": [
    "# Exercise 8.4\n",
    "def shirt(size='large', message='You can be the Best!'):\n",
    "    print(\"\\nI'm going to make a \" + size + \" t-shirt.\")\n",
    "    print('It will say, \"' + message + '\"')\n",
    "\n",
    "shirt()\n",
    "shirt(size='medium')\n",
    "shirt('small', 'University is great')"
   ]
  }
 ],
 "metadata": {
  "kernelspec": {
   "display_name": "Python 3",
   "language": "python",
   "name": "python3"
  },
  "language_info": {
   "codemirror_mode": {
    "name": "ipython",
    "version": 3
   },
   "file_extension": ".py",
   "mimetype": "text/x-python",
   "name": "python",
   "nbconvert_exporter": "python",
   "pygments_lexer": "ipython3",
   "version": "3.7.6"
  }
 },
 "nbformat": 4,
 "nbformat_minor": 4
}
