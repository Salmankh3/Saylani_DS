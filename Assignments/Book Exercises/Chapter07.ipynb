{
 "cells": [
  {
   "cell_type": "markdown",
   "metadata": {},
   "source": [
    "Total Exercise Questions = 8"
   ]
  },
  {
   "cell_type": "code",
   "execution_count": 1,
   "metadata": {},
   "outputs": [
    {
     "name": "stdout",
     "output_type": "stream",
     "text": [
      "What kind of a rental car do you like to have? Mehran\n",
      "Let me see if I could find a Mehran for you...\n"
     ]
    }
   ],
   "source": [
    "#Exercise 7.1\n",
    "car = input(\"What kind of a rental car do you like to have? \")\n",
    "print(\"Let me see if I could find a\",car,\"for you...\")"
   ]
  },
  {
   "cell_type": "code",
   "execution_count": 3,
   "metadata": {},
   "outputs": [
    {
     "name": "stdout",
     "output_type": "stream",
     "text": [
      "How many people are there in the waiting room? 10\n",
      "Let them wait! A new table should get ready\n"
     ]
    }
   ],
   "source": [
    "#Exercise 7.2\n",
    "num = int(input(\"How many people are there in the waiting room? \"))\n",
    "if num > 8:\n",
    "    print(\"Let them wait! A new table should get ready\")\n",
    "else:\n",
    "    print(\"Dinning Table is ready! Send them in!\")"
   ]
  },
  {
   "cell_type": "code",
   "execution_count": 12,
   "metadata": {},
   "outputs": [
    {
     "name": "stdout",
     "output_type": "stream",
     "text": [
      "Enter a number: 100\n",
      "100 is a multiple of 10\n"
     ]
    }
   ],
   "source": [
    "#Exercise 7.3\n",
    "num = int(input(\"Enter a number: \"))\n",
    "if num < 10:\n",
    "    print(\"You can't input a number less than 10!\")\n",
    "\n",
    "else:\n",
    "    if num % 10 == 0:\n",
    "        print(num,\"is a multiple of 10\")\n",
    "    else:\n",
    "        print(num,\"is NOT a multiple of 10\")"
   ]
  },
  {
   "cell_type": "code",
   "execution_count": 15,
   "metadata": {},
   "outputs": [
    {
     "name": "stdout",
     "output_type": "stream",
     "text": [
      "Enter the toppings you need on your Pizza:\n",
      "Enter quit when you finish: Cpasicum\n",
      "Cpasicum added to your Pizza!\n",
      "Enter the toppings you need on your Pizza:\n",
      "Enter quit when you finish: Olives\n",
      "Olives added to your Pizza!\n",
      "Enter the toppings you need on your Pizza:\n",
      "Enter quit when you finish: quit\n"
     ]
    }
   ],
   "source": [
    "#Exercise 7.4\n",
    "flag = True\n",
    "while flag:\n",
    "    piz_top = input(\"Enter the toppings you need on your Pizza:\\nEnter quit when you finish: \")\n",
    "    if piz_top != \"quit\":\n",
    "        print(piz_top,\"added to your Pizza!\")\n",
    "    else:\n",
    "        break"
   ]
  },
  {
   "cell_type": "code",
   "execution_count": 16,
   "metadata": {},
   "outputs": [
    {
     "name": "stdout",
     "output_type": "stream",
     "text": [
      "Enter How Old are You?\n",
      " Enter quit to finish: 4\n",
      "Your Ticket is 10$\n",
      "Enter How Old are You?\n",
      " Enter quit to finish: 2\n",
      "You can get in for Free!!\n",
      "Enter How Old are You?\n",
      " Enter quit to finish: 13\n",
      "You Ticket is 15$\n",
      "Enter How Old are You?\n",
      " Enter quit to finish: 12\n",
      "Your Ticket is 10$\n",
      "Enter How Old are You?\n",
      " Enter quit to finish: 3\n",
      "Your Ticket is 10$\n",
      "Enter How Old are You?\n",
      " Enter quit to finish: quit\n"
     ]
    }
   ],
   "source": [
    "#Exercise 7.5\n",
    "f = True\n",
    "while f:\n",
    "    age = input(\"Enter How Old are You?\\n Enter quit to finish: \")\n",
    "    if age == \"quit\":\n",
    "        break\n",
    "    else:\n",
    "        age1 = int(age)\n",
    "        if age1 < 3:\n",
    "            print(\"You can get in for Free!!\")\n",
    "        elif age1 >= 3 and age1 < 13:\n",
    "            print(\"Your Ticket is 10$\")\n",
    "        else:\n",
    "            print(\"You Ticket is 15$\")"
   ]
  },
  {
   "cell_type": "code",
   "execution_count": 17,
   "metadata": {},
   "outputs": [
    {
     "name": "stdout",
     "output_type": "stream",
     "text": [
      "I'm working on your BBQ sandwich.\n",
      "I'm working on your Crispy Chicken sandwich.\n",
      "I'm working on your Grilled Cheese sandwich.\n",
      "I'm working on your Egg sandwich.\n",
      "\n",
      "\n",
      "I made a BBQ sandwich.\n",
      "I made a Crispy Chicken sandwich.\n",
      "I made a Grilled Cheese sandwich.\n",
      "I made a Egg sandwich.\n"
     ]
    }
   ],
   "source": [
    "#Exercise 7.8\n",
    "sandwiches = ['Egg', 'Grilled Cheese', 'Crispy Chicken', 'BBQ']\n",
    "finished = []\n",
    "\n",
    "while sandwiches:\n",
    "    sandwich = sandwiches.pop()\n",
    "    print(\"I'm working on your \" + sandwich + \" sandwich.\")\n",
    "    finished.append(sandwich)\n",
    "\n",
    "print(\"\\n\")\n",
    "for s in finished:\n",
    "    print(\"I made a \" + s + \" sandwich.\")"
   ]
  },
  {
   "cell_type": "code",
   "execution_count": 20,
   "metadata": {},
   "outputs": [
    {
     "name": "stdout",
     "output_type": "stream",
     "text": [
      "I'm sorry, we're all out of Pastrami today.\n",
      "\n",
      "I'm working on your BBQ sandwich.\n",
      "I'm working on your Crispy Chicken sandwich.\n",
      "I'm working on your Grilled Cheese sandwich.\n",
      "I'm working on your Egg sandwich.\n",
      "\n",
      "\n",
      "I made a BBQ sandwich.\n",
      "I made a Crispy Chicken sandwich.\n",
      "I made a Grilled Cheese sandwich.\n",
      "I made a Egg sandwich.\n"
     ]
    }
   ],
   "source": [
    "#Exercise 7.9\n",
    "sandwiches = ['Egg', 'Grilled Cheese', 'Pastrami', 'Crispy Chicken', 'BBQ', 'Pastrami']\n",
    "finished = []\n",
    "\n",
    "print(\"I'm sorry, we're all out of Pastrami today.\\n\")\n",
    "while 'Pastrami' in sandwiches:\n",
    "    sandwiches.remove('Pastrami')\n",
    "\n",
    "while sandwiches:\n",
    "    sandwich = sandwiches.pop()\n",
    "    print(\"I'm working on your \" + sandwich + \" sandwich.\")\n",
    "    finished.append(sandwich)\n",
    "\n",
    "print(\"\\n\")\n",
    "for s in finished:\n",
    "    print(\"I made a \" + s + \" sandwich.\")"
   ]
  },
  {
   "cell_type": "code",
   "execution_count": 21,
   "metadata": {},
   "outputs": [
    {
     "name": "stdout",
     "output_type": "stream",
     "text": [
      "\n",
      "What's your name? Salman\n",
      "If you could visit one place in the world, where would it be? Turkey\n",
      "\n",
      "Would you like to let someone else respond? (yes/no) yes\n",
      "\n",
      "What's your name? Uzaif\n",
      "If you could visit one place in the world, where would it be? USA\n",
      "\n",
      "Would you like to let someone else respond? (yes/no) yes\n",
      "\n",
      "What's your name? Talha\n",
      "If you could visit one place in the world, where would it be? Malaysia\n",
      "\n",
      "Would you like to let someone else respond? (yes/no) no\n",
      "\n",
      "--- Results ---\n",
      "Salman would like to visit Turkey.\n",
      "Uzaif would like to visit Usa.\n",
      "Talha would like to visit Malaysia.\n"
     ]
    }
   ],
   "source": [
    "#Exercise 7.10\n",
    "name_prompt = \"\\nWhat's your name? \"\n",
    "place_prompt = \"If you could visit one place in the world, where would it be? \"\n",
    "continue_prompt = \"\\nWould you like to let someone else respond? (yes/no) \"\n",
    "\n",
    "responses = {}\n",
    "\n",
    "while True:\n",
    "    name = input(name_prompt)\n",
    "    place = input(place_prompt)\n",
    "\n",
    "    responses[name] = place\n",
    "\n",
    "    repeat = input(continue_prompt)\n",
    "    if repeat != 'yes':\n",
    "        break\n",
    "\n",
    "print(\"\\n--- Results ---\")\n",
    "for name, place in responses.items():\n",
    "    print(name.title() + \" would like to visit \" + place.title() + \".\")"
   ]
  }
 ],
 "metadata": {
  "kernelspec": {
   "display_name": "Python 3",
   "language": "python",
   "name": "python3"
  },
  "language_info": {
   "codemirror_mode": {
    "name": "ipython",
    "version": 3
   },
   "file_extension": ".py",
   "mimetype": "text/x-python",
   "name": "python",
   "nbconvert_exporter": "python",
   "pygments_lexer": "ipython3",
   "version": "3.7.0"
  }
 },
 "nbformat": 4,
 "nbformat_minor": 2
}
