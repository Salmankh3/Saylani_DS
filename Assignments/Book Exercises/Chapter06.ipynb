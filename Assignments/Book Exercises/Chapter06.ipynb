{
 "cells": [
  {
   "cell_type": "markdown",
   "metadata": {},
   "source": [
    "Total Exercise Questions = 12"
   ]
  },
  {
   "cell_type": "code",
   "execution_count": 7,
   "metadata": {},
   "outputs": [
    {
     "name": "stdout",
     "output_type": "stream",
     "text": [
      "first_name : Salman\n",
      "last_name : Abdul Rahim\n",
      "age : 21\n",
      "city : Karachi\n"
     ]
    }
   ],
   "source": [
    "#Exercise 6.1\n",
    "a = {\"first_name\": \"Salman\",\n",
    "     \"last_name\": \"Abdul Rahim\",\n",
    "     \"age\": 21, \n",
    "     \"city\": \"Karachi\"}\n",
    "for k,v in a.items():\n",
    "    print(k,\":\",v)"
   ]
  },
  {
   "cell_type": "code",
   "execution_count": 8,
   "metadata": {},
   "outputs": [
    {
     "name": "stdout",
     "output_type": "stream",
     "text": [
      "Salman : 45\n",
      "Uzaif : 20\n",
      "Nabeel : 12\n",
      "Umair : 50\n"
     ]
    }
   ],
   "source": [
    "#Exercise 6.2\n",
    "b = {\"Salman\": 45,\n",
    "     \"Uzaif\": 20,\n",
    "     \"Nabeel\": 12, \n",
    "     \"Umair\": 50}\n",
    "for k,v in b.items():\n",
    "    print(k,\":\",v)"
   ]
  },
  {
   "cell_type": "code",
   "execution_count": 11,
   "metadata": {},
   "outputs": [
    {
     "name": "stdout",
     "output_type": "stream",
     "text": [
      "Program : A set of instructions that tell a computer how to perform a task\n",
      "Loop : A programming structure that repeats a sequence of instructions\n",
      "Variable : Names used to hold one or more values\n"
     ]
    }
   ],
   "source": [
    "#Exercise 6.3\n",
    "glossary = {\"Program\":\"A set of instructions that tell a computer how to perform a task\",\n",
    "           \"Loop\":\"A programming structure that repeats a sequence of instructions\",\n",
    "           \"Variable\":\"Names used to hold one or more values\"}\n",
    "for k,v in glossary.items():\n",
    "    print(k,\":\",v)"
   ]
  },
  {
   "cell_type": "code",
   "execution_count": 12,
   "metadata": {},
   "outputs": [
    {
     "name": "stdout",
     "output_type": "stream",
     "text": [
      "Program : A set of instructions that tell a computer how to perform a task\n",
      "Loop : A programming structure that repeats a sequence of instructions\n",
      "Variable : Names used to hold one or more values\n",
      "Function : Self contained modules of code that accomplish a specific task\n",
      "Class : Blueprint that defines behavior and attributes\n",
      "Object : Instance of class\n"
     ]
    }
   ],
   "source": [
    "#Exercise 6.4\n",
    "glossary2 = {\"Program\":\"A set of instructions that tell a computer how to perform a task\",\n",
    "           \"Loop\":\"A programming structure that repeats a sequence of instructions\",\n",
    "           \"Variable\":\"Names used to hold one or more values\",\n",
    "            \"Function\":\"Self contained modules of code that accomplish a specific task\",\n",
    "            \"Class\":\"Blueprint that defines behavior and attributes\",\n",
    "            \"Object\":\"Instance of class\"}\n",
    "for k,v in glossary2.items():\n",
    "    print(k,\":\",v)"
   ]
  },
  {
   "cell_type": "code",
   "execution_count": 6,
   "metadata": {},
   "outputs": [
    {
     "name": "stdout",
     "output_type": "stream",
     "text": [
      "The River Nile flows in Egypt\n",
      "The River Indus flows in Pakistan\n",
      "The River Ganga flows in India\n",
      "\n",
      "Rivers Are: \n",
      "- Nile\n",
      "- Indus\n",
      "- Ganga\n",
      "\n",
      "Countries Are: \n",
      "- Egypt\n",
      "- Pakistan\n",
      "- India\n"
     ]
    }
   ],
   "source": [
    "#Exercise 6.5\n",
    "river = {\"Nile\":\"Egypt\",\"Indus\":\"Pakistan\",\"Ganga\":\"India\"}\n",
    "for k,v in river.items():\n",
    "    print(\"The River\",k,\"flows in\",v)\n",
    "print(\"\\nRivers Are: \")\n",
    "for r in river.keys():\n",
    "    print(\"-\",r)\n",
    "print(\"\\nCountries Are: \")\n",
    "for c in river.values():\n",
    "    print(\"-\",c)"
   ]
  },
  {
   "cell_type": "code",
   "execution_count": 8,
   "metadata": {},
   "outputs": [
    {
     "name": "stdout",
     "output_type": "stream",
     "text": [
      "Thanks for your response Jen\n",
      "Salman Please respond to our query!\n",
      "Uzaif Please respond to our query!\n",
      "Thanks for your response Sarah\n",
      "Thanks for your response Phil\n",
      "Thanks for your response Edward\n"
     ]
    }
   ],
   "source": [
    "#Exercise 6.6\n",
    "favorite_languages = {'Jen': 'Python','Sarah': 'C','Edward': 'Ruby','Phil': 'Python'}\n",
    "fav_lang_poll = [\"Jen\",\"Salman\",\"Uzaif\",\"Sarah\",\"Phil\",\"Edward\"]\n",
    "for i in fav_lang_poll:\n",
    "    if i in favorite_languages.keys():\n",
    "        print(\"Thanks for your response\",i)\n",
    "    else:\n",
    "        print(i,\"Please respond to our query!\")"
   ]
  },
  {
   "cell_type": "code",
   "execution_count": 20,
   "metadata": {},
   "outputs": [
    {
     "name": "stdout",
     "output_type": "stream",
     "text": [
      "first_name : Salman\n",
      "last_name : Abdul Rahim\n",
      "age : 21\n",
      "city : Karachi\n",
      "\n",
      "\n",
      "first_name : Uzaif Ahmed\n",
      "last_name : Bashir Ahmed\n",
      "age : 24\n",
      "city : Karachi\n",
      "\n",
      "\n",
      "first_name : Iqra\n",
      "last_name : Manzoor\n",
      "age : 23\n",
      "city : Quetta\n",
      "\n",
      "\n",
      "first_name : Nawaz\n",
      "last_name : Shareef\n",
      "age : 70\n",
      "city : London\n",
      "\n",
      "\n"
     ]
    }
   ],
   "source": [
    "#Exercise 6.7\n",
    "people_bio = [{\"first_name\": \"Salman\",\"last_name\": \"Abdul Rahim\",\"age\": 21, \"city\": \"Karachi\"},\n",
    "              {\"first_name\": \"Uzaif Ahmed\",\"last_name\": \"Bashir Ahmed\",\"age\": 24, \"city\": \"Karachi\"},\n",
    "              {\"first_name\": \"Iqra\",\"last_name\": \"Manzoor\",\"age\": 23, \"city\": \"Quetta\"},\n",
    "              {\"first_name\": \"Nawaz\",\"last_name\": \"Shareef\",\"age\": 70, \"city\": \"London\"}\n",
    "             ]\n",
    "for i in people_bio:\n",
    "    for k,v in i.items():\n",
    "        print(k,\":\",v)\n",
    "    print(\"\\n\")"
   ]
  },
  {
   "cell_type": "code",
   "execution_count": null,
   "metadata": {},
   "outputs": [],
   "source": []
  }
 ],
 "metadata": {
  "kernelspec": {
   "display_name": "Python 3",
   "language": "python",
   "name": "python3"
  },
  "language_info": {
   "codemirror_mode": {
    "name": "ipython",
    "version": 3
   },
   "file_extension": ".py",
   "mimetype": "text/x-python",
   "name": "python",
   "nbconvert_exporter": "python",
   "pygments_lexer": "ipython3",
   "version": "3.7.0"
  }
 },
 "nbformat": 4,
 "nbformat_minor": 4
}
