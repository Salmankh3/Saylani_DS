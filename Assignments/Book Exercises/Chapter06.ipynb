{
 "cells": [
  {
   "cell_type": "markdown",
   "metadata": {},
   "source": [
    "Total Exercise Questions = 12"
   ]
  },
  {
   "cell_type": "code",
   "execution_count": 7,
   "metadata": {},
   "outputs": [
    {
     "name": "stdout",
     "output_type": "stream",
     "text": [
      "first_name : Salman\n",
      "last_name : Abdul Rahim\n",
      "age : 21\n",
      "city : Karachi\n"
     ]
    }
   ],
   "source": [
    "#Exercise 6.1\n",
    "a = {\"first_name\": \"Salman\",\n",
    "     \"last_name\": \"Abdul Rahim\",\n",
    "     \"age\": 21, \n",
    "     \"city\": \"Karachi\"}\n",
    "for k,v in a.items():\n",
    "    print(k,\":\",v)\n",
    "    "
   ]
  },
  {
   "cell_type": "code",
   "execution_count": 8,
   "metadata": {},
   "outputs": [
    {
     "name": "stdout",
     "output_type": "stream",
     "text": [
      "Salman : 45\n",
      "Uzaif : 20\n",
      "Nabeel : 12\n",
      "Umair : 50\n"
     ]
    }
   ],
   "source": [
    "#Exercise 6.2\n",
    "b = {\"Salman\": 45,\n",
    "     \"Uzaif\": 20,\n",
    "     \"Nabeel\": 12, \n",
    "     \"Umair\": 50}\n",
    "for k,v in b.items():\n",
    "    print(k,\":\",v)"
   ]
  },
  {
   "cell_type": "code",
   "execution_count": 11,
   "metadata": {},
   "outputs": [
    {
     "name": "stdout",
     "output_type": "stream",
     "text": [
      "Program : A set of instructions that tell a computer how to perform a task\n",
      "Loop : A programming structure that repeats a sequence of instructions\n",
      "Variable : Names used to hold one or more values\n"
     ]
    }
   ],
   "source": [
    "#Exercise 6.3\n",
    "glossary = {\"Program\":\"A set of instructions that tell a computer how to perform a task\",\n",
    "           \"Loop\":\"A programming structure that repeats a sequence of instructions\",\n",
    "           \"Variable\":\"Names used to hold one or more values\"}\n",
    "for k,v in glossary.items():\n",
    "    print(k,\":\",v)"
   ]
  },
  {
   "cell_type": "code",
   "execution_count": 12,
   "metadata": {},
   "outputs": [
    {
     "name": "stdout",
     "output_type": "stream",
     "text": [
      "Program : A set of instructions that tell a computer how to perform a task\n",
      "Loop : A programming structure that repeats a sequence of instructions\n",
      "Variable : Names used to hold one or more values\n",
      "Function : Self contained modules of code that accomplish a specific task\n",
      "Class : Blueprint that defines behavior and attributes\n",
      "Object : Instance of class\n"
     ]
    }
   ],
   "source": [
    "#Exercise 6.4\n",
    "glossary2 = {\"Program\":\"A set of instructions that tell a computer how to perform a task\",\n",
    "           \"Loop\":\"A programming structure that repeats a sequence of instructions\",\n",
    "           \"Variable\":\"Names used to hold one or more values\",\n",
    "            \"Function\":\"Self contained modules of code that accomplish a specific task\",\n",
    "            \"Class\":\"Blueprint that defines behavior and attributes\",\n",
    "            \"Object\":\"Instance of class\"}\n",
    "for k,v in glossary2.items():\n",
    "    print(k,\":\",v)"
   ]
  },
  {
   "cell_type": "code",
   "execution_count": null,
   "metadata": {},
   "outputs": [],
   "source": []
  }
 ],
 "metadata": {
  "kernelspec": {
   "display_name": "Python 3",
   "language": "python",
   "name": "python3"
  },
  "language_info": {
   "codemirror_mode": {
    "name": "ipython",
    "version": 3
   },
   "file_extension": ".py",
   "mimetype": "text/x-python",
   "name": "python",
   "nbconvert_exporter": "python",
   "pygments_lexer": "ipython3",
   "version": "3.8.5"
  }
 },
 "nbformat": 4,
 "nbformat_minor": 4
}
