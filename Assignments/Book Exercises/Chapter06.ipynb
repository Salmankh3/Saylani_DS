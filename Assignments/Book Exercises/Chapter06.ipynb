{
 "cells": [
  {
   "cell_type": "markdown",
   "metadata": {},
   "source": [
    "Total Exercise Questions = 11"
   ]
  },
  {
   "cell_type": "code",
   "execution_count": 7,
   "metadata": {},
   "outputs": [
    {
     "name": "stdout",
     "output_type": "stream",
     "text": [
      "first_name : Salman\n",
      "last_name : Abdul Rahim\n",
      "age : 21\n",
      "city : Karachi\n"
     ]
    }
   ],
   "source": [
    "#Exercise 6.1\n",
    "a = {\"first_name\": \"Salman\",\n",
    "     \"last_name\": \"Abdul Rahim\",\n",
    "     \"age\": 21, \n",
    "     \"city\": \"Karachi\"}\n",
    "for k,v in a.items():\n",
    "    print(k,\":\",v)"
   ]
  },
  {
   "cell_type": "code",
   "execution_count": 8,
   "metadata": {},
   "outputs": [
    {
     "name": "stdout",
     "output_type": "stream",
     "text": [
      "Salman : 45\n",
      "Uzaif : 20\n",
      "Nabeel : 12\n",
      "Umair : 50\n"
     ]
    }
   ],
   "source": [
    "#Exercise 6.2\n",
    "b = {\"Salman\": 45,\n",
    "     \"Uzaif\": 20,\n",
    "     \"Nabeel\": 12, \n",
    "     \"Umair\": 50}\n",
    "for k,v in b.items():\n",
    "    print(k,\":\",v)"
   ]
  },
  {
   "cell_type": "code",
   "execution_count": 11,
   "metadata": {},
   "outputs": [
    {
     "name": "stdout",
     "output_type": "stream",
     "text": [
      "Program : A set of instructions that tell a computer how to perform a task\n",
      "Loop : A programming structure that repeats a sequence of instructions\n",
      "Variable : Names used to hold one or more values\n"
     ]
    }
   ],
   "source": [
    "#Exercise 6.3\n",
    "glossary = {\"Program\":\"A set of instructions that tell a computer how to perform a task\",\n",
    "           \"Loop\":\"A programming structure that repeats a sequence of instructions\",\n",
    "           \"Variable\":\"Names used to hold one or more values\"}\n",
    "for k,v in glossary.items():\n",
    "    print(k,\":\",v)"
   ]
  },
  {
   "cell_type": "code",
   "execution_count": 12,
   "metadata": {},
   "outputs": [
    {
     "name": "stdout",
     "output_type": "stream",
     "text": [
      "Program : A set of instructions that tell a computer how to perform a task\n",
      "Loop : A programming structure that repeats a sequence of instructions\n",
      "Variable : Names used to hold one or more values\n",
      "Function : Self contained modules of code that accomplish a specific task\n",
      "Class : Blueprint that defines behavior and attributes\n",
      "Object : Instance of class\n"
     ]
    }
   ],
   "source": [
    "#Exercise 6.4\n",
    "glossary2 = {\"Program\":\"A set of instructions that tell a computer how to perform a task\",\n",
    "           \"Loop\":\"A programming structure that repeats a sequence of instructions\",\n",
    "           \"Variable\":\"Names used to hold one or more values\",\n",
    "            \"Function\":\"Self contained modules of code that accomplish a specific task\",\n",
    "            \"Class\":\"Blueprint that defines behavior and attributes\",\n",
    "            \"Object\":\"Instance of class\"}\n",
    "for k,v in glossary2.items():\n",
    "    print(k,\":\",v)"
   ]
  },
  {
   "cell_type": "code",
   "execution_count": 6,
   "metadata": {},
   "outputs": [
    {
     "name": "stdout",
     "output_type": "stream",
     "text": [
      "The River Nile flows in Egypt\n",
      "The River Indus flows in Pakistan\n",
      "The River Ganga flows in India\n",
      "\n",
      "Rivers Are: \n",
      "- Nile\n",
      "- Indus\n",
      "- Ganga\n",
      "\n",
      "Countries Are: \n",
      "- Egypt\n",
      "- Pakistan\n",
      "- India\n"
     ]
    }
   ],
   "source": [
    "#Exercise 6.5\n",
    "river = {\"Nile\":\"Egypt\",\"Indus\":\"Pakistan\",\"Ganga\":\"India\"}\n",
    "for k,v in river.items():\n",
    "    print(\"The River\",k,\"flows in\",v)\n",
    "print(\"\\nRivers Are: \")\n",
    "for r in river.keys():\n",
    "    print(\"-\",r)\n",
    "print(\"\\nCountries Are: \")\n",
    "for c in river.values():\n",
    "    print(\"-\",c)"
   ]
  },
  {
   "cell_type": "code",
   "execution_count": 8,
   "metadata": {},
   "outputs": [
    {
     "name": "stdout",
     "output_type": "stream",
     "text": [
      "Thanks for your response Jen\n",
      "Salman Please respond to our query!\n",
      "Uzaif Please respond to our query!\n",
      "Thanks for your response Sarah\n",
      "Thanks for your response Phil\n",
      "Thanks for your response Edward\n"
     ]
    }
   ],
   "source": [
    "#Exercise 6.6\n",
    "favorite_languages = {'Jen': 'Python','Sarah': 'C','Edward': 'Ruby','Phil': 'Python'}\n",
    "fav_lang_poll = [\"Jen\",\"Salman\",\"Uzaif\",\"Sarah\",\"Phil\",\"Edward\"]\n",
    "for i in fav_lang_poll:\n",
    "    if i in favorite_languages.keys():\n",
    "        print(\"Thanks for your response\",i)\n",
    "    else:\n",
    "        print(i,\"Please respond to our query!\")"
   ]
  },
  {
   "cell_type": "code",
   "execution_count": 20,
   "metadata": {},
   "outputs": [
    {
     "name": "stdout",
     "output_type": "stream",
     "text": [
      "first_name : Salman\n",
      "last_name : Abdul Rahim\n",
      "age : 21\n",
      "city : Karachi\n",
      "\n",
      "\n",
      "first_name : Uzaif Ahmed\n",
      "last_name : Bashir Ahmed\n",
      "age : 24\n",
      "city : Karachi\n",
      "\n",
      "\n",
      "first_name : Iqra\n",
      "last_name : Manzoor\n",
      "age : 23\n",
      "city : Quetta\n",
      "\n",
      "\n",
      "first_name : Nawaz\n",
      "last_name : Shareef\n",
      "age : 70\n",
      "city : London\n",
      "\n",
      "\n"
     ]
    }
   ],
   "source": [
    "#Exercise 6.7\n",
    "people_bio = [{\"first_name\": \"Salman\",\"last_name\": \"Abdul Rahim\",\"age\": 21, \"city\": \"Karachi\"},\n",
    "              {\"first_name\": \"Uzaif Ahmed\",\"last_name\": \"Bashir Ahmed\",\"age\": 24, \"city\": \"Karachi\"},\n",
    "              {\"first_name\": \"Iqra\",\"last_name\": \"Manzoor\",\"age\": 23, \"city\": \"Quetta\"},\n",
    "              {\"first_name\": \"Nawaz\",\"last_name\": \"Shareef\",\"age\": 70, \"city\": \"London\"}\n",
    "             ]\n",
    "for i in people_bio:\n",
    "    for k,v in i.items():\n",
    "        print(k,\":\",v)\n",
    "    print(\"\\n\")"
   ]
  },
  {
   "cell_type": "code",
   "execution_count": 3,
   "metadata": {},
   "outputs": [
    {
     "name": "stdout",
     "output_type": "stream",
     "text": [
      "Kind Of Animal is Dog\n",
      "Owner is Raam Laal\n",
      "\n",
      "\n",
      "Kind Of Animal is Cat\n",
      "Owner is Hamza\n",
      "\n",
      "\n",
      "Kind Of Animal is Rabbit\n",
      "Owner is Farhan\n",
      "\n",
      "\n"
     ]
    }
   ],
   "source": [
    "#Exercise 6.8\n",
    "pets = []\n",
    "dog = {\"Kind Of Animal\": \"Dog\", \"Owner\":\"Raam Laal\"}\n",
    "cat = {\"Kind Of Animal\": \"Cat\", \"Owner\":\"Hamza\"}\n",
    "rabbit = {\"Kind Of Animal\": \"Rabbit\", \"Owner\":\"Farhan\"}\n",
    "pets.append(dog)\n",
    "pets.append(cat)\n",
    "pets.append(rabbit)\n",
    "\n",
    "for i in pets:\n",
    "    for k,v in i.items():\n",
    "        print(k,\"is\",v)\n",
    "    print(\"\\n\")"
   ]
  },
  {
   "cell_type": "code",
   "execution_count": 6,
   "metadata": {},
   "outputs": [
    {
     "name": "stdout",
     "output_type": "stream",
     "text": [
      "Salman likes to visit the following places:\n",
      "= Turkey\n",
      "= Australia\n",
      "= UK\n",
      "\n",
      "\n",
      "Uzaif likes to visit the following places:\n",
      "= Qatar\n",
      "= America\n",
      "= China\n",
      "\n",
      "\n",
      "Talha likes to visit the following places:\n",
      "= Malaysia\n",
      "= India\n",
      "= NewZealand\n",
      "\n",
      "\n"
     ]
    }
   ],
   "source": [
    "#Exercise 6.9\n",
    "fav_places = {\"Salman\": [\"Turkey\",\"Australia\",\"UK\"], \"Uzaif\": [\"Qatar\",\"America\",\"China\"], \"Talha\": [\"Malaysia\",\"India\",\"NewZealand\"]}\n",
    "for k,v in fav_places.items():\n",
    "    print(k,\"likes to visit the following places:\")\n",
    "    for place in v:\n",
    "        print(\"=\",place)\n",
    "    print(\"\\n\")\n"
   ]
  },
  {
   "cell_type": "code",
   "execution_count": 7,
   "metadata": {},
   "outputs": [
    {
     "name": "stdout",
     "output_type": "stream",
     "text": [
      "Salman likes these numbers:\n",
      "45\n",
      "36\n",
      "27\n",
      "\n",
      "\n",
      "Uzaif likes these numbers:\n",
      "20\n",
      "40\n",
      "60\n",
      "\n",
      "\n",
      "Nabeel likes these numbers:\n",
      "12\n",
      "99\n",
      "10\n",
      "\n",
      "\n"
     ]
    }
   ],
   "source": [
    "#Exercise 6.10\n",
    "fav_num = {\"Salman\": [45,36,27],\n",
    "     \"Uzaif\": [20,40,60],\n",
    "     \"Nabeel\": [12,99,10]}\n",
    "for k,v in fav_num.items():\n",
    "    print(k,\"likes these numbers:\")\n",
    "    for nums in v:\n",
    "        print(nums)\n",
    "    print(\"\\n\")"
   ]
  },
  {
   "cell_type": "code",
   "execution_count": 10,
   "metadata": {},
   "outputs": [
    {
     "name": "stdout",
     "output_type": "stream",
     "text": [
      "\n",
      "Swat is in Pakistan.\n",
      "  It has a population of about 2.3M.\n",
      "  The Falak Sar mountain is nearby.\n",
      "\n",
      "Tibet is in China/Nepal.\n",
      "  It has a population of about 2M.\n",
      "  The Mount Everest mountain is nearby.\n",
      "\n",
      "Fiorland is in NewZealand.\n",
      "  It has a population of about 1.3M.\n",
      "  The Tutoko mountain is nearby.\n"
     ]
    }
   ],
   "source": [
    "#Exercise 6.11\n",
    "cities = {\n",
    "    'Swat': {\n",
    "        'country': 'Pakistan',\n",
    "        'population': '2.3M',\n",
    "        'mountain': 'Falak Sar',\n",
    "        },\n",
    "    'Tibet': {\n",
    "        'country': 'China/Nepal',\n",
    "        'population': \"2M\",\n",
    "        'mountain': 'Mount Everest',\n",
    "        },\n",
    "    'Fiorland': {\n",
    "        'country': 'NewZealand',\n",
    "        'population': \"1.3M\",\n",
    "        'mountain': 'Tutoko',\n",
    "        }\n",
    "    }\n",
    "\n",
    "for city, city_info in cities.items():\n",
    "    country = city_info['country']\n",
    "    population = city_info['population']\n",
    "    mountains = city_info['mountain']\n",
    "\n",
    "    print(\"\\n\" + city.title() + \" is in \" + country + \".\")\n",
    "    print(\"  It has a population of about \" +population+ \".\")\n",
    "    print(\"  The \" + mountains + \" mountain is nearby.\")"
   ]
  }
 ],
 "metadata": {
  "kernelspec": {
   "display_name": "Python 3",
   "language": "python",
   "name": "python3"
  },
  "language_info": {
   "codemirror_mode": {
    "name": "ipython",
    "version": 3
   },
   "file_extension": ".py",
   "mimetype": "text/x-python",
   "name": "python",
   "nbconvert_exporter": "python",
   "pygments_lexer": "ipython3",
   "version": "3.7.0"
  }
 },
 "nbformat": 4,
 "nbformat_minor": 4
}
