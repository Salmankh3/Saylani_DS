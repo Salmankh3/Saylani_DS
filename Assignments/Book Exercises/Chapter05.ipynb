{
 "cells": [
  {
   "cell_type": "markdown",
   "metadata": {},
   "source": [
    "Total Exercise Questions = 11"
   ]
  },
  {
   "cell_type": "code",
   "execution_count": 3,
   "metadata": {},
   "outputs": [
    {
     "name": "stdout",
     "output_type": "stream",
     "text": [
      "Is food == 'biryani'? I predict True.\n",
      "True\n",
      "\n",
      "Is food == 'biryani'? I predict False.\n",
      "False\n"
     ]
    }
   ],
   "source": [
    "#Exercise 5.1\n",
    "food = 'biryani'\n",
    "print(\"Is food == 'biryani'? I predict True.\")\n",
    "print(food == 'biryani')\n",
    "print(\"\\nIs food == 'biryani'? I predict False.\")\n",
    "print(food == 'karhai')"
   ]
  },
  {
   "cell_type": "code",
   "execution_count": 4,
   "metadata": {},
   "outputs": [
    {
     "name": "stdout",
     "output_type": "stream",
     "text": [
      "Is fridge == 'haier'? I predict True.\n",
      "True\n",
      "\n",
      "Is fridge == 'haier'? I predict False.\n",
      "False\n"
     ]
    }
   ],
   "source": [
    "fridge = \"haier\"\n",
    "print(\"Is fridge == 'haier'? I predict True.\")\n",
    "print(fridge == 'haier')\n",
    "print(\"\\nIs fridge == 'haier'? I predict False.\")\n",
    "print(food == 'dawlance')"
   ]
  },
  {
   "cell_type": "code",
   "execution_count": 7,
   "metadata": {},
   "outputs": [
    {
     "name": "stdout",
     "output_type": "stream",
     "text": [
      "Is movie == 'venom'? I predict True.\n",
      "True\n",
      "\n",
      "Is movie == 'fast 9'? I predict False.\n",
      "False\n"
     ]
    }
   ],
   "source": [
    "movie = \"venom\"\n",
    "print(\"Is movie == 'venom'? I predict True.\")\n",
    "print(movie == 'venom')\n",
    "print(\"\\nIs movie == 'fast 9'? I predict False.\")\n",
    "print(movie == 'fast 9')"
   ]
  },
  {
   "cell_type": "code",
   "execution_count": 9,
   "metadata": {},
   "outputs": [
    {
     "name": "stdout",
     "output_type": "stream",
     "text": [
      "Is person == 'raheel'? I predict True.\n",
      "True\n",
      "\n",
      "Is person == 'umair'? I predict False.\n",
      "False\n"
     ]
    }
   ],
   "source": [
    "person = \"raheel\"\n",
    "print(\"Is person == 'raheel'? I predict True.\")\n",
    "print(person == 'raheel')\n",
    "print(\"\\nIs person == 'umair'? I predict False.\")\n",
    "print(person == 'umair')"
   ]
  },
  {
   "cell_type": "code",
   "execution_count": 10,
   "metadata": {},
   "outputs": [
    {
     "name": "stdout",
     "output_type": "stream",
     "text": [
      "Is cloud == 'public'? I predict True.\n",
      "True\n",
      "\n",
      "Is cloud == 'private'? I predict False.\n",
      "False\n"
     ]
    }
   ],
   "source": [
    "cloud = \"public\"\n",
    "print(\"Is cloud == 'public'? I predict True.\")\n",
    "print(cloud == 'public')\n",
    "print(\"\\nIs cloud == 'private'? I predict False.\")\n",
    "print(cloud == 'private')"
   ]
  },
  {
   "cell_type": "code",
   "execution_count": 11,
   "metadata": {},
   "outputs": [
    {
     "name": "stdout",
     "output_type": "stream",
     "text": [
      "Is the fish trout?\n",
      "True\n",
      "Is the fish barracuda?\n",
      "False\n"
     ]
    }
   ],
   "source": [
    "#Exercise 5.2\n",
    "fish = \"trout\"\n",
    "print(\"Is the fish trout?\")\n",
    "print(fish == \"trout\")\n",
    "print(\"Is the fish barracuda?\")\n",
    "print(fish == \"barracuda\")"
   ]
  },
  {
   "cell_type": "code",
   "execution_count": 13,
   "metadata": {},
   "outputs": [
    {
     "name": "stdout",
     "output_type": "stream",
     "text": [
      "Is the river Indus?\n",
      "False\n"
     ]
    }
   ],
   "source": [
    "river = \"INDus\"\n",
    "print(\"Is the river Indus?\")\n",
    "print(river.lower() == \"Indus\")"
   ]
  },
  {
   "cell_type": "code",
   "execution_count": 16,
   "metadata": {},
   "outputs": [
    {
     "name": "stdout",
     "output_type": "stream",
     "text": [
      "Is num1 is equal to num2?\n",
      "False\n",
      "\n",
      "Is num1 less than num2?\n",
      "True\n",
      "\n",
      "Is num1 greater than num2?\n",
      "False\n"
     ]
    }
   ],
   "source": [
    "num1 = 3\n",
    "num2 = 10\n",
    "print(\"Is num1 is equal to num2?\")\n",
    "print(num1==num2)\n",
    "print(\"\\nIs num1 less than num2?\")\n",
    "print(num1<num2)\n",
    "print(\"\\nIs num1 greater than num2?\")\n",
    "print(num1>num2)"
   ]
  },
  {
   "cell_type": "code",
   "execution_count": 17,
   "metadata": {},
   "outputs": [
    {
     "name": "stdout",
     "output_type": "stream",
     "text": [
      "True\n"
     ]
    }
   ],
   "source": [
    "animal = \"lion\"\n",
    "print(animal == \"tiger\" or animal == \"lion\")"
   ]
  },
  {
   "cell_type": "code",
   "execution_count": 18,
   "metadata": {},
   "outputs": [
    {
     "name": "stdout",
     "output_type": "stream",
     "text": [
      "True\n",
      "False\n"
     ]
    }
   ],
   "source": [
    "list1 = [\"Salman\",\"Zain\",\"Umair\"]\n",
    "s = \"Zain\"\n",
    "t = \"Nabeel\"\n",
    "print(s in list1)\n",
    "print(t in list1)"
   ]
  },
  {
   "cell_type": "code",
   "execution_count": 1,
   "metadata": {},
   "outputs": [
    {
     "name": "stdout",
     "output_type": "stream",
     "text": [
      "You've earned 5 points!\n"
     ]
    }
   ],
   "source": [
    "#Exercise 5.3\n",
    "alien_color = \"green\"\n",
    "if (alien_color == \"green\"):\n",
    "    print(\"You've earned 5 points!\")"
   ]
  },
  {
   "cell_type": "code",
   "execution_count": 2,
   "metadata": {},
   "outputs": [],
   "source": [
    "alien_color = \"red\"\n",
    "if (alien_color == \"green\"):\n",
    "    print(\"You've earned 5 points!\")"
   ]
  },
  {
   "cell_type": "code",
   "execution_count": 3,
   "metadata": {},
   "outputs": [
    {
     "name": "stdout",
     "output_type": "stream",
     "text": [
      "You've earned 5 points!\n"
     ]
    }
   ],
   "source": [
    "#Exercise 5.4\n",
    "alien_color = \"green\"\n",
    "if (alien_color == \"green\"):\n",
    "    print(\"You've earned 5 points!\")\n",
    "if (alien_color != \"green\" ):\n",
    "    print(\"You've earned 10 points!\")"
   ]
  },
  {
   "cell_type": "code",
   "execution_count": 4,
   "metadata": {},
   "outputs": [
    {
     "name": "stdout",
     "output_type": "stream",
     "text": [
      "You've earned 10 points!\n"
     ]
    }
   ],
   "source": [
    "alien_color = \"yellow\"\n",
    "if (alien_color == \"green\"):\n",
    "    print(\"You've earned 5 points!\")\n",
    "if (alien_color != \"green\" ):\n",
    "    print(\"You've earned 10 points!\")"
   ]
  },
  {
   "cell_type": "code",
   "execution_count": 6,
   "metadata": {},
   "outputs": [
    {
     "name": "stdout",
     "output_type": "stream",
     "text": [
      "You've earned 10 points!\n"
     ]
    }
   ],
   "source": [
    "alien_color = \"red\"\n",
    "if (alien_color == \"yellow\"):\n",
    "    print(\"You've earned 5 points!\")\n",
    "else:\n",
    "    print(\"You've earned 10 points!\")"
   ]
  },
  {
   "cell_type": "code",
   "execution_count": 7,
   "metadata": {},
   "outputs": [
    {
     "name": "stdout",
     "output_type": "stream",
     "text": [
      "You've earned 5 points!\n"
     ]
    }
   ],
   "source": [
    "#Exercise 5.5\n",
    "alien_color = \"yellow\"\n",
    "if (alien_color == \"yellow\"):\n",
    "    print(\"You've earned 5 points!\")\n",
    "elif (alien_color == \"red\"):\n",
    "    print(\"You've earned 10 points!\")\n",
    "elif (alien_color == \"green\"):\n",
    "    print(\"You've earned 15 points!\")"
   ]
  },
  {
   "cell_type": "code",
   "execution_count": 8,
   "metadata": {},
   "outputs": [
    {
     "name": "stdout",
     "output_type": "stream",
     "text": [
      "You've earned 10 points!\n"
     ]
    }
   ],
   "source": [
    "alien_color = \"red\"\n",
    "if (alien_color == \"yellow\"):\n",
    "    print(\"You've earned 5 points!\")\n",
    "elif (alien_color == \"red\"):\n",
    "    print(\"You've earned 10 points!\")\n",
    "elif (alien_color == \"green\"):\n",
    "    print(\"You've earned 15 points!\")"
   ]
  },
  {
   "cell_type": "code",
   "execution_count": 9,
   "metadata": {},
   "outputs": [
    {
     "name": "stdout",
     "output_type": "stream",
     "text": [
      "You've earned 15 points!\n"
     ]
    }
   ],
   "source": [
    "alien_color = \"green\"\n",
    "if (alien_color == \"yellow\"):\n",
    "    print(\"You've earned 5 points!\")\n",
    "elif (alien_color == \"red\"):\n",
    "    print(\"You've earned 10 points!\")\n",
    "elif (alien_color == \"green\"):\n",
    "    print(\"You've earned 15 points!\")"
   ]
  },
  {
   "cell_type": "code",
   "execution_count": 19,
   "metadata": {},
   "outputs": [
    {
     "name": "stdout",
     "output_type": "stream",
     "text": [
      "Enter age of a person: 60\n",
      "A person is an elder\n"
     ]
    }
   ],
   "source": [
    "#Exercise 5.6\n",
    "age = int(input(\"Enter age of a person: \"))\n",
    "if age < 2:\n",
    "    print(\"A person is a baby\")\n",
    "elif age >= 2 and age < 4:\n",
    "    print(\"A person is a toddler\")\n",
    "elif age >= 4 and age < 13:\n",
    "    print(\"A person is a kid\")\n",
    "elif age >= 13 and age < 20:\n",
    "    print(\"A person is a teenager\")\n",
    "elif age >= 20 and age < 60:\n",
    "    print(\"A person is a adult\")\n",
    "elif age >= 60:\n",
    "    print(\"A person is an elder\")"
   ]
  },
  {
   "cell_type": "code",
   "execution_count": 21,
   "metadata": {},
   "outputs": [
    {
     "name": "stdout",
     "output_type": "stream",
     "text": [
      "You really like Mangoes!\n",
      "You really like Oranges!\n",
      "You really like Apples!\n"
     ]
    }
   ],
   "source": [
    "#Exercise 5.7\n",
    "fav_fruits = [\"Apple\",\"Orange\",\"Banana\",\"Mango\"]\n",
    "if \"Mango\" in fav_fruits:\n",
    "    print(\"You really like Mangoes!\")\n",
    "if \"Guava\" in fav_fruits:\n",
    "    print(\"You really like Guavas!\")\n",
    "if \"Orange\" in fav_fruits:\n",
    "    print(\"You really like Oranges!\")\n",
    "if \"Apricot\" in fav_fruits:\n",
    "    print(\"You really like Apricots!\")\n",
    "if \"Apple\" in fav_fruits:\n",
    "    print(\"You really like Apples!\")"
   ]
  },
  {
   "cell_type": "code",
   "execution_count": 24,
   "metadata": {},
   "outputs": [
    {
     "name": "stdout",
     "output_type": "stream",
     "text": [
      "Hello admin, would you like to see status report?\n",
      "Hello salmankh3 , thank you for logging in here..\n",
      "Hello uzaif10101 , thank you for logging in here..\n",
      "Hello nabeelkhatri12 , thank you for logging in here..\n",
      "Hello umairbaloch , thank you for logging in here..\n"
     ]
    }
   ],
   "source": [
    "#Exercise 5.8\n",
    "usernames = [\"admin\",\"salmankh3\",\"uzaif10101\",\"nabeelkhatri12\",\"umairbaloch\"]\n",
    "for name in usernames:\n",
    "    if name == \"admin\":\n",
    "        print(\"Hello admin, would you like to see status report?\")\n",
    "    else:\n",
    "        print(\"Hello\",name,\", thank you for logging in here..\")"
   ]
  },
  {
   "cell_type": "code",
   "execution_count": 26,
   "metadata": {},
   "outputs": [
    {
     "name": "stdout",
     "output_type": "stream",
     "text": [
      "We need some users here!\n"
     ]
    }
   ],
   "source": [
    "#Exercise 5.9\n",
    "usernames = []\n",
    "if usernames:\n",
    "    for name in usernames:\n",
    "        if name == \"admin\":\n",
    "            print(\"Hello admin, would you like to see status report?\")\n",
    "        else:\n",
    "            print(\"Hello\",name,\", thank you for logging in here..\")\n",
    "else:\n",
    "    print(\"We need some users here!\")"
   ]
  },
  {
   "cell_type": "code",
   "execution_count": 29,
   "metadata": {},
   "outputs": [
    {
     "name": "stdout",
     "output_type": "stream",
     "text": [
      "Congrats! It's the perfect new username for you!\n",
      "Congrats! It's the perfect new username for you!\n",
      "Sorry, the username is already taken!\n"
     ]
    }
   ],
   "source": [
    "#Exercise 5.10\n",
    "curr_users = [\"admin\",\"salmankh3\",\"uzaif10101\",\"nabeelkhatri12\",\"umairbaloch\"]\n",
    "new_users = [\"hammad1122\",\"fahadnoor89\",\"nabeelkhatri12\"]\n",
    "for u in new_users:\n",
    "    if u in curr_users:\n",
    "        print(\"Sorry, the username is already taken!\")\n",
    "    else:\n",
    "        print(\"Congrats! It's the perfect new username for you!\")"
   ]
  },
  {
   "cell_type": "code",
   "execution_count": 31,
   "metadata": {},
   "outputs": [
    {
     "name": "stdout",
     "output_type": "stream",
     "text": [
      "1st\n",
      "2nd\n",
      "3rd\n",
      "4th\n",
      "5th\n",
      "6th\n",
      "7th\n",
      "8th\n",
      "9th\n"
     ]
    }
   ],
   "source": [
    "#Exercise 5.11\n",
    "num = [1,2,3,4,5,6,7,8,9]\n",
    "for i in num:\n",
    "    if i == 1:\n",
    "        print(\"1st\")\n",
    "    elif i == 2:\n",
    "        print(\"2nd\")\n",
    "    elif i == 3:\n",
    "        print(\"3rd\")\n",
    "    else:\n",
    "        print(str(i)+\"th\")"
   ]
  },
  {
   "cell_type": "markdown",
   "metadata": {},
   "source": [
    "Miscelleneous Examples"
   ]
  },
  {
   "cell_type": "code",
   "execution_count": 32,
   "metadata": {},
   "outputs": [
    {
     "name": "stdout",
     "output_type": "stream",
     "text": [
      "Enter first value: 3\n",
      "Select operator: +\n",
      "Enter second value: 1\n",
      "Sum=  4\n"
     ]
    }
   ],
   "source": [
    "#Calculator\n",
    "a=int(input(\"Enter first value: \"))\n",
    "operator=input(\"Select operator: \")\n",
    "b=int(input(\"Enter second value: \"))\n",
    "if operator=='+':\n",
    "    print(\"Sum= \",a+b)\n",
    "elif operator=='-':\n",
    "    print(\"Subtraction= \",a-b)\n",
    "elif operator=='*':\n",
    "    print(\"Multiplication= \",a*b)\n",
    "elif operator=='/':\n",
    "    print(\"Division= \",a/b)\n",
    "else:\n",
    "    print(\"Modulus= \",a%b)"
   ]
  },
  {
   "cell_type": "code",
   "execution_count": 34,
   "metadata": {},
   "outputs": [
    {
     "name": "stdout",
     "output_type": "stream",
     "text": [
      "Select Operation:\n",
      "1.To convert cm to m\n",
      "2.To convert inch to meter2\n",
      "Enter Value in inch:60\n",
      "Value in meter= 1.524 m\n"
     ]
    }
   ],
   "source": [
    "#Conversion of cm or inch to meter\n",
    "import sys\n",
    "operation=int(input(\"Select Operation:\\n1.To convert cm to m\\n2.To convert inch to meter\"))\n",
    "if operation==1:\n",
    "    cm=float(input(\"Enter Value in cm:\"))\n",
    "    meter = cm * 0.01\n",
    "    print(\"Value in meter=\",meter,\"m\")\n",
    "elif operation==2:\n",
    "    inch=float(input(\"Enter Value in inch:\"))\n",
    "    meter = inch * 0.0254\n",
    "    print(\"Value in meter=\",meter,\"m\")\n",
    "else:\n",
    "    sys.exit(0)"
   ]
  }
 ],
 "metadata": {
  "kernelspec": {
   "display_name": "Python 3",
   "language": "python",
   "name": "python3"
  },
  "language_info": {
   "codemirror_mode": {
    "name": "ipython",
    "version": 3
   },
   "file_extension": ".py",
   "mimetype": "text/x-python",
   "name": "python",
   "nbconvert_exporter": "python",
   "pygments_lexer": "ipython3",
   "version": "3.7.0"
  }
 },
 "nbformat": 4,
 "nbformat_minor": 2
}
