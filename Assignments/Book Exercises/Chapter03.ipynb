{
 "cells": [
  {
   "cell_type": "markdown",
   "metadata": {},
   "source": [
    "Total Exercise Questions = 10"
   ]
  },
  {
   "cell_type": "code",
   "execution_count": 1,
   "metadata": {},
   "outputs": [
    {
     "name": "stdout",
     "output_type": "stream",
     "text": [
      "Salman\n",
      "Uzaif\n",
      "Nabeel\n",
      "Zain\n",
      "Umair\n"
     ]
    }
   ],
   "source": [
    "#Exercise 3.1\n",
    "names = [\"Salman\",\"Uzaif\",\"Nabeel\",\"Zain\",\"Umair\"]\n",
    "print(names[0])\n",
    "print(names[1])\n",
    "print(names[2])\n",
    "print(names[3])\n",
    "print(names[4])"
   ]
  },
  {
   "cell_type": "code",
   "execution_count": 3,
   "metadata": {},
   "outputs": [
    {
     "name": "stdout",
     "output_type": "stream",
     "text": [
      "Assalamu Alaikum  Salman , hope you're good.\n",
      "Assalamu Alaikum  Uzaif , hope you're good.\n",
      "Assalamu Alaikum  Nabeel , hope you're good.\n",
      "Assalamu Alaikum  Zain , hope you're good.\n",
      "Assalamu Alaikum  Umair , hope you're good.\n"
     ]
    }
   ],
   "source": [
    "#Exercise 3.2\n",
    "names = [\"Salman\",\"Uzaif\",\"Nabeel\",\"Zain\",\"Umair\"]\n",
    "print(\"Assalamu Alaikum \",names[0], \", hope you're good.\")\n",
    "print(\"Assalamu Alaikum \",names[1], \", hope you're good.\")\n",
    "print(\"Assalamu Alaikum \",names[2], \", hope you're good.\")\n",
    "print(\"Assalamu Alaikum \",names[3], \", hope you're good.\")\n",
    "print(\"Assalamu Alaikum \",names[4], \", hope you're good.\")"
   ]
  },
  {
   "cell_type": "code",
   "execution_count": 5,
   "metadata": {},
   "outputs": [
    {
     "name": "stdout",
     "output_type": "stream",
     "text": [
      "I Love the sound of Honda 125cc\n",
      "I have a bike. It is Super Power 70cc\n",
      "Sabeeh has bought a Suzuki 150cc for himself\n",
      "A clean and red Yamaha 100cc was parked in the mall's parking area\n"
     ]
    }
   ],
   "source": [
    "#Exercise 3.3\n",
    "bikes = [\"Honda 125cc\",\"Super Power 70cc\",\"Suzuki 150cc\",\"Yamaha 100cc\"]\n",
    "print(\"I Love the sound of\",bikes[0])\n",
    "print(\"I have a bike. It is\",bikes[1])\n",
    "print(\"Sabeeh has bought a\",bikes[2],\"for himself\")\n",
    "print(\"A clean and red\",bikes[3],\"was parked in the mall's parking area\")"
   ]
  },
  {
   "cell_type": "code",
   "execution_count": 50,
   "metadata": {},
   "outputs": [
    {
     "name": "stdout",
     "output_type": "stream",
     "text": [
      "Listen The Suzuruns !! You are invited at the dinner party at my place on Saturday Night\n",
      "How can I forget to invite you to my wedding reception Miss MarCia ?\n",
      "One dinner with you Dear Bisma , So I could tell you how I felt when you went. :(\n"
     ]
    }
   ],
   "source": [
    "#Exercise 3.4\n",
    "guests = [\"The Suzuruns\",\"MarCia\",\"Bisma\"]\n",
    "print(\"Listen\",guests[0],\"!! You are invited at the dinner party at my place on Saturday Night\")\n",
    "print(\"How can I forget to invite you to my wedding reception Miss\",guests[1],\"?\")\n",
    "print(\"One dinner with you Dear\",guests[2],\", So I could tell you how I felt when you went. :(\")"
   ]
  },
  {
   "cell_type": "code",
   "execution_count": 11,
   "metadata": {},
   "outputs": [
    {
     "name": "stdout",
     "output_type": "stream",
     "text": [
      "Oh MarCia , I wish you were there at my wedding reception.... Well it's Ok. See you soon. :)\n",
      "\n",
      "Listen The Suzuruns !! You are invited at the dinner party at my place on Saturday Night\n",
      "One dinner with you Dear Bisma , So I could tell you how I felt when you went. :(\n",
      "Hey my best friend Iqra , You're invited at my birthday party on 27th December\n"
     ]
    }
   ],
   "source": [
    "#Exercise 3.5\n",
    "guests = [\"The Suzuruns\",\"MarCia\",\"Bisma\",\"Iqra\"]\n",
    "\n",
    "print(\"Oh\",guests[1],\", I wish you were there at my wedding reception.... Well it's Ok. See you soon. :)\")\n",
    "print(\"\\nListen\",guests[0],\"!! You are invited at the dinner party at my place on Saturday Night\")\n",
    "print(\"One dinner with you Dear\",guests[2],\", So I could tell you how I felt when you went. :(\")\n",
    "print(\"Hey my best friend\",guests[3],\", You're invited at my birthday party on 27th December\")"
   ]
  },
  {
   "cell_type": "code",
   "execution_count": 24,
   "metadata": {},
   "outputs": [
    {
     "name": "stdout",
     "output_type": "stream",
     "text": [
      "Let us have a big table at my dinner party so I could invite more of my friends. But wait! First let me update the guests list.\n",
      "Listen Uzaif Ahmed !! You are invited at the dinner party at my place on Saturday Night\n",
      "Listen The Suzuruns !! You are invited at the dinner party at my place on Saturday Night\n",
      "Listen Muhammad Affaan !! You are invited at the dinner party at my place on Saturday Night\n",
      "Listen MarCia !! You are invited at the dinner party at my place on Saturday Night\n",
      "Listen Talha Ahmed !! You are invited at the dinner party at my place on Saturday Night\n",
      "Listen Muhammad Ghazi !! You are invited at the dinner party at my place on Saturday Night\n"
     ]
    }
   ],
   "source": [
    "#Exercise 3.6\n",
    "guests = [\"The Suzuruns\",\"MarCia\",\"Talha Ahmed\"]\n",
    "print(\"Let us have a big table at my dinner party so I could invite more of my friends. But wait! First let me update the guests list.\")\n",
    "guests.insert(0,\"Uzaif Ahmed\")\n",
    "guests.insert(2,\"Muhammad Affaan\")\n",
    "guests.append(\"Muhammad Ghazi\")\n",
    "print(\"Listen\",guests[0],\"!! You are invited at the dinner party at my place on Saturday Night\")\n",
    "print(\"Listen\",guests[1],\"!! You are invited at the dinner party at my place on Saturday Night\")\n",
    "print(\"Listen\",guests[2],\"!! You are invited at the dinner party at my place on Saturday Night\")\n",
    "print(\"Listen\",guests[3],\"!! You are invited at the dinner party at my place on Saturday Night\")\n",
    "print(\"Listen\",guests[4],\"!! You are invited at the dinner party at my place on Saturday Night\")\n",
    "print(\"Listen\",guests[5],\"!! You are invited at the dinner party at my place on Saturday Night\")"
   ]
  },
  {
   "cell_type": "code",
   "execution_count": 25,
   "metadata": {},
   "outputs": [
    {
     "name": "stdout",
     "output_type": "stream",
     "text": [
      "Sorry guys, due to some uncertain conditions, I can invite only two people at my dinner party :(\n",
      "\n",
      "Sorry Muhammad Ghazi I couldn't invite you at my dinner party\n",
      "Sorry Talha Ahmed I couldn't invite you at my dinner party\n",
      "Sorry MarCia I couldn't invite you at my dinner party\n",
      "Sorry Muhammad Affaan I couldn't invite you at my dinner party\n",
      "\n",
      " Uzaif Ahmed , You are still invited at the party\n",
      "The Suzuruns , You are still invited at the party\n",
      "\n",
      "Empty List:  []\n"
     ]
    }
   ],
   "source": [
    "#Exercise 3.7\n",
    "print(\"Sorry guys, due to some uncertain conditions, I can invite only two people at my dinner party :(\")\n",
    "print(\"\\nSorry\",guests.pop(),\"I couldn't invite you at my dinner party\")\n",
    "print(\"Sorry\",guests.pop(),\"I couldn't invite you at my dinner party\")\n",
    "print(\"Sorry\",guests.pop(),\"I couldn't invite you at my dinner party\")\n",
    "print(\"Sorry\",guests.pop(),\"I couldn't invite you at my dinner party\")\n",
    "print(\"\\n\",guests[0], \", You are still invited at the party\")\n",
    "print(guests[1], \", You are still invited at the party\")\n",
    "del guests[1], guests[0]\n",
    "print(\"\\nEmpty List: \",guests)"
   ]
  },
  {
   "cell_type": "code",
   "execution_count": 26,
   "metadata": {},
   "outputs": [
    {
     "data": {
      "text/plain": [
       "['Murree', 'Swat', 'Gorakh', 'Quetta', 'Hunza']"
      ]
     },
     "execution_count": 26,
     "metadata": {},
     "output_type": "execute_result"
    }
   ],
   "source": [
    "#Exercise 3.8\n",
    "places = [\"Murree\",\"Swat\",\"Gorakh\",\"Quetta\",\"Hunza\"]\n",
    "places"
   ]
  },
  {
   "cell_type": "code",
   "execution_count": 27,
   "metadata": {},
   "outputs": [
    {
     "data": {
      "text/plain": [
       "['Gorakh', 'Hunza', 'Murree', 'Quetta', 'Swat']"
      ]
     },
     "execution_count": 27,
     "metadata": {},
     "output_type": "execute_result"
    }
   ],
   "source": [
    "sorted(places)"
   ]
  },
  {
   "cell_type": "code",
   "execution_count": 28,
   "metadata": {},
   "outputs": [
    {
     "data": {
      "text/plain": [
       "['Murree', 'Swat', 'Gorakh', 'Quetta', 'Hunza']"
      ]
     },
     "execution_count": 28,
     "metadata": {},
     "output_type": "execute_result"
    }
   ],
   "source": [
    "places"
   ]
  },
  {
   "cell_type": "code",
   "execution_count": 29,
   "metadata": {},
   "outputs": [
    {
     "data": {
      "text/plain": [
       "['Swat', 'Quetta', 'Murree', 'Hunza', 'Gorakh']"
      ]
     },
     "execution_count": 29,
     "metadata": {},
     "output_type": "execute_result"
    }
   ],
   "source": [
    "sorted(places,reverse=True)"
   ]
  },
  {
   "cell_type": "code",
   "execution_count": 30,
   "metadata": {},
   "outputs": [
    {
     "data": {
      "text/plain": [
       "['Murree', 'Swat', 'Gorakh', 'Quetta', 'Hunza']"
      ]
     },
     "execution_count": 30,
     "metadata": {},
     "output_type": "execute_result"
    }
   ],
   "source": [
    "places"
   ]
  },
  {
   "cell_type": "code",
   "execution_count": 41,
   "metadata": {},
   "outputs": [],
   "source": [
    "places.sort()"
   ]
  },
  {
   "cell_type": "code",
   "execution_count": 42,
   "metadata": {},
   "outputs": [
    {
     "data": {
      "text/plain": [
       "['Gorakh', 'Hunza', 'Murree', 'Quetta', 'Swat']"
      ]
     },
     "execution_count": 42,
     "metadata": {},
     "output_type": "execute_result"
    }
   ],
   "source": [
    "places"
   ]
  },
  {
   "cell_type": "code",
   "execution_count": 48,
   "metadata": {},
   "outputs": [],
   "source": [
    "places.reverse()"
   ]
  },
  {
   "cell_type": "code",
   "execution_count": 49,
   "metadata": {},
   "outputs": [
    {
     "data": {
      "text/plain": [
       "['Swat', 'Quetta', 'Murree', 'Hunza', 'Gorakh']"
      ]
     },
     "execution_count": 49,
     "metadata": {},
     "output_type": "execute_result"
    }
   ],
   "source": [
    "places"
   ]
  },
  {
   "cell_type": "code",
   "execution_count": 51,
   "metadata": {},
   "outputs": [
    {
     "data": {
      "text/plain": [
       "3"
      ]
     },
     "execution_count": 51,
     "metadata": {},
     "output_type": "execute_result"
    }
   ],
   "source": [
    "#Exercise 3.9\n",
    "len(guests) #From 3.4"
   ]
  },
  {
   "cell_type": "code",
   "execution_count": 52,
   "metadata": {},
   "outputs": [],
   "source": [
    "#Exercise 3.10\n",
    "languages = [\"Urdu\",\"English\",\"Persian\",\"German\",\"Chinese\"]"
   ]
  },
  {
   "cell_type": "code",
   "execution_count": 53,
   "metadata": {},
   "outputs": [],
   "source": [
    "languages.append(\"Hindi\")"
   ]
  },
  {
   "cell_type": "code",
   "execution_count": 54,
   "metadata": {},
   "outputs": [
    {
     "data": {
      "text/plain": [
       "['Urdu', 'English', 'Persian', 'German', 'Chinese', 'Hindi']"
      ]
     },
     "execution_count": 54,
     "metadata": {},
     "output_type": "execute_result"
    }
   ],
   "source": [
    "languages"
   ]
  },
  {
   "cell_type": "code",
   "execution_count": 55,
   "metadata": {},
   "outputs": [
    {
     "data": {
      "text/plain": [
       "['Chinese', 'English', 'German', 'Hindi', 'Persian', 'Urdu']"
      ]
     },
     "execution_count": 55,
     "metadata": {},
     "output_type": "execute_result"
    }
   ],
   "source": [
    "languages.sort()\n",
    "languages"
   ]
  },
  {
   "cell_type": "code",
   "execution_count": 56,
   "metadata": {},
   "outputs": [
    {
     "data": {
      "text/plain": [
       "1"
      ]
     },
     "execution_count": 56,
     "metadata": {},
     "output_type": "execute_result"
    }
   ],
   "source": [
    "languages.count(\"English\")"
   ]
  },
  {
   "cell_type": "code",
   "execution_count": 57,
   "metadata": {},
   "outputs": [
    {
     "data": {
      "text/plain": [
       "3"
      ]
     },
     "execution_count": 57,
     "metadata": {},
     "output_type": "execute_result"
    }
   ],
   "source": [
    "languages.index(\"Hindi\")"
   ]
  },
  {
   "cell_type": "code",
   "execution_count": 58,
   "metadata": {},
   "outputs": [
    {
     "data": {
      "text/plain": [
       "'Urdu'"
      ]
     },
     "execution_count": 58,
     "metadata": {},
     "output_type": "execute_result"
    }
   ],
   "source": [
    "languages.pop()"
   ]
  },
  {
   "cell_type": "code",
   "execution_count": 59,
   "metadata": {},
   "outputs": [
    {
     "data": {
      "text/plain": [
       "['Chinese', 'English', 'German', 'Hindi', 'Persian']"
      ]
     },
     "execution_count": 59,
     "metadata": {},
     "output_type": "execute_result"
    }
   ],
   "source": [
    "languages"
   ]
  },
  {
   "cell_type": "code",
   "execution_count": 60,
   "metadata": {},
   "outputs": [],
   "source": [
    "languages.insert(4,\"Urdu\")"
   ]
  },
  {
   "cell_type": "code",
   "execution_count": 61,
   "metadata": {},
   "outputs": [
    {
     "data": {
      "text/plain": [
       "['Chinese', 'English', 'German', 'Hindi', 'Urdu', 'Persian']"
      ]
     },
     "execution_count": 61,
     "metadata": {},
     "output_type": "execute_result"
    }
   ],
   "source": [
    "languages"
   ]
  },
  {
   "cell_type": "code",
   "execution_count": 62,
   "metadata": {},
   "outputs": [],
   "source": [
    "languages.remove(\"Chinese\")"
   ]
  },
  {
   "cell_type": "code",
   "execution_count": 63,
   "metadata": {},
   "outputs": [
    {
     "data": {
      "text/plain": [
       "['English', 'German', 'Hindi', 'Urdu', 'Persian']"
      ]
     },
     "execution_count": 63,
     "metadata": {},
     "output_type": "execute_result"
    }
   ],
   "source": [
    "languages"
   ]
  },
  {
   "cell_type": "code",
   "execution_count": 64,
   "metadata": {},
   "outputs": [
    {
     "data": {
      "text/plain": [
       "[]"
      ]
     },
     "execution_count": 64,
     "metadata": {},
     "output_type": "execute_result"
    }
   ],
   "source": [
    "languages.clear()\n",
    "languages"
   ]
  }
 ],
 "metadata": {
  "kernelspec": {
   "display_name": "Python 3",
   "language": "python",
   "name": "python3"
  },
  "language_info": {
   "codemirror_mode": {
    "name": "ipython",
    "version": 3
   },
   "file_extension": ".py",
   "mimetype": "text/x-python",
   "name": "python",
   "nbconvert_exporter": "python",
   "pygments_lexer": "ipython3",
   "version": "3.7.0"
  }
 },
 "nbformat": 4,
 "nbformat_minor": 4
}
