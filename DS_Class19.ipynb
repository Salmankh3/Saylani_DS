{
 "cells": [
  {
   "cell_type": "markdown",
   "metadata": {},
   "source": [
    "# Central Tendency"
   ]
  },
  {
   "cell_type": "markdown",
   "metadata": {},
   "source": [
    "- Mean\n",
    "- Mode\n",
    "- Median\n",
    "- Variance\n",
    "- Standard Deviation"
   ]
  },
  {
   "cell_type": "markdown",
   "metadata": {},
   "source": [
    "# OutLier"
   ]
  },
  {
   "cell_type": "markdown",
   "metadata": {},
   "source": [
    "Far away from central value"
   ]
  },
  {
   "cell_type": "markdown",
   "metadata": {},
   "source": [
    "# Bi-Variant Analysis"
   ]
  },
  {
   "cell_type": "markdown",
   "metadata": {},
   "source": [
    "- Co-variance\n",
    "- Co-relation\n",
    "- Regression"
   ]
  },
  {
   "cell_type": "markdown",
   "metadata": {},
   "source": [
    "Co-Variance: \n",
    " - Relationship between two variables. How a certain variable changes with the change in another variable "
   ]
  },
  {
   "cell_type": "markdown",
   "metadata": {},
   "source": [
    "Sample , Population .. These both terms will be used frequently"
   ]
  },
  {
   "cell_type": "markdown",
   "metadata": {},
   "source": [
    "Population : All the data covers\n",
    "    \n",
    "Sample : A part of data covers"
   ]
  },
  {
   "cell_type": "markdown",
   "metadata": {},
   "source": [
    "Columns in Datasets are called Features"
   ]
  },
  {
   "cell_type": "markdown",
   "metadata": {},
   "source": [
    "# Why Co-variance is important? "
   ]
  },
  {
   "cell_type": "markdown",
   "metadata": {},
   "source": [
    "To take decisions for a business with respect to dependency of different variables and attributes\n",
    "\n",
    "(Girl's Selection Example)"
   ]
  },
  {
   "cell_type": "markdown",
   "metadata": {},
   "source": [
    "What to drop from the dataset? What isn't important while taking a business decision is to be removed? This can be found out by using Co-relation and C-Variance"
   ]
  },
  {
   "cell_type": "markdown",
   "metadata": {},
   "source": [
    "Covariance:\n",
    "    - Its all about direction of two variables, going up or down at the same time, answer will be in plus i.e. Postive Co-variance. When inversely, we shall get a negative answer which will show the negative Covariance\n",
    "    - It depends on the sign"
   ]
  },
  {
   "cell_type": "markdown",
   "metadata": {},
   "source": [
    "Correlation: \n",
    "    The degree of Co-variance that is between -1 to 1 which implies that how much a variable changes when another variable changes"
   ]
  }
 ],
 "metadata": {
  "kernelspec": {
   "display_name": "Python 3",
   "language": "python",
   "name": "python3"
  },
  "language_info": {
   "codemirror_mode": {
    "name": "ipython",
    "version": 3
   },
   "file_extension": ".py",
   "mimetype": "text/x-python",
   "name": "python",
   "nbconvert_exporter": "python",
   "pygments_lexer": "ipython3",
   "version": "3.7.6"
  }
 },
 "nbformat": 4,
 "nbformat_minor": 4
}
