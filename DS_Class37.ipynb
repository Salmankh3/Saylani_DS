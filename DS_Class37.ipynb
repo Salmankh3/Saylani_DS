{
 "cells": [
  {
   "cell_type": "code",
   "execution_count": 1,
   "metadata": {},
   "outputs": [],
   "source": [
    "import numpy as np\n",
    "import pandas as pd\n",
    "import matplotlib.pyplot as plt"
   ]
  },
  {
   "cell_type": "code",
   "execution_count": 2,
   "metadata": {},
   "outputs": [
    {
     "data": {
      "text/plain": [
       "array([567, 572, 572, 589, 614, 616, 628, 645, 650, 652, 657, 661, 666,\n",
       "       668, 669, 675, 676, 686, 694, 698, 706, 706, 708, 711, 714, 716,\n",
       "       722, 728, 729, 729, 730, 732, 735, 737, 737, 738, 740, 741, 744,\n",
       "       747, 748, 748, 749, 750, 752, 755, 755, 758, 761, 764, 769, 775,\n",
       "       781, 782, 786, 793, 793, 795, 798, 799, 800, 800, 811, 812, 814,\n",
       "       814, 815, 818, 819, 821, 821, 826, 829, 841, 842, 843, 850, 875,\n",
       "       879, 897])"
      ]
     },
     "execution_count": 2,
     "metadata": {},
     "output_type": "execute_result"
    }
   ],
   "source": [
    "data = np.array([567,572,572,589,614,616,628,645,650,652,657,661,666,668,669,675,676,686,694,698,706,706,708,711,714,716,722,728,729,729,730,732,735,737,737,738,740,741,744,747,748,748,749,750,752,755,755,758,761,764,769,775,781,782,786,793,793,795,798,799,800,800,811,812,814,814,815,818,819,821,821,826,829,841,842,843,850,875,879,897]) \n",
    "data # Main Data"
   ]
  },
  {
   "cell_type": "code",
   "execution_count": 3,
   "metadata": {},
   "outputs": [
    {
     "data": {
      "text/plain": [
       "743.0375"
      ]
     },
     "execution_count": 3,
     "metadata": {},
     "output_type": "execute_result"
    }
   ],
   "source": [
    "# Mean of the main data\n",
    "m = data.mean()\n",
    "m"
   ]
  },
  {
   "cell_type": "code",
   "execution_count": 4,
   "metadata": {},
   "outputs": [
    {
     "data": {
      "text/plain": [
       "73.57843497758022"
      ]
     },
     "execution_count": 4,
     "metadata": {},
     "output_type": "execute_result"
    }
   ],
   "source": [
    "# Standard Deviation of the main data\n",
    "data.std()"
   ]
  },
  {
   "cell_type": "code",
   "execution_count": 5,
   "metadata": {},
   "outputs": [
    {
     "data": {
      "text/plain": [
       "array([-176.0375, -171.0375, -171.0375, -154.0375, -129.0375, -127.0375,\n",
       "       -115.0375,  -98.0375,  -93.0375,  -91.0375,  -86.0375,  -82.0375,\n",
       "        -77.0375,  -75.0375,  -74.0375,  -68.0375,  -67.0375,  -57.0375,\n",
       "        -49.0375,  -45.0375,  -37.0375,  -37.0375,  -35.0375,  -32.0375,\n",
       "        -29.0375,  -27.0375,  -21.0375,  -15.0375,  -14.0375,  -14.0375,\n",
       "        -13.0375,  -11.0375,   -8.0375,   -6.0375,   -6.0375,   -5.0375,\n",
       "         -3.0375,   -2.0375,    0.9625,    3.9625,    4.9625,    4.9625,\n",
       "          5.9625,    6.9625,    8.9625,   11.9625,   11.9625,   14.9625,\n",
       "         17.9625,   20.9625,   25.9625,   31.9625,   37.9625,   38.9625,\n",
       "         42.9625,   49.9625,   49.9625,   51.9625,   54.9625,   55.9625,\n",
       "         56.9625,   56.9625,   67.9625,   68.9625,   70.9625,   70.9625,\n",
       "         71.9625,   74.9625,   75.9625,   77.9625,   77.9625,   82.9625,\n",
       "         85.9625,   97.9625,   98.9625,   99.9625,  106.9625,  131.9625,\n",
       "        135.9625,  153.9625])"
      ]
     },
     "execution_count": 5,
     "metadata": {},
     "output_type": "execute_result"
    }
   ],
   "source": [
    "# Subtrating Mean from data\n",
    "\n",
    "mean_data = data - m\n",
    "mean_data"
   ]
  },
  {
   "cell_type": "code",
   "execution_count": 6,
   "metadata": {},
   "outputs": [
    {
     "data": {
      "text/plain": [
       "-2.2737367544323207e-14"
      ]
     },
     "execution_count": 6,
     "metadata": {},
     "output_type": "execute_result"
    }
   ],
   "source": [
    "# Mean of the mean_data\n",
    "\n",
    "m2 = mean_data.mean()\n",
    "m2"
   ]
  },
  {
   "cell_type": "code",
   "execution_count": 11,
   "metadata": {},
   "outputs": [
    {
     "data": {
      "text/plain": [
       "73.57843497758022"
      ]
     },
     "execution_count": 11,
     "metadata": {},
     "output_type": "execute_result"
    }
   ],
   "source": [
    "# Standard Deviation of mean_data\n",
    "s = mean_data.std()\n",
    "s"
   ]
  },
  {
   "cell_type": "code",
   "execution_count": 13,
   "metadata": {},
   "outputs": [
    {
     "data": {
      "text/plain": [
       "array([-2.39251487, -2.32456018, -2.32456018, -2.09351422, -1.75374075,\n",
       "       -1.72655888, -1.56346761, -1.33242165, -1.26446696, -1.23728508,\n",
       "       -1.16933039, -1.11496663, -1.04701194, -1.01983006, -1.00623912,\n",
       "       -0.92469349, -0.91110255, -0.77519317, -0.66646566, -0.6121019 ,\n",
       "       -0.50337439, -0.50337439, -0.47619251, -0.4354197 , -0.39464688,\n",
       "       -0.36746501, -0.28591937, -0.20437374, -0.1907828 , -0.1907828 ,\n",
       "       -0.17719186, -0.15000999, -0.10923717, -0.08205529, -0.08205529,\n",
       "       -0.06846435, -0.04128248, -0.02769154,  0.01308128,  0.05385409,\n",
       "        0.06744503,  0.06744503,  0.08103597,  0.09462691,  0.12180879,\n",
       "        0.1625816 ,  0.1625816 ,  0.20335442,  0.24412724,  0.28490005,\n",
       "        0.35285475,  0.43440038,  0.51594601,  0.52953695,  0.5839007 ,\n",
       "        0.67903728,  0.67903728,  0.70621915,  0.74699197,  0.76058291,\n",
       "        0.77417385,  0.77417385,  0.92367417,  0.93726511,  0.96444699,\n",
       "        0.96444699,  0.97803793,  1.01881074,  1.03240168,  1.05958356,\n",
       "        1.05958356,  1.12753825,  1.16831107,  1.33140233,  1.34499327,\n",
       "        1.35858421,  1.45372078,  1.79349425,  1.847858  ,  2.0924949 ])"
      ]
     },
     "execution_count": 13,
     "metadata": {},
     "output_type": "execute_result"
    }
   ],
   "source": [
    "# Standardized Data\n",
    "\n",
    "std_data = mean_data / s\n",
    "std_data"
   ]
  },
  {
   "cell_type": "code",
   "execution_count": 14,
   "metadata": {},
   "outputs": [
    {
     "data": {
      "text/plain": [
       "-2.997602166487923e-16"
      ]
     },
     "execution_count": 14,
     "metadata": {},
     "output_type": "execute_result"
    }
   ],
   "source": [
    "std_data.mean()"
   ]
  },
  {
   "cell_type": "code",
   "execution_count": 15,
   "metadata": {},
   "outputs": [
    {
     "data": {
      "text/plain": [
       "1.0"
      ]
     },
     "execution_count": 15,
     "metadata": {},
     "output_type": "execute_result"
    }
   ],
   "source": [
    "std_data.std()"
   ]
  }
 ],
 "metadata": {
  "kernelspec": {
   "display_name": "Python 3",
   "language": "python",
   "name": "python3"
  },
  "language_info": {
   "codemirror_mode": {
    "name": "ipython",
    "version": 3
   },
   "file_extension": ".py",
   "mimetype": "text/x-python",
   "name": "python",
   "nbconvert_exporter": "python",
   "pygments_lexer": "ipython3",
   "version": "3.8.5"
  }
 },
 "nbformat": 4,
 "nbformat_minor": 4
}
