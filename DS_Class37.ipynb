{
 "cells": [
  {
   "cell_type": "markdown",
   "metadata": {},
   "source": [
    "# DATA NORMALIZATION"
   ]
  },
  {
   "cell_type": "code",
   "execution_count": 1,
   "metadata": {},
   "outputs": [],
   "source": [
    "import numpy as np\n",
    "import pandas as pd\n",
    "import matplotlib.pyplot as plt"
   ]
  },
  {
   "cell_type": "code",
   "execution_count": 2,
   "metadata": {},
   "outputs": [
    {
     "data": {
      "text/plain": [
       "array([567, 572, 572, 589, 614, 616, 628, 645, 650, 652, 657, 661, 666,\n",
       "       668, 669, 675, 676, 686, 694, 698, 706, 706, 708, 711, 714, 716,\n",
       "       722, 728, 729, 729, 730, 732, 735, 737, 737, 738, 740, 741, 744,\n",
       "       747, 748, 748, 749, 750, 752, 755, 755, 758, 761, 764, 769, 775,\n",
       "       781, 782, 786, 793, 793, 795, 798, 799, 800, 800, 811, 812, 814,\n",
       "       814, 815, 818, 819, 821, 821, 826, 829, 841, 842, 843, 850, 875,\n",
       "       879, 897])"
      ]
     },
     "execution_count": 2,
     "metadata": {},
     "output_type": "execute_result"
    }
   ],
   "source": [
    "data = np.array([567,572,572,589,614,616,628,645,650,652,657,661,666,668,669,675,676,686,694,698,706,706,708,711,714,716,722,728,729,729,730,732,735,737,737,738,740,741,744,747,748,748,749,750,752,755,755,758,761,764,769,775,781,782,786,793,793,795,798,799,800,800,811,812,814,814,815,818,819,821,821,826,829,841,842,843,850,875,879,897]) \n",
    "data # Original Data"
   ]
  },
  {
   "cell_type": "code",
   "execution_count": 3,
   "metadata": {},
   "outputs": [
    {
     "data": {
      "text/plain": [
       "743.0375"
      ]
     },
     "execution_count": 3,
     "metadata": {},
     "output_type": "execute_result"
    }
   ],
   "source": [
    "# Mean of the Original data\n",
    "m = data.mean()\n",
    "m"
   ]
  },
  {
   "cell_type": "code",
   "execution_count": 4,
   "metadata": {},
   "outputs": [
    {
     "data": {
      "text/plain": [
       "73.57843497758022"
      ]
     },
     "execution_count": 4,
     "metadata": {},
     "output_type": "execute_result"
    }
   ],
   "source": [
    "# Standard Deviation of the main data\n",
    "data.std()"
   ]
  },
  {
   "cell_type": "markdown",
   "metadata": {},
   "source": [
    "-----------------------"
   ]
  },
  {
   "cell_type": "code",
   "execution_count": 5,
   "metadata": {},
   "outputs": [
    {
     "data": {
      "text/plain": [
       "array([-176.0375, -171.0375, -171.0375, -154.0375, -129.0375, -127.0375,\n",
       "       -115.0375,  -98.0375,  -93.0375,  -91.0375,  -86.0375,  -82.0375,\n",
       "        -77.0375,  -75.0375,  -74.0375,  -68.0375,  -67.0375,  -57.0375,\n",
       "        -49.0375,  -45.0375,  -37.0375,  -37.0375,  -35.0375,  -32.0375,\n",
       "        -29.0375,  -27.0375,  -21.0375,  -15.0375,  -14.0375,  -14.0375,\n",
       "        -13.0375,  -11.0375,   -8.0375,   -6.0375,   -6.0375,   -5.0375,\n",
       "         -3.0375,   -2.0375,    0.9625,    3.9625,    4.9625,    4.9625,\n",
       "          5.9625,    6.9625,    8.9625,   11.9625,   11.9625,   14.9625,\n",
       "         17.9625,   20.9625,   25.9625,   31.9625,   37.9625,   38.9625,\n",
       "         42.9625,   49.9625,   49.9625,   51.9625,   54.9625,   55.9625,\n",
       "         56.9625,   56.9625,   67.9625,   68.9625,   70.9625,   70.9625,\n",
       "         71.9625,   74.9625,   75.9625,   77.9625,   77.9625,   82.9625,\n",
       "         85.9625,   97.9625,   98.9625,   99.9625,  106.9625,  131.9625,\n",
       "        135.9625,  153.9625])"
      ]
     },
     "execution_count": 5,
     "metadata": {},
     "output_type": "execute_result"
    }
   ],
   "source": [
    "# Mean Subtracted Data\n",
    "\n",
    "mean_data = data - m\n",
    "mean_data"
   ]
  },
  {
   "cell_type": "code",
   "execution_count": 6,
   "metadata": {},
   "outputs": [
    {
     "data": {
      "text/plain": [
       "-2.2737367544323207e-14"
      ]
     },
     "execution_count": 6,
     "metadata": {},
     "output_type": "execute_result"
    }
   ],
   "source": [
    "# Mean of the mean_data\n",
    "\n",
    "m2 = mean_data.mean()\n",
    "m2"
   ]
  },
  {
   "cell_type": "code",
   "execution_count": 7,
   "metadata": {},
   "outputs": [
    {
     "data": {
      "text/plain": [
       "73.57843497758022"
      ]
     },
     "execution_count": 7,
     "metadata": {},
     "output_type": "execute_result"
    }
   ],
   "source": [
    "# Standard Deviation of mean_data\n",
    "s = mean_data.std()\n",
    "s"
   ]
  },
  {
   "cell_type": "markdown",
   "metadata": {},
   "source": [
    "----------------------------"
   ]
  },
  {
   "cell_type": "code",
   "execution_count": 8,
   "metadata": {},
   "outputs": [
    {
     "data": {
      "text/plain": [
       "array([-2.39251487, -2.32456018, -2.32456018, -2.09351422, -1.75374075,\n",
       "       -1.72655888, -1.56346761, -1.33242165, -1.26446696, -1.23728508,\n",
       "       -1.16933039, -1.11496663, -1.04701194, -1.01983006, -1.00623912,\n",
       "       -0.92469349, -0.91110255, -0.77519317, -0.66646566, -0.6121019 ,\n",
       "       -0.50337439, -0.50337439, -0.47619251, -0.4354197 , -0.39464688,\n",
       "       -0.36746501, -0.28591937, -0.20437374, -0.1907828 , -0.1907828 ,\n",
       "       -0.17719186, -0.15000999, -0.10923717, -0.08205529, -0.08205529,\n",
       "       -0.06846435, -0.04128248, -0.02769154,  0.01308128,  0.05385409,\n",
       "        0.06744503,  0.06744503,  0.08103597,  0.09462691,  0.12180879,\n",
       "        0.1625816 ,  0.1625816 ,  0.20335442,  0.24412724,  0.28490005,\n",
       "        0.35285475,  0.43440038,  0.51594601,  0.52953695,  0.5839007 ,\n",
       "        0.67903728,  0.67903728,  0.70621915,  0.74699197,  0.76058291,\n",
       "        0.77417385,  0.77417385,  0.92367417,  0.93726511,  0.96444699,\n",
       "        0.96444699,  0.97803793,  1.01881074,  1.03240168,  1.05958356,\n",
       "        1.05958356,  1.12753825,  1.16831107,  1.33140233,  1.34499327,\n",
       "        1.35858421,  1.45372078,  1.79349425,  1.847858  ,  2.0924949 ])"
      ]
     },
     "execution_count": 8,
     "metadata": {},
     "output_type": "execute_result"
    }
   ],
   "source": [
    "# Standardized Data\n",
    "\n",
    "std_data = mean_data / s\n",
    "std_data"
   ]
  },
  {
   "cell_type": "code",
   "execution_count": 9,
   "metadata": {},
   "outputs": [
    {
     "data": {
      "text/plain": [
       "-2.997602166487923e-16"
      ]
     },
     "execution_count": 9,
     "metadata": {},
     "output_type": "execute_result"
    }
   ],
   "source": [
    "std_data.mean()"
   ]
  },
  {
   "cell_type": "code",
   "execution_count": 10,
   "metadata": {},
   "outputs": [
    {
     "data": {
      "text/plain": [
       "1.0"
      ]
     },
     "execution_count": 10,
     "metadata": {},
     "output_type": "execute_result"
    }
   ],
   "source": [
    "std_data.std()"
   ]
  },
  {
   "cell_type": "markdown",
   "metadata": {},
   "source": [
    "-----------------------"
   ]
  },
  {
   "cell_type": "markdown",
   "metadata": {},
   "source": [
    "<b>Visualizing Original Data</b>"
   ]
  },
  {
   "cell_type": "code",
   "execution_count": 11,
   "metadata": {},
   "outputs": [
    {
     "data": {
      "text/html": [
       "<div>\n",
       "<style scoped>\n",
       "    .dataframe tbody tr th:only-of-type {\n",
       "        vertical-align: middle;\n",
       "    }\n",
       "\n",
       "    .dataframe tbody tr th {\n",
       "        vertical-align: top;\n",
       "    }\n",
       "\n",
       "    .dataframe thead th {\n",
       "        text-align: right;\n",
       "    }\n",
       "</style>\n",
       "<table border=\"1\" class=\"dataframe\">\n",
       "  <thead>\n",
       "    <tr style=\"text-align: right;\">\n",
       "      <th></th>\n",
       "      <th>Interval</th>\n",
       "      <th>Frequency</th>\n",
       "    </tr>\n",
       "  </thead>\n",
       "  <tbody>\n",
       "    <tr>\n",
       "      <th>0</th>\n",
       "      <td>(567, 584]</td>\n",
       "      <td>2</td>\n",
       "    </tr>\n",
       "    <tr>\n",
       "      <th>1</th>\n",
       "      <td>(584, 600]</td>\n",
       "      <td>1</td>\n",
       "    </tr>\n",
       "    <tr>\n",
       "      <th>2</th>\n",
       "      <td>(600, 617]</td>\n",
       "      <td>2</td>\n",
       "    </tr>\n",
       "    <tr>\n",
       "      <th>3</th>\n",
       "      <td>(617, 633]</td>\n",
       "      <td>1</td>\n",
       "    </tr>\n",
       "    <tr>\n",
       "      <th>4</th>\n",
       "      <td>(633, 650]</td>\n",
       "      <td>2</td>\n",
       "    </tr>\n",
       "    <tr>\n",
       "      <th>5</th>\n",
       "      <td>(650, 666]</td>\n",
       "      <td>4</td>\n",
       "    </tr>\n",
       "    <tr>\n",
       "      <th>6</th>\n",
       "      <td>(666, 683]</td>\n",
       "      <td>4</td>\n",
       "    </tr>\n",
       "    <tr>\n",
       "      <th>7</th>\n",
       "      <td>(683, 699]</td>\n",
       "      <td>3</td>\n",
       "    </tr>\n",
       "    <tr>\n",
       "      <th>8</th>\n",
       "      <td>(699, 716]</td>\n",
       "      <td>6</td>\n",
       "    </tr>\n",
       "    <tr>\n",
       "      <th>9</th>\n",
       "      <td>(716, 732]</td>\n",
       "      <td>6</td>\n",
       "    </tr>\n",
       "    <tr>\n",
       "      <th>10</th>\n",
       "      <td>(732, 749]</td>\n",
       "      <td>11</td>\n",
       "    </tr>\n",
       "    <tr>\n",
       "      <th>11</th>\n",
       "      <td>(749, 765]</td>\n",
       "      <td>7</td>\n",
       "    </tr>\n",
       "    <tr>\n",
       "      <th>12</th>\n",
       "      <td>(765, 782]</td>\n",
       "      <td>4</td>\n",
       "    </tr>\n",
       "    <tr>\n",
       "      <th>13</th>\n",
       "      <td>(782, 798]</td>\n",
       "      <td>5</td>\n",
       "    </tr>\n",
       "    <tr>\n",
       "      <th>14</th>\n",
       "      <td>(798, 815]</td>\n",
       "      <td>8</td>\n",
       "    </tr>\n",
       "    <tr>\n",
       "      <th>15</th>\n",
       "      <td>(815, 831]</td>\n",
       "      <td>6</td>\n",
       "    </tr>\n",
       "    <tr>\n",
       "      <th>16</th>\n",
       "      <td>(831, 848]</td>\n",
       "      <td>3</td>\n",
       "    </tr>\n",
       "    <tr>\n",
       "      <th>17</th>\n",
       "      <td>(848, 864]</td>\n",
       "      <td>1</td>\n",
       "    </tr>\n",
       "    <tr>\n",
       "      <th>18</th>\n",
       "      <td>(864, 881]</td>\n",
       "      <td>2</td>\n",
       "    </tr>\n",
       "    <tr>\n",
       "      <th>19</th>\n",
       "      <td>(881, 897]</td>\n",
       "      <td>1</td>\n",
       "    </tr>\n",
       "  </tbody>\n",
       "</table>\n",
       "</div>"
      ],
      "text/plain": [
       "      Interval  Frequency\n",
       "0   (567, 584]          2\n",
       "1   (584, 600]          1\n",
       "2   (600, 617]          2\n",
       "3   (617, 633]          1\n",
       "4   (633, 650]          2\n",
       "5   (650, 666]          4\n",
       "6   (666, 683]          4\n",
       "7   (683, 699]          3\n",
       "8   (699, 716]          6\n",
       "9   (716, 732]          6\n",
       "10  (732, 749]         11\n",
       "11  (749, 765]          7\n",
       "12  (765, 782]          4\n",
       "13  (782, 798]          5\n",
       "14  (798, 815]          8\n",
       "15  (815, 831]          6\n",
       "16  (831, 848]          3\n",
       "17  (848, 864]          1\n",
       "18  (864, 881]          2\n",
       "19  (881, 897]          1"
      ]
     },
     "execution_count": 11,
     "metadata": {},
     "output_type": "execute_result"
    }
   ],
   "source": [
    "bins = [567,584,600,617,633,650,666,683,699,716,732,749,765,782,798,815,831,848,864,881,897]\n",
    "data_bins = pd.cut(data,bins)\n",
    "freq1 = pd.Series(pd.value_counts(data_bins).sort_index())\n",
    "\n",
    "data_freq = pd.DataFrame({'Interval':data_bins.categories,'Frequency':freq1})\n",
    "data_freq.index = np.arange(0,20)\n",
    "data_freq"
   ]
  },
  {
   "cell_type": "code",
   "execution_count": 12,
   "metadata": {},
   "outputs": [
    {
     "data": {
      "text/plain": [
       "dtype('O')"
      ]
     },
     "execution_count": 12,
     "metadata": {},
     "output_type": "execute_result"
    }
   ],
   "source": [
    "data_freq.Interval.dtype"
   ]
  },
  {
   "cell_type": "code",
   "execution_count": 13,
   "metadata": {},
   "outputs": [
    {
     "data": {
      "text/plain": [
       "<matplotlib.axes._subplots.AxesSubplot at 0x9b54ae92b0>"
      ]
     },
     "execution_count": 13,
     "metadata": {},
     "output_type": "execute_result"
    },
    {
     "data": {
      "image/png": "[encoded data removed]",
      "text/plain": [
       "<Figure size 576x360 with 1 Axes>"
      ]
     },
     "metadata": {
      "needs_background": "light"
     },
     "output_type": "display_data"
    }
   ],
   "source": [
    "data_freq.plot(x ='Interval', y = 'Frequency', figsize=(8, 5), kind = 'bar', color= \"g\", title= \"BAR CHART OF ORIGINAL DATA\")"
   ]
  },
  {
   "cell_type": "markdown",
   "metadata": {},
   "source": [
    "----------------------"
   ]
  },
  {
   "cell_type": "markdown",
   "metadata": {},
   "source": [
    "<b>Visualizing Mean Subtracted Data</b>"
   ]
  },
  {
   "cell_type": "code",
   "execution_count": 14,
   "metadata": {},
   "outputs": [
    {
     "data": {
      "text/html": [
       "<div>\n",
       "<style scoped>\n",
       "    .dataframe tbody tr th:only-of-type {\n",
       "        vertical-align: middle;\n",
       "    }\n",
       "\n",
       "    .dataframe tbody tr th {\n",
       "        vertical-align: top;\n",
       "    }\n",
       "\n",
       "    .dataframe thead th {\n",
       "        text-align: right;\n",
       "    }\n",
       "</style>\n",
       "<table border=\"1\" class=\"dataframe\">\n",
       "  <thead>\n",
       "    <tr style=\"text-align: right;\">\n",
       "      <th></th>\n",
       "      <th>Interval</th>\n",
       "      <th>Frequency</th>\n",
       "    </tr>\n",
       "  </thead>\n",
       "  <tbody>\n",
       "    <tr>\n",
       "      <th>0</th>\n",
       "      <td>(-176.05, -159.08]</td>\n",
       "      <td>3</td>\n",
       "    </tr>\n",
       "    <tr>\n",
       "      <th>1</th>\n",
       "      <td>(-159.08, -142.58]</td>\n",
       "      <td>1</td>\n",
       "    </tr>\n",
       "    <tr>\n",
       "      <th>2</th>\n",
       "      <td>(-142.58, -126.08]</td>\n",
       "      <td>2</td>\n",
       "    </tr>\n",
       "    <tr>\n",
       "      <th>3</th>\n",
       "      <td>(-126.08, -109.58]</td>\n",
       "      <td>1</td>\n",
       "    </tr>\n",
       "    <tr>\n",
       "      <th>4</th>\n",
       "      <td>(-109.58, -93.08]</td>\n",
       "      <td>1</td>\n",
       "    </tr>\n",
       "    <tr>\n",
       "      <th>5</th>\n",
       "      <td>(-93.08, -76.58]</td>\n",
       "      <td>5</td>\n",
       "    </tr>\n",
       "    <tr>\n",
       "      <th>6</th>\n",
       "      <td>(-76.58, -60.08]</td>\n",
       "      <td>4</td>\n",
       "    </tr>\n",
       "    <tr>\n",
       "      <th>7</th>\n",
       "      <td>(-60.08, -43.58]</td>\n",
       "      <td>3</td>\n",
       "    </tr>\n",
       "    <tr>\n",
       "      <th>8</th>\n",
       "      <td>(-43.58, -27.08]</td>\n",
       "      <td>5</td>\n",
       "    </tr>\n",
       "    <tr>\n",
       "      <th>9</th>\n",
       "      <td>(-27.08, -10.58]</td>\n",
       "      <td>7</td>\n",
       "    </tr>\n",
       "    <tr>\n",
       "      <th>10</th>\n",
       "      <td>(-10.58, 5.92]</td>\n",
       "      <td>10</td>\n",
       "    </tr>\n",
       "    <tr>\n",
       "      <th>11</th>\n",
       "      <td>(5.92, 22.42]</td>\n",
       "      <td>8</td>\n",
       "    </tr>\n",
       "    <tr>\n",
       "      <th>12</th>\n",
       "      <td>(22.42, 38.92]</td>\n",
       "      <td>3</td>\n",
       "    </tr>\n",
       "    <tr>\n",
       "      <th>13</th>\n",
       "      <td>(38.92, 55.42]</td>\n",
       "      <td>6</td>\n",
       "    </tr>\n",
       "    <tr>\n",
       "      <th>14</th>\n",
       "      <td>(55.42, 71.92]</td>\n",
       "      <td>7</td>\n",
       "    </tr>\n",
       "    <tr>\n",
       "      <th>15</th>\n",
       "      <td>(71.92, 88.42]</td>\n",
       "      <td>7</td>\n",
       "    </tr>\n",
       "    <tr>\n",
       "      <th>16</th>\n",
       "      <td>(88.42, 104.92]</td>\n",
       "      <td>3</td>\n",
       "    </tr>\n",
       "    <tr>\n",
       "      <th>17</th>\n",
       "      <td>(104.92, 121.42]</td>\n",
       "      <td>1</td>\n",
       "    </tr>\n",
       "    <tr>\n",
       "      <th>18</th>\n",
       "      <td>(121.42, 137.92]</td>\n",
       "      <td>2</td>\n",
       "    </tr>\n",
       "    <tr>\n",
       "      <th>19</th>\n",
       "      <td>(137.92, 154.42]</td>\n",
       "      <td>1</td>\n",
       "    </tr>\n",
       "  </tbody>\n",
       "</table>\n",
       "</div>"
      ],
      "text/plain": [
       "              Interval  Frequency\n",
       "0   (-176.05, -159.08]          3\n",
       "1   (-159.08, -142.58]          1\n",
       "2   (-142.58, -126.08]          2\n",
       "3   (-126.08, -109.58]          1\n",
       "4    (-109.58, -93.08]          1\n",
       "5     (-93.08, -76.58]          5\n",
       "6     (-76.58, -60.08]          4\n",
       "7     (-60.08, -43.58]          3\n",
       "8     (-43.58, -27.08]          5\n",
       "9     (-27.08, -10.58]          7\n",
       "10      (-10.58, 5.92]         10\n",
       "11       (5.92, 22.42]          8\n",
       "12      (22.42, 38.92]          3\n",
       "13      (38.92, 55.42]          6\n",
       "14      (55.42, 71.92]          7\n",
       "15      (71.92, 88.42]          7\n",
       "16     (88.42, 104.92]          3\n",
       "17    (104.92, 121.42]          1\n",
       "18    (121.42, 137.92]          2\n",
       "19    (137.92, 154.42]          1"
      ]
     },
     "execution_count": 14,
     "metadata": {},
     "output_type": "execute_result"
    }
   ],
   "source": [
    "bins2 = [-176.05,-159.08,-142.58,-126.08,-109.58,-93.08,-76.58,-60.08,-43.58,-27.08,-10.58,5.92,22.42,38.92,55.42,71.92,88.42,104.92,121.42,137.92,154.42]\n",
    "mean_data_bins = pd.cut(mean_data,bins2)\n",
    "freq2 = pd.Series(pd.value_counts(mean_data_bins).sort_index())\n",
    "\n",
    "mean_data_freq = pd.DataFrame({'Interval':mean_data_bins.categories,'Frequency':freq2})\n",
    "mean_data_freq.index = np.arange(0,20)\n",
    "mean_data_freq"
   ]
  },
  {
   "cell_type": "code",
   "execution_count": 15,
   "metadata": {},
   "outputs": [
    {
     "data": {
      "text/plain": [
       "dtype('O')"
      ]
     },
     "execution_count": 15,
     "metadata": {},
     "output_type": "execute_result"
    }
   ],
   "source": [
    "mean_data_freq.Interval.dtype"
   ]
  },
  {
   "cell_type": "code",
   "execution_count": 16,
   "metadata": {},
   "outputs": [
    {
     "data": {
      "text/plain": [
       "<matplotlib.axes._subplots.AxesSubplot at 0x9b54ec89b0>"
      ]
     },
     "execution_count": 16,
     "metadata": {},
     "output_type": "execute_result"
    },
    {
     "data": {
      "image/png": "[encoded data removed]",
      "text/plain": [
       "<Figure size 576x360 with 1 Axes>"
      ]
     },
     "metadata": {
      "needs_background": "light"
     },
     "output_type": "display_data"
    }
   ],
   "source": [
    "mean_data_freq.plot(x ='Interval', y = 'Frequency', figsize=(8, 5), kind = 'bar', color= \"maroon\", title= \"BAR CHART OF MEAN SUBTRACTED DATA\")"
   ]
  },
  {
   "cell_type": "markdown",
   "metadata": {},
   "source": [
    "----------------------------------------------"
   ]
  },
  {
   "cell_type": "markdown",
   "metadata": {},
   "source": [
    "<b>Visualizing Standardized Data</b>"
   ]
  },
  {
   "cell_type": "code",
   "execution_count": 17,
   "metadata": {},
   "outputs": [
    {
     "data": {
      "text/html": [
       "<div>\n",
       "<style scoped>\n",
       "    .dataframe tbody tr th:only-of-type {\n",
       "        vertical-align: middle;\n",
       "    }\n",
       "\n",
       "    .dataframe tbody tr th {\n",
       "        vertical-align: top;\n",
       "    }\n",
       "\n",
       "    .dataframe thead th {\n",
       "        text-align: right;\n",
       "    }\n",
       "</style>\n",
       "<table border=\"1\" class=\"dataframe\">\n",
       "  <thead>\n",
       "    <tr style=\"text-align: right;\">\n",
       "      <th></th>\n",
       "      <th>Interval</th>\n",
       "      <th>Frequency</th>\n",
       "    </tr>\n",
       "  </thead>\n",
       "  <tbody>\n",
       "    <tr>\n",
       "      <th>0</th>\n",
       "      <td>(-2.39, -2.15]</td>\n",
       "      <td>2</td>\n",
       "    </tr>\n",
       "    <tr>\n",
       "      <th>1</th>\n",
       "      <td>(-2.15, -1.93]</td>\n",
       "      <td>1</td>\n",
       "    </tr>\n",
       "    <tr>\n",
       "      <th>2</th>\n",
       "      <td>(-1.93, -1.7]</td>\n",
       "      <td>2</td>\n",
       "    </tr>\n",
       "    <tr>\n",
       "      <th>3</th>\n",
       "      <td>(-1.7, -1.48]</td>\n",
       "      <td>1</td>\n",
       "    </tr>\n",
       "    <tr>\n",
       "      <th>4</th>\n",
       "      <td>(-1.48, -1.26]</td>\n",
       "      <td>2</td>\n",
       "    </tr>\n",
       "    <tr>\n",
       "      <th>5</th>\n",
       "      <td>(-1.26, -1.04]</td>\n",
       "      <td>4</td>\n",
       "    </tr>\n",
       "    <tr>\n",
       "      <th>6</th>\n",
       "      <td>(-1.04, -0.81]</td>\n",
       "      <td>4</td>\n",
       "    </tr>\n",
       "    <tr>\n",
       "      <th>7</th>\n",
       "      <td>(-0.81, -0.59]</td>\n",
       "      <td>3</td>\n",
       "    </tr>\n",
       "    <tr>\n",
       "      <th>8</th>\n",
       "      <td>(-0.59, -0.37]</td>\n",
       "      <td>5</td>\n",
       "    </tr>\n",
       "    <tr>\n",
       "      <th>9</th>\n",
       "      <td>(-0.37, -0.14]</td>\n",
       "      <td>7</td>\n",
       "    </tr>\n",
       "    <tr>\n",
       "      <th>10</th>\n",
       "      <td>(-0.14, 0.08]</td>\n",
       "      <td>10</td>\n",
       "    </tr>\n",
       "    <tr>\n",
       "      <th>11</th>\n",
       "      <td>(0.08, 0.3]</td>\n",
       "      <td>8</td>\n",
       "    </tr>\n",
       "    <tr>\n",
       "      <th>12</th>\n",
       "      <td>(0.3, 0.53]</td>\n",
       "      <td>4</td>\n",
       "    </tr>\n",
       "    <tr>\n",
       "      <th>13</th>\n",
       "      <td>(0.53, 0.75]</td>\n",
       "      <td>5</td>\n",
       "    </tr>\n",
       "    <tr>\n",
       "      <th>14</th>\n",
       "      <td>(0.75, 0.97]</td>\n",
       "      <td>7</td>\n",
       "    </tr>\n",
       "    <tr>\n",
       "      <th>15</th>\n",
       "      <td>(0.97, 1.2]</td>\n",
       "      <td>7</td>\n",
       "    </tr>\n",
       "    <tr>\n",
       "      <th>16</th>\n",
       "      <td>(1.2, 1.42]</td>\n",
       "      <td>3</td>\n",
       "    </tr>\n",
       "    <tr>\n",
       "      <th>17</th>\n",
       "      <td>(1.42, 1.64]</td>\n",
       "      <td>1</td>\n",
       "    </tr>\n",
       "    <tr>\n",
       "      <th>18</th>\n",
       "      <td>(1.64, 1.87]</td>\n",
       "      <td>2</td>\n",
       "    </tr>\n",
       "    <tr>\n",
       "      <th>19</th>\n",
       "      <td>(1.87, 2.09]</td>\n",
       "      <td>0</td>\n",
       "    </tr>\n",
       "  </tbody>\n",
       "</table>\n",
       "</div>"
      ],
      "text/plain": [
       "          Interval  Frequency\n",
       "0   (-2.39, -2.15]          2\n",
       "1   (-2.15, -1.93]          1\n",
       "2    (-1.93, -1.7]          2\n",
       "3    (-1.7, -1.48]          1\n",
       "4   (-1.48, -1.26]          2\n",
       "5   (-1.26, -1.04]          4\n",
       "6   (-1.04, -0.81]          4\n",
       "7   (-0.81, -0.59]          3\n",
       "8   (-0.59, -0.37]          5\n",
       "9   (-0.37, -0.14]          7\n",
       "10   (-0.14, 0.08]         10\n",
       "11     (0.08, 0.3]          8\n",
       "12     (0.3, 0.53]          4\n",
       "13    (0.53, 0.75]          5\n",
       "14    (0.75, 0.97]          7\n",
       "15     (0.97, 1.2]          7\n",
       "16     (1.2, 1.42]          3\n",
       "17    (1.42, 1.64]          1\n",
       "18    (1.64, 1.87]          2\n",
       "19    (1.87, 2.09]          0"
      ]
     },
     "execution_count": 17,
     "metadata": {},
     "output_type": "execute_result"
    }
   ],
   "source": [
    "bins3 = [-2.39,-2.15,-1.93,-1.70,-1.48,-1.26,-1.04,-0.81,-0.59,-0.37,-0.14,0.08,0.30,0.53,0.75,0.97,1.20,1.42,1.64,1.87,2.09]\n",
    "std_data_bins = pd.cut(std_data,bins3)\n",
    "freq2 = pd.Series(pd.value_counts(std_data_bins).sort_index())\n",
    "\n",
    "std_data_freq = pd.DataFrame({'Interval':std_data_bins.categories,'Frequency':freq2})\n",
    "std_data_freq.index = np.arange(0,20)\n",
    "std_data_freq"
   ]
  },
  {
   "cell_type": "code",
   "execution_count": 18,
   "metadata": {},
   "outputs": [
    {
     "data": {
      "text/plain": [
       "<matplotlib.axes._subplots.AxesSubplot at 0x9b5535c668>"
      ]
     },
     "execution_count": 18,
     "metadata": {},
     "output_type": "execute_result"
    },
    {
     "data": {
      "image/png": "[encoded data removed]",
      "text/plain": [
       "<Figure size 576x360 with 1 Axes>"
      ]
     },
     "metadata": {
      "needs_background": "light"
     },
     "output_type": "display_data"
    }
   ],
   "source": [
    "std_data_freq.plot(x ='Interval', y = 'Frequency', figsize=(8, 5), kind = 'bar', color= \"navy\", title= \"BAR CHART OF STANDARDIZED DATA\")"
   ]
  }
 ],
 "metadata": {
  "kernelspec": {
   "display_name": "Python 3",
   "language": "python",
   "name": "python3"
  },
  "language_info": {
   "codemirror_mode": {
    "name": "ipython",
    "version": 3
   },
   "file_extension": ".py",
   "mimetype": "text/x-python",
   "name": "python",
   "nbconvert_exporter": "python",
   "pygments_lexer": "ipython3",
   "version": "3.7.0"
  }
 },
 "nbformat": 4,
 "nbformat_minor": 4
}
