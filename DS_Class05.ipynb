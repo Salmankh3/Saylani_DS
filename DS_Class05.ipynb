{
 "cells": [
  {
   "cell_type": "markdown",
   "metadata": {},
   "source": [
    "# Dictionary Comprehension"
   ]
  },
  {
   "cell_type": "code",
   "execution_count": 7,
   "metadata": {},
   "outputs": [],
   "source": [
    "oldPrice_in_rs = {\"Biryani\":150,\n",
    "             \"Tikka\":250,\n",
    "             \"Fish\":450,\n",
    "             \"Coffee\":120\n",
    "            }"
   ]
  },
  {
   "cell_type": "code",
   "execution_count": 8,
   "metadata": {},
   "outputs": [],
   "source": [
    "price_in_dollars = {item: (price/160) for item,price in oldPrice_in_rs.items()}"
   ]
  },
  {
   "cell_type": "code",
   "execution_count": 9,
   "metadata": {},
   "outputs": [
    {
     "data": {
      "text/plain": [
       "{'Biryani': 0.9375, 'Tikka': 1.5625, 'Fish': 2.8125, 'Coffee': 0.75}"
      ]
     },
     "execution_count": 9,
     "metadata": {},
     "output_type": "execute_result"
    }
   ],
   "source": [
    "price_in_dollars"
   ]
  },
  {
   "cell_type": "code",
   "execution_count": 10,
   "metadata": {},
   "outputs": [],
   "source": [
    "price_in_dollars_rounded = {item: round(price/160) for item,price in oldPrice_in_rs.items()}"
   ]
  },
  {
   "cell_type": "code",
   "execution_count": 11,
   "metadata": {},
   "outputs": [
    {
     "data": {
      "text/plain": [
       "{'Biryani': 1, 'Tikka': 2, 'Fish': 3, 'Coffee': 1}"
      ]
     },
     "execution_count": 11,
     "metadata": {},
     "output_type": "execute_result"
    }
   ],
   "source": [
    "price_in_dollars_rounded"
   ]
  },
  {
   "cell_type": "code",
   "execution_count": 12,
   "metadata": {},
   "outputs": [],
   "source": [
    "price_in_dollars_two_dec_rounded = {item: round(price/160,2) for item,price in oldPrice_in_rs.items()}"
   ]
  },
  {
   "cell_type": "code",
   "execution_count": 13,
   "metadata": {},
   "outputs": [
    {
     "data": {
      "text/plain": [
       "{'Biryani': 0.94, 'Tikka': 1.56, 'Fish': 2.81, 'Coffee': 0.75}"
      ]
     },
     "execution_count": 13,
     "metadata": {},
     "output_type": "execute_result"
    }
   ],
   "source": [
    "price_in_dollars_two_dec_rounded"
   ]
  },
  {
   "cell_type": "code",
   "execution_count": 14,
   "metadata": {},
   "outputs": [],
   "source": [
    "#math.ceil #math.floor"
   ]
  },
  {
   "cell_type": "code",
   "execution_count": 17,
   "metadata": {},
   "outputs": [],
   "source": [
    "#Adding 2 Dollars to the prices less than 1 dollar\n",
    "price_in_dollars_updated = {item:price+2 if price<1 else price for item,price in price_in_dollars.items()}"
   ]
  },
  {
   "cell_type": "code",
   "execution_count": 18,
   "metadata": {},
   "outputs": [
    {
     "data": {
      "text/plain": [
       "{'Biryani': 2.9375, 'Tikka': 1.5625, 'Fish': 2.8125, 'Coffee': 2.75}"
      ]
     },
     "execution_count": 18,
     "metadata": {},
     "output_type": "execute_result"
    }
   ],
   "source": [
    "price_in_dollars_updated"
   ]
  },
  {
   "cell_type": "code",
   "execution_count": 19,
   "metadata": {},
   "outputs": [
    {
     "data": {
      "text/plain": [
       "{'Biryani': 0.9375, 'Tikka': 1.5625, 'Fish': 2.8125, 'Coffee': 0.75}"
      ]
     },
     "execution_count": 19,
     "metadata": {},
     "output_type": "execute_result"
    }
   ],
   "source": [
    "price_in_dollars"
   ]
  },
  {
   "cell_type": "code",
   "execution_count": 21,
   "metadata": {},
   "outputs": [],
   "source": [
    "rivers = {'Chinab':'Pakistan','Ganga':'India','Indus':'Pakistan','Nile':'Egypt'}"
   ]
  },
  {
   "cell_type": "code",
   "execution_count": 24,
   "metadata": {},
   "outputs": [
    {
     "name": "stdout",
     "output_type": "stream",
     "text": [
      "The Chinab flows through Pakistan.\n",
      "The Ganga flows through India.\n",
      "The Indus flows through Pakistan.\n",
      "The Nile flows through Egypt.\n"
     ]
    }
   ],
   "source": [
    "for river, country in rivers.items():\n",
    "    print(\"The \" + river + \" flows through \" + country + \".\")"
   ]
  },
  {
   "cell_type": "markdown",
   "metadata": {},
   "source": [
    "# A List of List"
   ]
  },
  {
   "cell_type": "code",
   "execution_count": 28,
   "metadata": {},
   "outputs": [],
   "source": [
    "listofflist= [[11,22,33,44],[55,66,77,88],[1,2,3],['a','b']]"
   ]
  },
  {
   "cell_type": "code",
   "execution_count": 29,
   "metadata": {},
   "outputs": [
    {
     "data": {
      "text/plain": [
       "1"
      ]
     },
     "execution_count": 29,
     "metadata": {},
     "output_type": "execute_result"
    }
   ],
   "source": [
    "listofflist[-2][-3]"
   ]
  },
  {
   "cell_type": "markdown",
   "metadata": {},
   "source": [
    "# List of Dictionary"
   ]
  },
  {
   "cell_type": "code",
   "execution_count": 31,
   "metadata": {},
   "outputs": [],
   "source": [
    "listofdictionary= [oldPrice_in_rs,price_in_dollars_two_dec_rounded,price_in_dollars_updated]"
   ]
  },
  {
   "cell_type": "code",
   "execution_count": 33,
   "metadata": {},
   "outputs": [
    {
     "data": {
      "text/plain": [
       "2.9375"
      ]
     },
     "execution_count": 33,
     "metadata": {},
     "output_type": "execute_result"
    }
   ],
   "source": [
    "listofdictionary[2]['Biryani']"
   ]
  },
  {
   "cell_type": "markdown",
   "metadata": {},
   "source": [
    "# Dictionart of Dictionary"
   ]
  },
  {
   "cell_type": "code",
   "execution_count": 36,
   "metadata": {},
   "outputs": [],
   "source": [
    "dictofdict = {'saylani':\n",
    "              {'smit':['web','graphics','ai','ccna'],\n",
    "               'health':['opd',\n",
    "                         'icu',\n",
    "                         'vaccine']},\n",
    "             'university':{'CS':['1st','2nd','3rd','4th'],\n",
    "                          'admin':['fees','timetable','exams']}\n",
    "             }"
   ]
  },
  {
   "cell_type": "code",
   "execution_count": 40,
   "metadata": {},
   "outputs": [
    {
     "data": {
      "text/plain": [
       "{'saylani': {'smit': ['web', 'graphics', 'ai', 'ccna'],\n",
       "  'health': ['opd', 'icu', 'vaccine']},\n",
       " 'university': {'CS': ['1st', '2nd', '3rd', '4th'],\n",
       "  'admin': ['fees', 'timetable', 'exams']}}"
      ]
     },
     "execution_count": 40,
     "metadata": {},
     "output_type": "execute_result"
    }
   ],
   "source": [
    "dictofdict"
   ]
  },
  {
   "cell_type": "code",
   "execution_count": 42,
   "metadata": {},
   "outputs": [
    {
     "data": {
      "text/plain": [
       "'timetable'"
      ]
     },
     "execution_count": 42,
     "metadata": {},
     "output_type": "execute_result"
    }
   ],
   "source": [
    "dictofdict['university']['admin'][-2]"
   ]
  },
  {
   "cell_type": "code",
   "execution_count": 44,
   "metadata": {},
   "outputs": [
    {
     "data": {
      "text/plain": [
       "True"
      ]
     },
     "execution_count": 44,
     "metadata": {},
     "output_type": "execute_result"
    }
   ],
   "source": [
    "'university' in dictofdict"
   ]
  },
  {
   "cell_type": "code",
   "execution_count": 47,
   "metadata": {},
   "outputs": [
    {
     "data": {
      "text/plain": [
       "True"
      ]
     },
     "execution_count": 47,
     "metadata": {},
     "output_type": "execute_result"
    }
   ],
   "source": [
    "'smit' in dictofdict['saylani']"
   ]
  },
  {
   "cell_type": "code",
   "execution_count": 49,
   "metadata": {},
   "outputs": [
    {
     "name": "stdout",
     "output_type": "stream",
     "text": [
      "True\n"
     ]
    }
   ],
   "source": [
    "for pk,pv in dictofdict.items():\n",
    "    if pk == 'university':\n",
    "        for uk,uv in dictofdict[pk].items():\n",
    "            if uk == 'admin':\n",
    "                print('exams' in uv)"
   ]
  },
  {
   "cell_type": "code",
   "execution_count": 55,
   "metadata": {},
   "outputs": [
    {
     "name": "stdout",
     "output_type": "stream",
     "text": [
      "False\n",
      "True\n"
     ]
    }
   ],
   "source": [
    "for pk,pv in dictofdict.items():\n",
    "    if pk == 'university':\n",
    "        for uk,uv in dictofdict[pk].items():\n",
    "            if uk == 'admin' or uk == 'CS':\n",
    "                print('exams' in uv)"
   ]
  },
  {
   "cell_type": "code",
   "execution_count": 58,
   "metadata": {},
   "outputs": [
    {
     "name": "stdout",
     "output_type": "stream",
     "text": [
      "False True\n",
      "True False\n"
     ]
    }
   ],
   "source": [
    "for pk,pv in dictofdict.items():\n",
    "    if pk == 'university':\n",
    "        for uk,uv in dictofdict[pk].items():\n",
    "            if uk == 'admin' or uk == 'CS':\n",
    "                print('exams' in uv, \"1st\" in uv)"
   ]
  },
  {
   "cell_type": "code",
   "execution_count": 60,
   "metadata": {},
   "outputs": [
    {
     "name": "stdout",
     "output_type": "stream",
     "text": [
      "True\n"
     ]
    }
   ],
   "source": [
    "for v in dictofdict['university']['admin']:\n",
    "    if v == 'exams':\n",
    "        print('True')"
   ]
  },
  {
   "cell_type": "code",
   "execution_count": null,
   "metadata": {},
   "outputs": [],
   "source": []
  }
 ],
 "metadata": {
  "kernelspec": {
   "display_name": "Python 3",
   "language": "python",
   "name": "python3"
  },
  "language_info": {
   "codemirror_mode": {
    "name": "ipython",
    "version": 3
   },
   "file_extension": ".py",
   "mimetype": "text/x-python",
   "name": "python",
   "nbconvert_exporter": "python",
   "pygments_lexer": "ipython3",
   "version": "3.7.6"
  }
 },
 "nbformat": 4,
 "nbformat_minor": 4
}
