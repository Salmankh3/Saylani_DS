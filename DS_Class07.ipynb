{
 "cells": [
  {
   "cell_type": "markdown",
   "metadata": {},
   "source": [
    "# Filling Dictionary With User input"
   ]
  },
  {
   "cell_type": "code",
   "execution_count": 1,
   "metadata": {},
   "outputs": [
    {
     "name": "stdout",
     "output_type": "stream",
     "text": [
      "\n",
      "Enter Your Name: Salman\n",
      "Which Place do you Like to Visit this month? Lahore\n",
      "Would you like to add another person's information? yes\n",
      "\n",
      "Enter Your Name: Uzaif\n",
      "Which Place do you Like to Visit this month? Murree\n",
      "Would you like to add another person's information? no\n",
      "\n",
      "--Poll Results--\n",
      "Salman would like to visit Lahore this month\n",
      "Uzaif would like to visit Murree this month\n"
     ]
    }
   ],
   "source": [
    "responses = {}\n",
    "flag = True\n",
    "while flag:\n",
    "    name = input(\"\\nEnter Your Name: \")\n",
    "    r = input(\"Which Place do you Like to Visit this month? \")\n",
    "    responses[name] = r\n",
    "    repeat = input(\"Would you like to add another person's information? \")\n",
    "    if repeat == \"no\":\n",
    "        flag = False\n",
    "print(\"\\n--Poll Results--\")\n",
    "for name, r in responses.items():\n",
    "    print(name + \" would like to visit \" +r+ \" this month\")"
   ]
  },
  {
   "cell_type": "markdown",
   "metadata": {},
   "source": [
    "# Back To Functions"
   ]
  },
  {
   "cell_type": "markdown",
   "metadata": {},
   "source": [
    "#Two things in functions\n",
    "#Definition\n",
    "#Call"
   ]
  },
  {
   "cell_type": "code",
   "execution_count": 2,
   "metadata": {},
   "outputs": [],
   "source": [
    "def add():\n",
    "    \"\"\"This function takes no arguments, it is parameterless\n",
    "    It returns the sum of two integers\"\"\" #DocString For Telling what the function does\n",
    "    num1 = int(input(\"Enter First Number: \"))\n",
    "    num2 = int(input(\"Enter Second Number: \"))\n",
    "    return num1 + num2"
   ]
  },
  {
   "cell_type": "code",
   "execution_count": 3,
   "metadata": {},
   "outputs": [
    {
     "name": "stdout",
     "output_type": "stream",
     "text": [
      "Enter First Number: 14\n",
      "Enter Second Number: 12\n"
     ]
    },
    {
     "data": {
      "text/plain": [
       "26"
      ]
     },
     "execution_count": 3,
     "metadata": {},
     "output_type": "execute_result"
    }
   ],
   "source": [
    "add()"
   ]
  },
  {
   "cell_type": "code",
   "execution_count": 4,
   "metadata": {},
   "outputs": [],
   "source": [
    "#Positional Arguments in Function\n",
    "def subtract(a,b):\n",
    "    \"\"\"Takes two arguments and returns after subtraction\"\"\"\n",
    "    return a - b"
   ]
  },
  {
   "cell_type": "code",
   "execution_count": 5,
   "metadata": {},
   "outputs": [
    {
     "name": "stdout",
     "output_type": "stream",
     "text": [
      "Enter a Number : 45\n",
      "Enter a Number : 10\n"
     ]
    },
    {
     "data": {
      "text/plain": [
       "35"
      ]
     },
     "execution_count": 5,
     "metadata": {},
     "output_type": "execute_result"
    }
   ],
   "source": [
    "no1 = int(input(\"Enter a Number : \"))\n",
    "no2 = int(input(\"Enter a Number : \"))\n",
    "subtract(no1,no2)"
   ]
  },
  {
   "cell_type": "code",
   "execution_count": 13,
   "metadata": {},
   "outputs": [],
   "source": [
    "def average(maths,english,urdu,total):\n",
    "    \"\"\"Takes four arguments as obtain marks of three subjects and total marks\n",
    "     in order to calculate percentage\"\"\"\n",
    "    obt = maths + english + urdu\n",
    "    avg = (obt/total)*100\n",
    "    print(f\"The percentage is {avg}\")"
   ]
  },
  {
   "cell_type": "code",
   "execution_count": 14,
   "metadata": {},
   "outputs": [
    {
     "name": "stdout",
     "output_type": "stream",
     "text": [
      "Enter Maths Marks: 66\n",
      "Enter English Marks: 61\n",
      "Enter Urdu Marks: 55\n",
      "Enter Total Marks: 225\n",
      "The percentage is 80.88888888888889\n"
     ]
    }
   ],
   "source": [
    "a = int(input(\"Enter Maths Marks: \"))\n",
    "b = int(input(\"Enter English Marks: \"))\n",
    "c = int(input(\"Enter Urdu Marks: \"))\n",
    "d = int(input(\"Enter Total Marks: \"))\n",
    "average(a,b,c,d)"
   ]
  },
  {
   "cell_type": "markdown",
   "metadata": {},
   "source": [
    "Positional Arguments can't be added when we use Keyword Arguments"
   ]
  },
  {
   "cell_type": "code",
   "execution_count": 15,
   "metadata": {},
   "outputs": [],
   "source": [
    "#Default Parameter\n",
    "#If User doesnot throw any value to a parameter in an argument\n",
    "def wedone(x,y,z=0): #Here z=0 is a Default Parameter\n",
    "    print(x,y,z)\n",
    "\n"
   ]
  },
  {
   "cell_type": "code",
   "execution_count": 16,
   "metadata": {},
   "outputs": [
    {
     "name": "stdout",
     "output_type": "stream",
     "text": [
      "10 Salman 0\n"
     ]
    }
   ],
   "source": [
    "wedone(10,\"Salman\") "
   ]
  },
  {
   "cell_type": "code",
   "execution_count": 20,
   "metadata": {},
   "outputs": [],
   "source": [
    "#Example01\n",
    "#T-Shirt Program\n",
    "def make_shirt(size,text):\n",
    "    \"\"\"The function takes two arguments i.e. size and text and\n",
    "    prints a statement\"\"\"\n",
    "    print(f\"The Size of T-shirt is {size}, and Text to print on it is {text}\")\n"
   ]
  },
  {
   "cell_type": "code",
   "execution_count": 21,
   "metadata": {},
   "outputs": [
    {
     "name": "stdout",
     "output_type": "stream",
     "text": [
      "The Size of T-shirt is XL, and Text to print on it is BE BRAVE\n",
      "The Size of T-shirt is M, and Text to print on it is JUST DO IT\n"
     ]
    }
   ],
   "source": [
    "make_shirt(\"XL\",\"BE BRAVE\") #Positional Argument\n",
    "make_shirt(text=\"JUST DO IT\", size=\"M\") #keyword Argument"
   ]
  },
  {
   "cell_type": "code",
   "execution_count": 46,
   "metadata": {},
   "outputs": [],
   "source": [
    "#Example02\n",
    "#City And Country\n",
    "def describe_city(city,country=\"Pakistan\"):\n",
    "    print(city+ \" is in \"+country)"
   ]
  },
  {
   "cell_type": "code",
   "execution_count": 47,
   "metadata": {},
   "outputs": [
    {
     "name": "stdout",
     "output_type": "stream",
     "text": [
      "Karachi  is in  Pakistan\n",
      "Lahore  is in  Pakistan\n",
      "Beijing  is in  China\n"
     ]
    }
   ],
   "source": [
    "describe_city(\"Karachi\")\n",
    "describe_city(\"Lahore\")\n",
    "describe_city(\"Beijing\", country=\"China\")"
   ]
  },
  {
   "cell_type": "code",
   "execution_count": 25,
   "metadata": {},
   "outputs": [
    {
     "name": "stdout",
     "output_type": "stream",
     "text": [
      "{'First_Name': 'Salman', 'Last_Name': 'Khatri'}\n"
     ]
    }
   ],
   "source": [
    "#Taking arguments and saving in Dictionary\n",
    "def build_person(first_name, last_name):    \n",
    "    \"\"\"Return a dictionary of information about a person.\"\"\"      \n",
    "    person = {'First_Name': first_name, 'Last_Name': last_name}      \n",
    "    return person\n",
    "\n",
    "musician = build_person('Salman', 'Khatri') \n",
    "print(musician)\n"
   ]
  },
  {
   "cell_type": "code",
   "execution_count": 34,
   "metadata": {},
   "outputs": [],
   "source": [
    "def build_person(first_name, last_name, age=''):    \n",
    "    \"\"\"Return a dictionary of information about a person.\"\"\"    \n",
    "    person = {'First_Name': first_name, 'Last_Name': last_name}    \n",
    "    if age:        \n",
    "        person['Age'] = age    \n",
    "    return person"
   ]
  },
  {
   "cell_type": "code",
   "execution_count": 35,
   "metadata": {},
   "outputs": [
    {
     "name": "stdout",
     "output_type": "stream",
     "text": [
      "{'First_Name': 'Salman', 'Last_Name': 'Khatri', 'Age': 21}\n"
     ]
    }
   ],
   "source": [
    "musician = build_person('Salman', 'Khatri', age=21)\n",
    "print(musician)"
   ]
  },
  {
   "cell_type": "code",
   "execution_count": 36,
   "metadata": {},
   "outputs": [
    {
     "name": "stdout",
     "output_type": "stream",
     "text": [
      "{'First_Name': 'Uzaif', 'Last_Name': 'Kaathiyawari'}\n"
     ]
    }
   ],
   "source": [
    "musician2 = build_person('Uzaif', 'Kaathiyawari')\n",
    "print(musician2)"
   ]
  },
  {
   "cell_type": "code",
   "execution_count": 39,
   "metadata": {},
   "outputs": [],
   "source": [
    "#large Value Finder Function\n",
    "def large(x,y,z,a):\n",
    "    list1 = [x,y,z,a]\n",
    "    return max(list1)"
   ]
  },
  {
   "cell_type": "code",
   "execution_count": 41,
   "metadata": {},
   "outputs": [
    {
     "data": {
      "text/plain": [
       "44"
      ]
     },
     "execution_count": 41,
     "metadata": {},
     "output_type": "execute_result"
    }
   ],
   "source": [
    "large(10,20,44,3)"
   ]
  },
  {
   "cell_type": "code",
   "execution_count": 44,
   "metadata": {},
   "outputs": [],
   "source": [
    "def small():\n",
    "    return min([int(input())] for i in range(4))"
   ]
  },
  {
   "cell_type": "code",
   "execution_count": 45,
   "metadata": {},
   "outputs": [
    {
     "name": "stdout",
     "output_type": "stream",
     "text": [
      "34\n",
      "22\n",
      "11\n",
      "56\n"
     ]
    },
    {
     "data": {
      "text/plain": [
       "[11]"
      ]
     },
     "execution_count": 45,
     "metadata": {},
     "output_type": "execute_result"
    }
   ],
   "source": [
    "small()"
   ]
  },
  {
   "cell_type": "markdown",
   "metadata": {},
   "source": [
    "# HAPPY ENDING OF TODAY'S CLASS"
   ]
  }
 ],
 "metadata": {
  "kernelspec": {
   "display_name": "Python 3",
   "language": "python",
   "name": "python3"
  },
  "language_info": {
   "codemirror_mode": {
    "name": "ipython",
    "version": 3
   },
   "file_extension": ".py",
   "mimetype": "text/x-python",
   "name": "python",
   "nbconvert_exporter": "python",
   "pygments_lexer": "ipython3",
   "version": "3.7.6"
  }
 },
 "nbformat": 4,
 "nbformat_minor": 4
}
