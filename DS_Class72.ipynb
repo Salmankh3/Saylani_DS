{
  "nbformat": 4,
  "nbformat_minor": 0,
  "metadata": {
    "colab": {
      "name": "DS_Class72.ipynb",
      "provenance": []
    },
    "kernelspec": {
      "name": "python3",
      "display_name": "Python 3"
    },
    "language_info": {
      "name": "python"
    }
  },
  "cells": [
    {
      "cell_type": "markdown",
      "metadata": {
        "id": "ZoIUL1b12E6f"
      },
      "source": [
        "**EMBEDDING EXAMPLE ON IMDB DATASET**"
      ]
    },
    {
      "cell_type": "code",
      "metadata": {
        "colab": {
          "base_uri": "https://localhost:8080/"
        },
        "id": "fa0KTwHDo0z_",
        "outputId": "173b8ffd-8960-4a20-862d-6a25c7b57780"
      },
      "source": [
        "from keras.datasets import imdb\n",
        "from keras import preprocessing\n",
        "\n",
        "# Number of words to consider as features\n",
        "max_features = 10000\n",
        "\n",
        "# Cut texts after this number of words\n",
        "# (among top max_features most common words)\n",
        "maxlen = 20\n",
        "\n",
        "# Load the data as lists of integers.\n",
        "(x_train, y_train), (x_test, y_test) = imdb.load_data(num_words=max_features)\n",
        "\n",
        "# This turns our lists of integers\n",
        "# into a 2D integer tensor of shape `(samples, maxlen)`\n",
        "x_train = preprocessing.sequence.pad_sequences(x_train, maxlen=maxlen)\n",
        "x_test = preprocessing.sequence.pad_sequences(x_test, maxlen=maxlen)"
      ],
      "execution_count": 5,
      "outputs": [
        {
          "output_type": "stream",
          "text": [
            "<string>:6: VisibleDeprecationWarning: Creating an ndarray from ragged nested sequences (which is a list-or-tuple of lists-or-tuples-or ndarrays with different lengths or shapes) is deprecated. If you meant to do this, you must specify 'dtype=object' when creating the ndarray\n",
            "/usr/local/lib/python3.7/dist-packages/keras/datasets/imdb.py:155: VisibleDeprecationWarning: Creating an ndarray from ragged nested sequences (which is a list-or-tuple of lists-or-tuples-or ndarrays with different lengths or shapes) is deprecated. If you meant to do this, you must specify 'dtype=object' when creating the ndarray\n",
            "  x_train, y_train = np.array(xs[:idx]), np.array(labels[:idx])\n",
            "/usr/local/lib/python3.7/dist-packages/keras/datasets/imdb.py:156: VisibleDeprecationWarning: Creating an ndarray from ragged nested sequences (which is a list-or-tuple of lists-or-tuples-or ndarrays with different lengths or shapes) is deprecated. If you meant to do this, you must specify 'dtype=object' when creating the ndarray\n",
            "  x_test, y_test = np.array(xs[idx:]), np.array(labels[idx:])\n"
          ],
          "name": "stderr"
        }
      ]
    },
    {
      "cell_type": "code",
      "metadata": {
        "colab": {
          "base_uri": "https://localhost:8080/"
        },
        "id": "jfbK7zO_uH7k",
        "outputId": "ad98f5b8-f604-4268-8215-a5475c6871d9"
      },
      "source": [
        "from keras.models import Sequential\n",
        "from keras.layers import Flatten, Dense\n",
        "from keras.layers import Embedding\n",
        "\n",
        "model = Sequential()\n",
        "\n",
        "# We specify the maximum input length to our Embedding layer\n",
        "# so we can later flatten the embedded inputs\n",
        "model.add(Embedding(10000, 8, input_length=maxlen))\n",
        "\n",
        "# After the Embedding layer,\n",
        "# our activations have shape `(samples, maxlen, 8)`.\n",
        "# We flatten the 3D tensor of embeddings\n",
        "# into a 2D tensor of shape `(samples, maxlen * 8)`\n",
        "model.add(Flatten())\n",
        "\n",
        "# We add the classifier on top\n",
        "model.add(Dense(1, activation='sigmoid'))\n",
        "model.compile(optimizer='rmsprop', loss='binary_crossentropy', metrics=['acc'])\n",
        "model.summary()\n",
        "\n",
        "history = model.fit(x_train, y_train,\n",
        " epochs=10,\n",
        " batch_size=32,\n",
        " validation_split=0.2)"
      ],
      "execution_count": 6,
      "outputs": [
        {
          "output_type": "stream",
          "text": [
            "Model: \"sequential_2\"\n",
            "_________________________________________________________________\n",
            "Layer (type)                 Output Shape              Param #   \n",
            "=================================================================\n",
            "embedding_1 (Embedding)      (None, 20, 8)             80000     \n",
            "_________________________________________________________________\n",
            "flatten_1 (Flatten)          (None, 160)               0         \n",
            "_________________________________________________________________\n",
            "dense_1 (Dense)              (None, 1)                 161       \n",
            "=================================================================\n",
            "Total params: 80,161\n",
            "Trainable params: 80,161\n",
            "Non-trainable params: 0\n",
            "_________________________________________________________________\n",
            "Epoch 1/10\n",
            "625/625 [==============================] - 2s 2ms/step - loss: 0.6859 - acc: 0.5650 - val_loss: 0.6190 - val_acc: 0.6934\n",
            "Epoch 2/10\n",
            "625/625 [==============================] - 1s 1ms/step - loss: 0.5653 - acc: 0.7477 - val_loss: 0.5264 - val_acc: 0.7288\n",
            "Epoch 3/10\n",
            "625/625 [==============================] - 1s 1ms/step - loss: 0.4676 - acc: 0.7861 - val_loss: 0.5002 - val_acc: 0.7446\n",
            "Epoch 4/10\n",
            "625/625 [==============================] - 1s 1ms/step - loss: 0.4201 - acc: 0.8105 - val_loss: 0.4939 - val_acc: 0.7502\n",
            "Epoch 5/10\n",
            "625/625 [==============================] - 1s 1ms/step - loss: 0.3937 - acc: 0.8249 - val_loss: 0.4973 - val_acc: 0.7540\n",
            "Epoch 6/10\n",
            "625/625 [==============================] - 2s 3ms/step - loss: 0.3736 - acc: 0.8353 - val_loss: 0.5004 - val_acc: 0.7538\n",
            "Epoch 7/10\n",
            "625/625 [==============================] - 1s 1ms/step - loss: 0.3581 - acc: 0.8447 - val_loss: 0.5041 - val_acc: 0.7534\n",
            "Epoch 8/10\n",
            "625/625 [==============================] - 1s 1ms/step - loss: 0.3313 - acc: 0.8584 - val_loss: 0.5103 - val_acc: 0.7528\n",
            "Epoch 9/10\n",
            "625/625 [==============================] - 1s 1ms/step - loss: 0.3187 - acc: 0.8671 - val_loss: 0.5163 - val_acc: 0.7522\n",
            "Epoch 10/10\n",
            "625/625 [==============================] - 1s 2ms/step - loss: 0.2998 - acc: 0.8781 - val_loss: 0.5242 - val_acc: 0.7520\n"
          ],
          "name": "stdout"
        }
      ]
    }
  ]
}