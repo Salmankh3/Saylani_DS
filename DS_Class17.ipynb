{
 "cells": [
  {
   "cell_type": "code",
   "execution_count": 1,
   "metadata": {},
   "outputs": [
    {
     "name": "stdout",
     "output_type": "stream",
     "text": [
      "Enter your name: Salman Khatri\n"
     ]
    }
   ],
   "source": [
    "#Exercise 10.3\n",
    "x = input(\"Enter your name: \")\n",
    "with open('file01.txt','w') as f1:\n",
    "    f1.write(x)"
   ]
  },
  {
   "cell_type": "code",
   "execution_count": 2,
   "metadata": {},
   "outputs": [
    {
     "name": "stdout",
     "output_type": "stream",
     "text": [
      "Enter you name (Enter q to quit) : Salman\n",
      "Hi Salman you are invited as a guest\n",
      "Enter you name (Enter q to quit) : Talha\n",
      "Hi Talha you are invited as a guest\n",
      "Enter you name (Enter q to quit) : Uzaif\n",
      "Hi Uzaif you are invited as a guest\n",
      "Enter you name (Enter q to quit) : Haseeb\n",
      "Hi Haseeb you are invited as a guest\n",
      "Enter you name (Enter q to quit) : Affaan\n",
      "Hi Affaan you are invited as a guest\n",
      "Enter you name (Enter q to quit) : q\n"
     ]
    }
   ],
   "source": [
    "#Exercise 10.4 #Guest-List\n",
    "flag = True\n",
    "while flag:\n",
    "    a = input(\"Enter you name (Enter q to quit) : \")\n",
    "    if a != \"q\":\n",
    "        with open('file03.txt','a') as f3:\n",
    "            f3.write(f\"{a}\\n\")\n",
    "        print(\"Hi\",a,\"you are invited as a guest\")\n",
    "    else:\n",
    "        break"
   ]
  },
  {
   "cell_type": "code",
   "execution_count": 3,
   "metadata": {},
   "outputs": [
    {
     "name": "stdout",
     "output_type": "stream",
     "text": [
      "Enter a name to check in Guest List: Affaan\n",
      "You are in the list. Welcome inside!\n",
      "Enter q for quit or press anykey for continue..q\n"
     ]
    }
   ],
   "source": [
    "#Guest-Name-Check\n",
    "while True:\n",
    "    guest = input(\"Enter a name to check in Guest List: \")\n",
    "    with open('file03.txt','r') as f3:\n",
    "        if guest in f3.read():\n",
    "            print(\"You are in the list. Welcome inside!\")\n",
    "        else:\n",
    "            print(\"Sorry! You were not in the list\")\n",
    "        if(input('Enter q for quit or press anykey for continue..').lower() == 'q'):\n",
    "            break"
   ]
  },
  {
   "cell_type": "code",
   "execution_count": 4,
   "metadata": {},
   "outputs": [
    {
     "name": "stdout",
     "output_type": "stream",
     "text": [
      "Sir, can I have your name? Salman\n",
      "Welcome Salman\n",
      "Enter q for quit or press anykey for continue..\n",
      "Sir, can I have your name? Haseeb\n",
      "Welcome Haseeb\n",
      "Enter q for quit or press anykey for continue..\n",
      "Sir, can I have your name? Waseem\n",
      "Sorry, you are not invited..\n",
      "Enter q for quit or press anykey for continue..q\n"
     ]
    }
   ],
   "source": [
    "#Guest-Name-Check-2\n",
    "while True:\n",
    "    f = open(\"file03.txt\", \"r\")\n",
    "    name = input('Sir, can I have your name? ')    \n",
    "    if name in f.read():\n",
    "        print(f'Welcome {name}')\n",
    "    else:\n",
    "        print('Sorry, you are not invited..')\n",
    "    if(input('Enter q for quit or press anykey for continue..').lower() == 'q'):\n",
    "        break;"
   ]
  },
  {
   "cell_type": "code",
   "execution_count": 8,
   "metadata": {},
   "outputs": [
    {
     "name": "stdout",
     "output_type": "stream",
     "text": [
      "Find name or quit: Danish\n",
      "SORRY\n"
     ]
    }
   ],
   "source": [
    "#Guest-Check-Without-Loop\n",
    "with open('file03.txt','r') as r:\n",
    "    guest = r.read()\n",
    "    guest_name = input('Find name or quit: ')\n",
    "    if guest_name in guest:\n",
    "        print('WELCOME')\n",
    "    else: \n",
    "        print('SORRY')"
   ]
  },
  {
   "cell_type": "markdown",
   "metadata": {},
   "source": [
    "# JSON Files"
   ]
  },
  {
   "cell_type": "code",
   "execution_count": 10,
   "metadata": {},
   "outputs": [],
   "source": [
    "import json\n",
    "\n",
    "numbers = [2, 3, 5, 7, 11, 13]\n",
    "\n",
    "filename = 'numbers.json' \n",
    "\n",
    "with open(filename, 'w') as f_obj:     \n",
    "    json.dump(numbers, f_obj)"
   ]
  },
  {
   "cell_type": "code",
   "execution_count": 11,
   "metadata": {},
   "outputs": [
    {
     "name": "stdout",
     "output_type": "stream",
     "text": [
      "[2, 3, 5, 7, 11, 13]\n"
     ]
    }
   ],
   "source": [
    "filename = 'numbers.json' \n",
    "with open(filename) as f_obj:      \n",
    "    numbers = json.load(f_obj)    \n",
    "    print(numbers)"
   ]
  },
  {
   "cell_type": "markdown",
   "metadata": {},
   "source": [
    "Do Further Exercises"
   ]
  }
 ],
 "metadata": {
  "kernelspec": {
   "display_name": "Python 3",
   "language": "python",
   "name": "python3"
  },
  "language_info": {
   "codemirror_mode": {
    "name": "ipython",
    "version": 3
   },
   "file_extension": ".py",
   "mimetype": "text/x-python",
   "name": "python",
   "nbconvert_exporter": "python",
   "pygments_lexer": "ipython3",
   "version": "3.7.6"
  }
 },
 "nbformat": 4,
 "nbformat_minor": 4
}
