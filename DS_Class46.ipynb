{
 "cells": [
  {
   "cell_type": "markdown",
   "metadata": {},
   "source": [
    "# TYPES OF TESTS"
   ]
  },
  {
   "cell_type": "markdown",
   "metadata": {},
   "source": [
    "# T-Testing"
   ]
  },
  {
   "cell_type": "markdown",
   "metadata": {},
   "source": [
    "One-Sampled T-Test"
   ]
  },
  {
   "cell_type": "code",
   "execution_count": 5,
   "metadata": {},
   "outputs": [],
   "source": [
    "from scipy.stats import ttest_1samp\n",
    "from scipy.stats import ttest_ind\n",
    "from scipy.stats import ttest_rel\n",
    "from scipy import stats\n",
    "from statsmodels.stats import weightstats as stests\n",
    "import pandas as pd\n",
    "import numpy as np"
   ]
  },
  {
   "cell_type": "code",
   "execution_count": 2,
   "metadata": {},
   "outputs": [
    {
     "name": "stdout",
     "output_type": "stream",
     "text": [
      "[23 28 31 27 25 25 21 30 35]\n",
      "Mean of ages:  27.22222222222222\n",
      "p-values:  0.09008713520721465\n",
      "We are accepting null hypothesis\n"
     ]
    }
   ],
   "source": [
    "# Testing Hypothesis at 95% confidence \n",
    "\n",
    "ages = np.array([23,28,31,27,25,25,21,30,35])\n",
    "print(ages)\n",
    "ages_mean = np.mean(ages)\n",
    "print(\"Mean of ages: \",ages_mean)\n",
    "tset, pval = ttest_1samp(ages, 30)\n",
    "print(\"p-values: \",pval)\n",
    "if pval < 0.05:    # alpha value is 0.05 or 5%\n",
    "    print(\"We are rejecting null hypothesis\")\n",
    "else:\n",
    "    print(\"We are accepting null hypothesis\")"
   ]
  },
  {
   "cell_type": "markdown",
   "metadata": {},
   "source": [
    "------------------"
   ]
  },
  {
   "cell_type": "markdown",
   "metadata": {},
   "source": [
    "Two-Sampled T-Test"
   ]
  },
  {
   "cell_type": "code",
   "execution_count": 3,
   "metadata": {},
   "outputs": [
    {
     "name": "stdout",
     "output_type": "stream",
     "text": [
      "==Week#01 Data==\n",
      "[23, 26, 27, 21, 23, 30, 31]\n",
      "\n",
      "==Week#02 Data==\n",
      "[30, 21, 20, 24, 28, 31, 21]\n",
      "\n",
      "Week#01 Mean Value:  25.857142857142858\n",
      "Week#01 Mean Value:  25.0\n",
      "\n",
      "Week#01 Std.Dev:  3.481730744843983\n",
      "Week#02 Std.Dev:  4.27617987059879\n",
      "\n",
      " p-value:  0.7100473253750601\n",
      "We accept null hypothesis\n"
     ]
    }
   ],
   "source": [
    "# Association between week1 and week2 data at 95% confidence\n",
    "\n",
    "week1 = [23,26,27,21,23,30,31]\n",
    "week2 = [30,21,20,24,28,31,21]\n",
    "\n",
    "print(\"==Week#01 Data==\")\n",
    "print(week1)\n",
    "print(\"\\n==Week#02 Data==\")\n",
    "print(week2)\n",
    "\n",
    "week1_mean = np.mean(week1)\n",
    "week2_mean = np.mean(week2)\n",
    "\n",
    "print(\"\\nWeek#01 Mean Value: \",week1_mean)\n",
    "print(\"Week#01 Mean Value: \",week2_mean)\n",
    "\n",
    "week1_std = np.std(week1)\n",
    "week2_std = np.std(week2)\n",
    "\n",
    "print(\"\\nWeek#01 Std.Dev: \",week1_std)\n",
    "print(\"Week#02 Std.Dev: \",week2_std)\n",
    "\n",
    "ttest,pval = ttest_ind(week1,week2)\n",
    "print(\"\\n p-value: \",pval)\n",
    "\n",
    "if pval < 0.05:\n",
    "    print(\"We reject null hypothesis\")\n",
    "else:\n",
    "    print(\"We accept null hypothesis\")"
   ]
  },
  {
   "cell_type": "markdown",
   "metadata": {},
   "source": [
    "-------------------"
   ]
  },
  {
   "cell_type": "markdown",
   "metadata": {},
   "source": [
    "Paired Sampled T-Test"
   ]
  },
  {
   "cell_type": "code",
   "execution_count": 4,
   "metadata": {},
   "outputs": [
    {
     "name": "stdout",
     "output_type": "stream",
     "text": [
      "0.2572503614669579\n",
      "accept null hypothesis\n"
     ]
    }
   ],
   "source": [
    "# Mean difference between two samples is 0\n",
    "\n",
    "df = pd.read_csv(\"student_data.csv\")\n",
    "df[['Writing','Reading']].describe()\n",
    "ttest,pval = ttest_rel(df['Writing'], df['Reading'])\n",
    "print(pval)\n",
    "if pval < 0.05:\n",
    "    print(\"reject null hypothesis\")\n",
    "else:\n",
    "    print(\"accept null hypothesis\")"
   ]
  },
  {
   "cell_type": "markdown",
   "metadata": {},
   "source": [
    "----------"
   ]
  },
  {
   "cell_type": "markdown",
   "metadata": {},
   "source": [
    "# Z-Testing"
   ]
  },
  {
   "cell_type": "markdown",
   "metadata": {},
   "source": [
    "One Sampled Z-Test"
   ]
  },
  {
   "cell_type": "code",
   "execution_count": 14,
   "metadata": {},
   "outputs": [
    {
     "name": "stdout",
     "output_type": "stream",
     "text": [
      "0.05238008867786779\n",
      "accept null hypothesis\n"
     ]
    }
   ],
   "source": [
    "ztest ,pval = stests.ztest(df['Writing'], x2=None, value=515)\n",
    "print(float(pval))\n",
    "\n",
    "if pval < 0.05:\n",
    "    print(\"reject null hypothesis\")\n",
    "else:\n",
    "    print(\"accept null hypothesis\")"
   ]
  },
  {
   "cell_type": "code",
   "execution_count": 21,
   "metadata": {},
   "outputs": [
    {
     "name": "stdout",
     "output_type": "stream",
     "text": [
      "0.0521804822585964\n",
      "accept null hypothesis\n"
     ]
    }
   ],
   "source": [
    "ztest ,pval = stests.ztest(df['Reading'], x2=None, value=505)\n",
    "print(float(pval))\n",
    "\n",
    "if pval < 0.05:\n",
    "    print(\"reject null hypothesis\")\n",
    "else:\n",
    "    print(\"accept null hypothesis\")"
   ]
  },
  {
   "cell_type": "markdown",
   "metadata": {},
   "source": [
    "------------"
   ]
  },
  {
   "cell_type": "markdown",
   "metadata": {},
   "source": [
    "Two Sampled Z-Test"
   ]
  },
  {
   "cell_type": "code",
   "execution_count": 22,
   "metadata": {},
   "outputs": [
    {
     "name": "stdout",
     "output_type": "stream",
     "text": [
      "0.6477461279760822\n",
      "accept null hypothesis\n"
     ]
    }
   ],
   "source": [
    "ztest ,pval1 = stests.ztest(df['Writing'], x2=df['Reading'], value=0,alternative='two-sided')\n",
    "print(float(pval1))\n",
    "\n",
    "if pval<0.05:\n",
    "    print(\"reject null hypothesis\")\n",
    "else:\n",
    "    print(\"accept null hypothesis\")"
   ]
  }
 ],
 "metadata": {
  "kernelspec": {
   "display_name": "Python 3",
   "language": "python",
   "name": "python3"
  },
  "language_info": {
   "codemirror_mode": {
    "name": "ipython",
    "version": 3
   },
   "file_extension": ".py",
   "mimetype": "text/x-python",
   "name": "python",
   "nbconvert_exporter": "python",
   "pygments_lexer": "ipython3",
   "version": "3.7.0"
  }
 },
 "nbformat": 4,
 "nbformat_minor": 2
}
