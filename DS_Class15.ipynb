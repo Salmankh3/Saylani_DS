{
 "cells": [
  {
   "cell_type": "markdown",
   "metadata": {},
   "source": [
    "# File Handling"
   ]
  },
  {
   "cell_type": "markdown",
   "metadata": {},
   "source": [
    "== Write =="
   ]
  },
  {
   "cell_type": "code",
   "execution_count": 1,
   "metadata": {},
   "outputs": [],
   "source": [
    "with open('abc.txt','w') as obj: # after as we put File Handler \n",
    "    obj.write('\\nHello file')    # Will ride & replace from previous"
   ]
  },
  {
   "cell_type": "code",
   "execution_count": 3,
   "metadata": {},
   "outputs": [],
   "source": [
    "with open('object.txt','w') as see:\n",
    "    see.write('Salman Khatri is a good boy')"
   ]
  },
  {
   "cell_type": "markdown",
   "metadata": {},
   "source": [
    "== Read =="
   ]
  },
  {
   "cell_type": "code",
   "execution_count": 4,
   "metadata": {},
   "outputs": [
    {
     "name": "stdout",
     "output_type": "stream",
     "text": [
      "Salman Khatri is a good boy\n"
     ]
    }
   ],
   "source": [
    "with open('object.txt','r') as f:\n",
    "    a = f.read()\n",
    "print(a)"
   ]
  },
  {
   "cell_type": "code",
   "execution_count": 5,
   "metadata": {},
   "outputs": [
    {
     "name": "stdout",
     "output_type": "stream",
     "text": [
      "Salman Khatri is a good boy\n",
      "\n"
     ]
    }
   ],
   "source": [
    "with open('object.txt','r') as f:\n",
    "    a = f.read()\n",
    "    b = f.read() # will read from where the content of is already readed\n",
    "print(a)\n",
    "print(b)"
   ]
  },
  {
   "cell_type": "code",
   "execution_count": 6,
   "metadata": {},
   "outputs": [
    {
     "name": "stdout",
     "output_type": "stream",
     "text": [
      "Salman Khatri is a good boy\n",
      "Salman Khatri is a good boy\n"
     ]
    }
   ],
   "source": [
    "with open('object.txt','r') as f:\n",
    "    a = f.read()\n",
    "    f.seek(0)    #courser we go to index 0\n",
    "    b = f.read() # will read from where the content of is already readed\n",
    "print(a)\n",
    "print(b)"
   ]
  },
  {
   "cell_type": "markdown",
   "metadata": {},
   "source": [
    "== Read & Write Miscelleneous == "
   ]
  },
  {
   "cell_type": "code",
   "execution_count": 7,
   "metadata": {},
   "outputs": [],
   "source": [
    "with open('abc.txt','w') as see:\n",
    "    see.write('I am over')\n",
    "    see.write('\\nHere we continue')"
   ]
  },
  {
   "cell_type": "code",
   "execution_count": 8,
   "metadata": {},
   "outputs": [],
   "source": [
    "with open('abc.txt','w') as g:\n",
    "    g.write('I am over')\n",
    "    g.write('\\nHere we continue')\n",
    "    g.write('\\nI am over')\n",
    "    g.write('\\nHere we continue')\n",
    "    g.write('\\nI am over')\n",
    "    g.write('\\nHere we continue')"
   ]
  },
  {
   "cell_type": "code",
   "execution_count": 9,
   "metadata": {},
   "outputs": [
    {
     "data": {
      "text/plain": [
       "'I am over\\n'"
      ]
     },
     "execution_count": 9,
     "metadata": {},
     "output_type": "execute_result"
    }
   ],
   "source": [
    "with open('abc.txt','r') as g:\n",
    "    line = g.readline()\n",
    "line"
   ]
  },
  {
   "cell_type": "code",
   "execution_count": 10,
   "metadata": {},
   "outputs": [
    {
     "data": {
      "text/plain": [
       "['I am over\\n',\n",
       " 'Here we continue\\n',\n",
       " 'I am over\\n',\n",
       " 'Here we continue\\n',\n",
       " 'I am over\\n',\n",
       " 'Here we continue']"
      ]
     },
     "execution_count": 10,
     "metadata": {},
     "output_type": "execute_result"
    }
   ],
   "source": [
    "with open('abc.txt','r') as g:\n",
    "    lines = g.readlines()\n",
    "lines"
   ]
  },
  {
   "cell_type": "markdown",
   "metadata": {},
   "source": [
    "== Append =="
   ]
  },
  {
   "cell_type": "code",
   "execution_count": 11,
   "metadata": {},
   "outputs": [],
   "source": [
    "with open('abc.txt','a') as g:\n",
    "    g.write('\\nI am over')\n",
    "    g.write('\\nHere we continue1')\n",
    "    g.write('\\nI am over2')\n",
    "    g.write('\\nHere we continue3')\n",
    "    g.write('\\nI am over4')\n",
    "    g.write('\\nHere we continue5')"
   ]
  },
  {
   "cell_type": "code",
   "execution_count": 13,
   "metadata": {},
   "outputs": [],
   "source": [
    "with open('abc1.txt','w+') as g:\n",
    "    g.write('\\nI am over')\n",
    "    g.write('\\nHere we continue1')"
   ]
  },
  {
   "cell_type": "code",
   "execution_count": 14,
   "metadata": {},
   "outputs": [
    {
     "name": "stdout",
     "output_type": "stream",
     "text": [
      "I am over\n",
      "Here we continue\n",
      "I am over\n",
      "Here we continue\n",
      "I am over\n",
      "Here we continue\n",
      "I am over\n",
      "Here we continue1\n",
      "I am over2\n",
      "Here we continue3\n",
      "I am over4\n",
      "Here we continue5\n"
     ]
    }
   ],
   "source": [
    "with open('abc.txt','r') as f:\n",
    "    context = f.read()\n",
    "print(context.strip())"
   ]
  },
  {
   "cell_type": "code",
   "execution_count": 15,
   "metadata": {},
   "outputs": [
    {
     "name": "stdout",
     "output_type": "stream",
     "text": [
      "I am over\n",
      "Here we continue\n",
      "I am over\n",
      "Here we continue\n",
      "I am over\n",
      "Here we continue\n",
      "I am over\n",
      "Here we continue1\n",
      "I am over2\n",
      "Here we continue3\n",
      "I am over4\n",
      "Here we continue5\n"
     ]
    }
   ],
   "source": [
    "with open('abc.txt','r') as f:\n",
    "    context = f.read()\n",
    "print(context.rstrip())"
   ]
  }
 ],
 "metadata": {
  "kernelspec": {
   "display_name": "Python 3",
   "language": "python",
   "name": "python3"
  },
  "language_info": {
   "codemirror_mode": {
    "name": "ipython",
    "version": 3
   },
   "file_extension": ".py",
   "mimetype": "text/x-python",
   "name": "python",
   "nbconvert_exporter": "python",
   "pygments_lexer": "ipython3",
   "version": "3.7.0"
  }
 },
 "nbformat": 4,
 "nbformat_minor": 2
}
