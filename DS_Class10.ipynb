{
 "cells": [
  {
   "cell_type": "markdown",
   "metadata": {},
   "source": [
    "# Python Generators"
   ]
  },
  {
   "cell_type": "markdown",
   "metadata": {},
   "source": [
    "yields objects from a function in iterative form"
   ]
  },
  {
   "cell_type": "markdown",
   "metadata": {},
   "source": [
    "it continues its state after every yield or successive call "
   ]
  },
  {
   "cell_type": "markdown",
   "metadata": {},
   "source": [
    "next function is used to call the generator in every iteration"
   ]
  },
  {
   "cell_type": "markdown",
   "metadata": {},
   "source": [
    "It saves memory space as you do not have to load big data again and again for iterative procedures"
   ]
  },
  {
   "cell_type": "code",
   "execution_count": 1,
   "metadata": {},
   "outputs": [
    {
     "name": "stdout",
     "output_type": "stream",
     "text": [
      "[1, 4, 9, 16, 25, 36]\n"
     ]
    }
   ],
   "source": [
    "# A simple program to calculate the square of given list of numbers \n",
    "def square_numbers(nums):\n",
    "    result = []\n",
    "    for i in nums:\n",
    "        result.append(i*i)\n",
    "    return result\n",
    "\n",
    "\n",
    "my_nums = square_numbers([1,2,3,4,5,6])\n",
    "print(my_nums)"
   ]
  },
  {
   "cell_type": "code",
   "execution_count": 2,
   "metadata": {},
   "outputs": [
    {
     "name": "stdout",
     "output_type": "stream",
     "text": [
      "<generator object square_numbers at 0x000001D8E3A6A648>\n"
     ]
    }
   ],
   "source": [
    "# Doing the same task using PYTHON GENERATORS\n",
    "def square_numbers(nums):\n",
    "    for i in nums:\n",
    "        yield (i*i)  \n",
    "        # This yield keyword makes a \n",
    "        #function,a generator\n",
    "\n",
    "my_nums = square_numbers([1,2,3,4,5])\n",
    "print(my_nums)"
   ]
  },
  {
   "cell_type": "code",
   "execution_count": 3,
   "metadata": {},
   "outputs": [
    {
     "name": "stdout",
     "output_type": "stream",
     "text": [
      "1\n"
     ]
    }
   ],
   "source": [
    "#By Using next() functon to call genrator function value by value\n",
    "print(next(my_nums))"
   ]
  },
  {
   "cell_type": "code",
   "execution_count": 4,
   "metadata": {},
   "outputs": [
    {
     "name": "stdout",
     "output_type": "stream",
     "text": [
      "4\n"
     ]
    }
   ],
   "source": [
    "print(next(my_nums))"
   ]
  },
  {
   "cell_type": "code",
   "execution_count": 5,
   "metadata": {},
   "outputs": [
    {
     "name": "stdout",
     "output_type": "stream",
     "text": [
      "9\n"
     ]
    }
   ],
   "source": [
    "print(next(my_nums))"
   ]
  },
  {
   "cell_type": "code",
   "execution_count": 6,
   "metadata": {},
   "outputs": [
    {
     "name": "stdout",
     "output_type": "stream",
     "text": [
      "16\n"
     ]
    }
   ],
   "source": [
    "print(next(my_nums))"
   ]
  },
  {
   "cell_type": "code",
   "execution_count": 7,
   "metadata": {},
   "outputs": [
    {
     "name": "stdout",
     "output_type": "stream",
     "text": [
      "25\n"
     ]
    }
   ],
   "source": [
    "print(next(my_nums))"
   ]
  },
  {
   "cell_type": "code",
   "execution_count": 8,
   "metadata": {},
   "outputs": [
    {
     "name": "stdout",
     "output_type": "stream",
     "text": [
      "1\n",
      "4\n",
      "9\n",
      "16\n",
      "25\n"
     ]
    }
   ],
   "source": [
    "#By using for loop instead of next() function <it will yield in one call as we have called multiple times with the help of for loop> \n",
    "def square_numbers(nums):\n",
    "    for i in nums:\n",
    "        yield (i*i)  \n",
    "        # This yield keyword makes a \n",
    "        #function,a generator\n",
    "\n",
    "my_nums = square_numbers([1,2,3,4,5])\n",
    "\n",
    "for num in my_nums:\n",
    "    print(num)"
   ]
  },
  {
   "cell_type": "code",
   "execution_count": 9,
   "metadata": {},
   "outputs": [],
   "source": [
    "# Another simple generator function\n",
    "def my_gen():\n",
    "    n = 1\n",
    "    print('This is printed first')\n",
    "    # Generator function contains yield statements\n",
    "    yield n\n",
    "\n",
    "    n += 1\n",
    "    print('This is printed second')\n",
    "    yield n\n",
    "\n",
    "    n += 1\n",
    "    print('This is printed at last')\n",
    "    yield n\n"
   ]
  },
  {
   "cell_type": "code",
   "execution_count": 10,
   "metadata": {},
   "outputs": [
    {
     "data": {
      "text/plain": [
       "<generator object my_gen at 0x000001D8E3A6A448>"
      ]
     },
     "execution_count": 10,
     "metadata": {},
     "output_type": "execute_result"
    }
   ],
   "source": [
    "x = my_gen()\n",
    "x"
   ]
  },
  {
   "cell_type": "code",
   "execution_count": 11,
   "metadata": {},
   "outputs": [
    {
     "name": "stdout",
     "output_type": "stream",
     "text": [
      "This is printed first\n",
      "1\n"
     ]
    }
   ],
   "source": [
    "print(next(x))"
   ]
  },
  {
   "cell_type": "code",
   "execution_count": 12,
   "metadata": {},
   "outputs": [
    {
     "name": "stdout",
     "output_type": "stream",
     "text": [
      "This is printed second\n",
      "2\n"
     ]
    }
   ],
   "source": [
    "print(next(x))"
   ]
  },
  {
   "cell_type": "code",
   "execution_count": 13,
   "metadata": {},
   "outputs": [
    {
     "name": "stdout",
     "output_type": "stream",
     "text": [
      "This is printed at last\n",
      "3\n"
     ]
    }
   ],
   "source": [
    "print(next(x))"
   ]
  },
  {
   "cell_type": "markdown",
   "metadata": {},
   "source": [
    "# EXCEPTION HANDLING"
   ]
  },
  {
   "cell_type": "markdown",
   "metadata": {},
   "source": [
    "Handling Logical Errors that may arise in between our code"
   ]
  },
  {
   "cell_type": "markdown",
   "metadata": {},
   "source": [
    "It describes what to do if an error occurs"
   ]
  },
  {
   "cell_type": "markdown",
   "metadata": {},
   "source": [
    "Helps eliminate the crashing of code due to error"
   ]
  },
  {
   "cell_type": "markdown",
   "metadata": {},
   "source": [
    "- try block: where you can check the code in which exception may occur\n",
    "- except block: where you catch the error and take action in against  "
   ]
  },
  {
   "cell_type": "code",
   "execution_count": 14,
   "metadata": {},
   "outputs": [
    {
     "name": "stdout",
     "output_type": "stream",
     "text": [
      "Enter first number: 4\n",
      "Enter second number: 2\n",
      "2.0\n",
      "End\n"
     ]
    }
   ],
   "source": [
    "#Let us have an example\n",
    "a = int(input(\"Enter first number: \"))\n",
    "b = int(input(\"Enter second number: \"))\n",
    "try:\n",
    "    c = a/b\n",
    "    print(c)\n",
    "except ZeroDivisionError:\n",
    "    print(\"You are dividing by Zero which is not possible\")\n",
    "\n",
    "print(\"End\")"
   ]
  },
  {
   "cell_type": "code",
   "execution_count": 15,
   "metadata": {},
   "outputs": [
    {
     "name": "stdout",
     "output_type": "stream",
     "text": [
      "Enter first number: 5\n",
      "Enter second number: 0\n",
      "You are dividing by Zero which is not possible\n",
      "End\n"
     ]
    }
   ],
   "source": [
    "#Same example but dividing by Zero now\n",
    "a = int(input(\"Enter first number: \"))\n",
    "b = int(input(\"Enter second number: \"))\n",
    "try:\n",
    "    c = a/b\n",
    "    print(c)\n",
    "except ZeroDivisionError:\n",
    "    print(\"You are dividing by Zero which is not possible\")\n",
    "\n",
    "print(\"End\")"
   ]
  },
  {
   "cell_type": "code",
   "execution_count": 16,
   "metadata": {},
   "outputs": [
    {
     "name": "stdout",
     "output_type": "stream",
     "text": [
      "Enter first number: \n",
      "Please Enter Value!!\n",
      "End\n"
     ]
    }
   ],
   "source": [
    "# Handling the input ValueError if you do not enter any value\n",
    "try:\n",
    "    a = int(input(\"Enter first number: \"))\n",
    "    b = int(input(\"Enter second number: \"))\n",
    "    c = a/b\n",
    "    print(c)\n",
    "except ZeroDivisionError:\n",
    "    print(\"You are dividing by Zero which is not possible\")\n",
    "except ValueError:\n",
    "    print(\"Please Enter Value!!\")\n",
    "\n",
    "\n",
    "print(\"End\")"
   ]
  },
  {
   "cell_type": "markdown",
   "metadata": {},
   "source": [
    "Using \"else\" can also help control the flow. If exception occurs, next code (after exception catch) executes, and if exception doesn't occur. else block is executed"
   ]
  },
  {
   "cell_type": "code",
   "execution_count": 27,
   "metadata": {},
   "outputs": [
    {
     "name": "stdout",
     "output_type": "stream",
     "text": [
      "Enter first number: 67\n",
      "Enter second number: 0\n",
      "You are dividing by Zero which is not possible\n",
      "Error Sudharo\n",
      "End\n"
     ]
    }
   ],
   "source": [
    "#Using else\n",
    "try:\n",
    "    a = int(input(\"Enter first number: \"))\n",
    "    b = int(input(\"Enter second number: \"))\n",
    "    c = a/b\n",
    "    print(c)\n",
    "except ZeroDivisionError:\n",
    "    print(\"You are dividing by Zero which is not possible\")\n",
    "    print(\"Error Sudharo\")\n",
    "except ValueError:\n",
    "    print(\"Please Enter Value!!\")\n",
    "    print(\"Error Sudharo\")\n",
    "\n",
    "else:\n",
    "    print(\" Exception Nahi Ai ... Ao chalen picnic\")\n",
    "\n",
    "print(\"End\")"
   ]
  },
  {
   "cell_type": "markdown",
   "metadata": {},
   "source": [
    "# END OF CLASS"
   ]
  }
 ],
 "metadata": {
  "kernelspec": {
   "display_name": "Python 3",
   "language": "python",
   "name": "python3"
  },
  "language_info": {
   "codemirror_mode": {
    "name": "ipython",
    "version": 3
   },
   "file_extension": ".py",
   "mimetype": "text/x-python",
   "name": "python",
   "nbconvert_exporter": "python",
   "pygments_lexer": "ipython3",
   "version": "3.7.6"
  }
 },
 "nbformat": 4,
 "nbformat_minor": 4
}
