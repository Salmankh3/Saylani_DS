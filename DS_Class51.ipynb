{
 "cells": [
  {
   "cell_type": "code",
   "execution_count": 2,
   "metadata": {},
   "outputs": [],
   "source": [
    "from selenium import webdriver\n",
    "import time"
   ]
  },
  {
   "cell_type": "code",
   "execution_count": 8,
   "metadata": {},
   "outputs": [],
   "source": [
    "driver = webdriver.Chrome(executable_path='C:/Users/R02-PC07/Downloads/chromedriver.exe')\n",
    "\n",
    "#Opened Facebook\n",
    "driver.get('https://www.facebook.com/')\n",
    "\n",
    "time.sleep(5)\n",
    "\n",
    "# .send_keys \n",
    "email = driver.find_element_by_id('email').send_keys('Uzaif Ahmed')\n",
    "password = driver.find_element_by_id('pass').send_keys('12345689')\n",
    "\n",
    "# .click\n",
    "Btn = driver.find_element_by_xpath(\"//button[@class='_42ft _4jy0 _6lth _4jy6 _4jy1 selected _51sy']\")\n",
    "Btn.click()\n",
    "\n",
    "time.sleep(15)\n",
    "\n",
    "driver.close()"
   ]
  },
  {
   "cell_type": "code",
   "execution_count": 13,
   "metadata": {},
   "outputs": [],
   "source": [
    "driver = webdriver.Chrome(executable_path='C:/Users/R02-PC07/Downloads/chromedriver.exe')\n",
    "\n",
    "#Opened Facebook\n",
    "driver.get('https://www.facebook.com/signup')\n",
    "\n",
    "time.sleep(5)\n",
    "\n",
    "# .send_keys \n",
    "first_name = driver.find_element_by_name(\"firstname\").send_keys('Uzaif Ahmed')\n",
    "surname = driver.find_element_by_name(\"lastname\").send_keys('Khatri')\n",
    "email = driver.find_element_by_name('reg_email__').send_keys('9054735345')\n",
    "password = driver.find_element_by_name('reg_passwd__').send_keys('fe343t93r8')\n",
    "gender = driver.find_element_by_name('sex')\n",
    "gender.click\n",
    "\n",
    "# .click\n",
    "# Btn = driver.find_element_by_xpath(\"//button[@class='_42ft _4jy0 _6lth _4jy6 _4jy1 selected _51sy']\")\n",
    "# Btn.click()\n",
    "\n",
    "time.sleep(10)\n",
    "\n",
    "driver.close()\n",
    "\n",
    "\n"
   ]
  },
  {
   "cell_type": "code",
   "execution_count": null,
   "metadata": {},
   "outputs": [],
   "source": [
    "#driver.implecitly_wait(10) : if the page works in 7 sec it will not take 10 sec\n",
    "#driver.explecetly_wait(10) : it is conditioned\n",
    "\n",
    "\n",
    "# Scroll\n",
    "# Manual Scrolling\n",
    "# driver.execute_script('window.scrollBy(0,1000)',\"\")\n",
    "\n",
    "# To get at the end of the page\n",
    "# driver.execute_script('window.scrollBy(0,document.body.scrollHeight)')\n",
    "\n",
    "#Image download & other study by yourself"
   ]
  }
 ],
 "metadata": {
  "kernelspec": {
   "display_name": "Python 3",
   "language": "python",
   "name": "python3"
  },
  "language_info": {
   "codemirror_mode": {
    "name": "ipython",
    "version": 3
   },
   "file_extension": ".py",
   "mimetype": "text/x-python",
   "name": "python",
   "nbconvert_exporter": "python",
   "pygments_lexer": "ipython3",
   "version": "3.8.5"
  }
 },
 "nbformat": 4,
 "nbformat_minor": 4
}
