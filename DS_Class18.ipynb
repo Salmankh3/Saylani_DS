{
 "cells": [
  {
   "cell_type": "markdown",
   "metadata": {},
   "source": [
    "# JSON Module"
   ]
  },
  {
   "cell_type": "code",
   "execution_count": 1,
   "metadata": {},
   "outputs": [],
   "source": [
    "#Writing in a json file \n",
    "import json\n",
    "\n",
    "numbers = [2, 3, 5, 7, 11, 13]\n",
    "\n",
    "filename = 'numbers.json'\n",
    "with open(filename, 'w') as f_obj:\n",
    "    json.dump(numbers, f_obj)"
   ]
  },
  {
   "cell_type": "code",
   "execution_count": 2,
   "metadata": {},
   "outputs": [
    {
     "name": "stdout",
     "output_type": "stream",
     "text": [
      "[2, 3, 5, 7, 11, 13]\n"
     ]
    }
   ],
   "source": [
    "#Reading data from a json file\n",
    "with open(filename) as f_obj:\n",
    "    numbers = json.load(f_obj)\n",
    "\n",
    "print(numbers)"
   ]
  },
  {
   "cell_type": "code",
   "execution_count": 3,
   "metadata": {},
   "outputs": [
    {
     "name": "stdout",
     "output_type": "stream",
     "text": [
      "What is your name? Salman\n",
      "We'll remember you when you come back, Salman!\n"
     ]
    }
   ],
   "source": [
    "#Dealing with user generated data\n",
    "username = input(\"What is your name? \")\n",
    "filename = 'username.json'\n",
    "with open(filename, 'w') as f_obj:\n",
    "    json.dump(username, f_obj)\n",
    "    print(\"We'll remember you when you come back, \" + username + \"!\")"
   ]
  },
  {
   "cell_type": "code",
   "execution_count": 4,
   "metadata": {},
   "outputs": [
    {
     "name": "stdout",
     "output_type": "stream",
     "text": [
      "Welcome back, Salman!\n"
     ]
    }
   ],
   "source": [
    "with open(filename) as f_obj:\n",
    "    username = json.load(f_obj)\n",
    "    print(\"Welcome back, \" + username + \"!\")"
   ]
  },
  {
   "cell_type": "code",
   "execution_count": 5,
   "metadata": {},
   "outputs": [
    {
     "name": "stdout",
     "output_type": "stream",
     "text": [
      "What is your name? Uzaif\n",
      "We'll remember you when you come back, Uzaif!\n"
     ]
    }
   ],
   "source": [
    "# Load the username, if it has been stored previously.\n",
    "# Otherwise, prompt for the username and store it.\n",
    "filename = 'username1.json'\n",
    "try:\n",
    "    with open(filename) as f_obj:\n",
    "        username1 = json.load(f_obj)\n",
    "except FileNotFoundError:\n",
    "    username1 = input(\"What is your name? \")\n",
    "    with open(filename, 'w') as f_obj:\n",
    "        json.dump(username1, f_obj)\n",
    "        print(\"We'll remember you when you come back, \" + username1 + \"!\")\n",
    "else:\n",
    "    print(\"Welcome back, \" + username1 + \"!\")"
   ]
  },
  {
   "cell_type": "code",
   "execution_count": 6,
   "metadata": {},
   "outputs": [
    {
     "name": "stdout",
     "output_type": "stream",
     "text": [
      "Welcome back, Uzaif!\n"
     ]
    }
   ],
   "source": [
    "with open(filename) as f_obj:\n",
    "    username1 = json.load(f_obj)\n",
    "    print(\"Welcome back, \" + username1 + \"!\")"
   ]
  },
  {
   "cell_type": "code",
   "execution_count": 8,
   "metadata": {},
   "outputs": [
    {
     "name": "stdout",
     "output_type": "stream",
     "text": [
      "What is your name? Nabeel\n",
      "We'll remember you when you come back, Nabeel!\n"
     ]
    }
   ],
   "source": [
    "#Utilizing Functions for json manipulation\n",
    "def greet_user():\n",
    "    \"\"\"Greet the user by name.\"\"\"\n",
    "    filename2 = 'username2.json'\n",
    "    try:\n",
    "        with open(filename2) as f2_obj:\n",
    "            username2 = json.load(f2_obj)\n",
    "    except FileNotFoundError:\n",
    "        username2 = input(\"What is your name? \")\n",
    "        with open(filename2, 'w') as f2_obj:\n",
    "            json.dump(username2, f2_obj)\n",
    "            print(\"We'll remember you when you come back, \" + username2 + \"!\")\n",
    "    else:\n",
    "        print(\"Welcome back, \" + username2 + \"!\")\n",
    "        \n",
    "greet_user()"
   ]
  },
  {
   "cell_type": "code",
   "execution_count": 11,
   "metadata": {},
   "outputs": [
    {
     "name": "stdout",
     "output_type": "stream",
     "text": [
      "Welcome back, Nabeel!\n"
     ]
    }
   ],
   "source": [
    "def rem_user():\n",
    "    filename2 = 'username2.json'\n",
    "    with open(filename2) as f2_obj:\n",
    "        username2 = json.load(f2_obj)\n",
    "        print(\"Welcome back, \" + username2 + \"!\")\n",
    "\n",
    "rem_user()"
   ]
  }
 ],
 "metadata": {
  "kernelspec": {
   "display_name": "Python 3",
   "language": "python",
   "name": "python3"
  },
  "language_info": {
   "codemirror_mode": {
    "name": "ipython",
    "version": 3
   },
   "file_extension": ".py",
   "mimetype": "text/x-python",
   "name": "python",
   "nbconvert_exporter": "python",
   "pygments_lexer": "ipython3",
   "version": "3.7.0"
  }
 },
 "nbformat": 4,
 "nbformat_minor": 2
}
