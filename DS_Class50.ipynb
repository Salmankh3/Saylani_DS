{
 "cells": [
  {
   "cell_type": "markdown",
   "metadata": {},
   "source": [
    "Silinium is an automation library"
   ]
  },
  {
   "cell_type": "code",
   "execution_count": 4,
   "metadata": {},
   "outputs": [
    {
     "name": "stdout",
     "output_type": "stream",
     "text": [
      "Collecting seleniumNote: you may need to restart the kernel to use updated packages.\n",
      "  Using cached selenium-3.141.0-py2.py3-none-any.whl (904 kB)\n",
      "\n",
      "Requirement already satisfied: urllib3 in c:\\users\\r01-pc2\\anaconda3\\lib\\site-packages (from selenium) (1.25.11)\n",
      "Installing collected packages: selenium\n",
      "Successfully installed selenium-3.141.0\n"
     ]
    }
   ],
   "source": [
    "pip install selenium"
   ]
  },
  {
   "cell_type": "code",
   "execution_count": 2,
   "metadata": {},
   "outputs": [],
   "source": [
    "# check your browser version. Ex: 90.0\n",
    "#     then download a browser\n",
    "# https://chromedriver.chromium.org/\n",
    "#     https://chromedriver.storage.googleapis.com/index.html?path=90.0.4430.24/"
   ]
  },
  {
   "cell_type": "code",
   "execution_count": 8,
   "metadata": {},
   "outputs": [],
   "source": [
    "from selenium import webdriver\n",
    "import time"
   ]
  },
  {
   "cell_type": "code",
   "execution_count": 6,
   "metadata": {},
   "outputs": [
    {
     "data": {
      "text/plain": [
       "<selenium.webdriver.chrome.webdriver.WebDriver (session=\"a9a8e244f45a27b5a609cbd9848d36cf\")>"
      ]
     },
     "execution_count": 6,
     "metadata": {},
     "output_type": "execute_result"
    }
   ],
   "source": [
    "driver = webdriver.Chrome(executable_path='C:/Users/R01-PC2/Downloads/chromedriver_win32/chromedriver.exe')\n",
    "driver "
   ]
  },
  {
   "cell_type": "code",
   "execution_count": 7,
   "metadata": {},
   "outputs": [],
   "source": [
    "# we need to run the above cell again and again"
   ]
  },
  {
   "cell_type": "code",
   "execution_count": 11,
   "metadata": {},
   "outputs": [],
   "source": [
    "driver = webdriver.Chrome(executable_path='C:/Users/R01-PC2/Downloads/chromedriver_win32/chromedriver.exe')\n",
    "\n",
    "# .get to open a website\n",
    "driver.get(\"https://www.eurasiaonline.ie/store/Above-5-Kg-c48470739\")\n",
    "\n",
    "# 5 seconds delay\n",
    "time.sleep(5)\n",
    "\n",
    "# .close to exit the website\n",
    "driver.close()"
   ]
  },
  {
   "cell_type": "code",
   "execution_count": 13,
   "metadata": {},
   "outputs": [],
   "source": [
    "driver = webdriver.Chrome(executable_path='C:/Users/R01-PC2/Downloads/chromedriver_win32/chromedriver.exe')\n",
    "\n",
    "# .get to open a website\n",
    "driver.get(\"https://www.eurasiaonline.ie/store/Above-5-Kg-c48470739\")\n",
    "\n",
    "# 5 seconds delay\n",
    "time.sleep(5)\n",
    "\n",
    "# .get to open a new web PAGE\n",
    "driver.get(\"https://www.eurasiaonline.ie/store/Aashirvaad-Chakki-Atta-10-Kg-p188932771\")\n",
    "\n",
    "# 5 seconds delay\n",
    "time.sleep(5)\n",
    "\n",
    "# .back to back to the previous page\n",
    "driver.back()\n",
    "\n",
    "# 5 seconds delay\n",
    "time.sleep(5)\n",
    "\n",
    "# .close to exit the website\n",
    "driver.close()"
   ]
  },
  {
   "cell_type": "code",
   "execution_count": 18,
   "metadata": {},
   "outputs": [],
   "source": [
    "driver = webdriver.Chrome(executable_path='C:/Users/R01-PC2/Downloads/chromedriver_win32/chromedriver.exe')\n",
    "\n",
    "# .get to open a website\n",
    "driver.get(\"https://www.eurasiaonline.ie/store/Above-5-Kg-c48470739\")\n",
    "\n",
    "# 5 seconds delay\n",
    "time.sleep(5)\n",
    "\n",
    "# .get to open a new web PAGE\n",
    "driver.get(\"https://www.eurasiaonline.ie/store/Aashirvaad-Chakki-Atta-10-Kg-p188932771\")\n",
    "\n",
    "# 5 seconds delay\n",
    "time.sleep(5)\n",
    "\n",
    "# .back to back to the previous page\n",
    "driver.back()\n",
    "\n",
    "# 5 seconds delay\n",
    "time.sleep(5)\n",
    "\n",
    "# .forward to forward to the next page\n",
    "driver.forward()\n",
    "\n",
    "# 5 seconds delay\n",
    "time.sleep(5)\n",
    "\n",
    "# .close to exit the website\n",
    "driver.close()"
   ]
  },
  {
   "cell_type": "code",
   "execution_count": 16,
   "metadata": {},
   "outputs": [
    {
     "name": "stdout",
     "output_type": "stream",
     "text": [
      "<selenium.webdriver.remote.webelement.WebElement (session=\"4bd8e232f0315bcceb0151923487cc2c\", element=\"d1dd17b6-a197-42b7-a584-0e3ef29ae06e\")>\n"
     ]
    }
   ],
   "source": [
    "driver = webdriver.Chrome(executable_path='C:/Users/R01-PC2/Downloads/chromedriver_win32/chromedriver.exe')\n",
    "\n",
    "# .get to open a website\n",
    "driver.get(\"https://www.eurasiaonline.ie/store/Above-5-Kg-c48470739\")\n",
    "\n",
    "# 5 seconds delay\n",
    "time.sleep(5)\n",
    "\n",
    "#single element by xpath\n",
    "element = driver.find_element_by_xpath('//*[@id=\"my-store-15331630\"]/div/div/div/div[2]/div/div[2]/div/div[1]/div/div[2]/div[2]/div[2]/div/div[1]/div/div[2]/a[2]/div')\n",
    "\n",
    "print(element)"
   ]
  },
  {
   "cell_type": "code",
   "execution_count": 20,
   "metadata": {},
   "outputs": [
    {
     "data": {
      "text/plain": [
       "<selenium.webdriver.remote.webelement.WebElement (session=\"0334e4403a0573faf47412a99bf7dbe5\", element=\"ddfa9313-3196-477b-8b76-1108cf6f8903\")>"
      ]
     },
     "execution_count": 20,
     "metadata": {},
     "output_type": "execute_result"
    }
   ],
   "source": [
    "driver = webdriver.Chrome(executable_path='C:/Users/R01-PC2/Downloads/chromedriver_win32/chromedriver.exe')\n",
    "\n",
    "# .get to open a website\n",
    "driver.get(\"https://www.eurasiaonline.ie/store/Above-5-Kg-c48470739\")\n",
    "\n",
    "# 5 seconds delay\n",
    "time.sleep(5)\n",
    "\n",
    "#single elements by class name in list\n",
    "element = driver.find_element_by_class_name('grid-product__title-inner')\n",
    "element"
   ]
  },
  {
   "cell_type": "code",
   "execution_count": 23,
   "metadata": {},
   "outputs": [
    {
     "name": "stdout",
     "output_type": "stream",
     "text": [
      "[<selenium.webdriver.remote.webelement.WebElement (session=\"38acbab871ecd03b4b4e0a27743808b8\", element=\"33a4e954-587c-490a-a864-a86b54c3d972\")>, <selenium.webdriver.remote.webelement.WebElement (session=\"38acbab871ecd03b4b4e0a27743808b8\", element=\"6936e9ba-50b7-480e-a821-4dd487ab6230\")>, <selenium.webdriver.remote.webelement.WebElement (session=\"38acbab871ecd03b4b4e0a27743808b8\", element=\"12976be6-5691-44bf-a133-6d37c774711c\")>, <selenium.webdriver.remote.webelement.WebElement (session=\"38acbab871ecd03b4b4e0a27743808b8\", element=\"d737c243-f5a6-4cc5-9f00-4dc2cf2d9c5a\")>, <selenium.webdriver.remote.webelement.WebElement (session=\"38acbab871ecd03b4b4e0a27743808b8\", element=\"c89b8fa6-d7bd-41df-9a83-4740d570a8f4\")>, <selenium.webdriver.remote.webelement.WebElement (session=\"38acbab871ecd03b4b4e0a27743808b8\", element=\"6ce2312c-ddf4-4b09-b1e1-fb9e4c24b510\")>, <selenium.webdriver.remote.webelement.WebElement (session=\"38acbab871ecd03b4b4e0a27743808b8\", element=\"f469767b-227e-4908-a203-54037693675f\")>, <selenium.webdriver.remote.webelement.WebElement (session=\"38acbab871ecd03b4b4e0a27743808b8\", element=\"59ee067e-5223-498d-8181-4f21237b2b5d\")>, <selenium.webdriver.remote.webelement.WebElement (session=\"38acbab871ecd03b4b4e0a27743808b8\", element=\"00e3eb38-1e0e-449b-a067-9c917411cf8e\")>, <selenium.webdriver.remote.webelement.WebElement (session=\"38acbab871ecd03b4b4e0a27743808b8\", element=\"589cee8c-41ea-489e-b464-a4df0941a9a1\")>, <selenium.webdriver.remote.webelement.WebElement (session=\"38acbab871ecd03b4b4e0a27743808b8\", element=\"ce6b84fe-995f-4c26-848a-c00e78d29dff\")>, <selenium.webdriver.remote.webelement.WebElement (session=\"38acbab871ecd03b4b4e0a27743808b8\", element=\"b08d5e3e-12e9-4b72-934a-d92dfa458717\")>, <selenium.webdriver.remote.webelement.WebElement (session=\"38acbab871ecd03b4b4e0a27743808b8\", element=\"b255e4e0-7069-4c46-b45f-c8a4e7192a00\")>, <selenium.webdriver.remote.webelement.WebElement (session=\"38acbab871ecd03b4b4e0a27743808b8\", element=\"276dbe8c-7c11-4d7a-9459-38ce2ae3cc84\")>, <selenium.webdriver.remote.webelement.WebElement (session=\"38acbab871ecd03b4b4e0a27743808b8\", element=\"77f484f4-59a3-4075-8d2c-d56ad11d8e3c\")>, <selenium.webdriver.remote.webelement.WebElement (session=\"38acbab871ecd03b4b4e0a27743808b8\", element=\"5e1fc506-d72e-4ade-9b5b-c43ff88cb1d1\")>, <selenium.webdriver.remote.webelement.WebElement (session=\"38acbab871ecd03b4b4e0a27743808b8\", element=\"3f21352c-bd8a-4f44-8446-e4b5a775a1d3\")>]\n"
     ]
    }
   ],
   "source": [
    "driver = webdriver.Chrome(executable_path='C:/Users/R01-PC2/Downloads/chromedriver_win32/chromedriver.exe')\n",
    "\n",
    "# .get to open a website\n",
    "driver.get(\"https://www.eurasiaonline.ie/store/Above-5-Kg-c48470739\")\n",
    "\n",
    "# 5 seconds delay\n",
    "time.sleep(5)\n",
    "\n",
    "#single elements by class name in list\n",
    "elements = driver.find_elements_by_class_name('grid-product__title-inner')\n",
    "print(elements)\n",
    "\n",
    "# .close to exit the website\n",
    "driver.close()"
   ]
  },
  {
   "cell_type": "code",
   "execution_count": 22,
   "metadata": {},
   "outputs": [
    {
     "name": "stdout",
     "output_type": "stream",
     "text": [
      "[]\n"
     ]
    }
   ],
   "source": []
  },
  {
   "cell_type": "code",
   "execution_count": 24,
   "metadata": {},
   "outputs": [
    {
     "name": "stdout",
     "output_type": "stream",
     "text": [
      "[<selenium.webdriver.remote.webelement.WebElement (session=\"5a8d813a5b73098b5ae954cd4374a9ce\", element=\"5b9f4619-6880-4e9d-a292-1d2664363d48\")>, <selenium.webdriver.remote.webelement.WebElement (session=\"5a8d813a5b73098b5ae954cd4374a9ce\", element=\"ac3b2c45-d0e0-4c71-bb69-2c4dfb3b8b77\")>, <selenium.webdriver.remote.webelement.WebElement (session=\"5a8d813a5b73098b5ae954cd4374a9ce\", element=\"f47dc45b-5b0d-4d2c-8143-912ab54f2b5c\")>, <selenium.webdriver.remote.webelement.WebElement (session=\"5a8d813a5b73098b5ae954cd4374a9ce\", element=\"e5ea6025-f211-42f0-b7fe-b6ba60dd3ae4\")>, <selenium.webdriver.remote.webelement.WebElement (session=\"5a8d813a5b73098b5ae954cd4374a9ce\", element=\"e131d5ac-aaeb-4fc9-a8c4-ab631729c3c8\")>, <selenium.webdriver.remote.webelement.WebElement (session=\"5a8d813a5b73098b5ae954cd4374a9ce\", element=\"b932f2e4-5e93-437b-a8d0-095212d79dc1\")>, <selenium.webdriver.remote.webelement.WebElement (session=\"5a8d813a5b73098b5ae954cd4374a9ce\", element=\"c368ca59-ab3c-4f21-9259-342091f9d4f7\")>, <selenium.webdriver.remote.webelement.WebElement (session=\"5a8d813a5b73098b5ae954cd4374a9ce\", element=\"cdd6ed49-b7c0-4df1-bed9-ad21e8a9c9f7\")>, <selenium.webdriver.remote.webelement.WebElement (session=\"5a8d813a5b73098b5ae954cd4374a9ce\", element=\"84adf6d5-8eeb-4cb6-a888-6888d4c59b02\")>, <selenium.webdriver.remote.webelement.WebElement (session=\"5a8d813a5b73098b5ae954cd4374a9ce\", element=\"3778b03c-51f7-4d7f-975f-226b29c46142\")>, <selenium.webdriver.remote.webelement.WebElement (session=\"5a8d813a5b73098b5ae954cd4374a9ce\", element=\"0b4e1465-3961-4311-8dc9-268ba842c502\")>, <selenium.webdriver.remote.webelement.WebElement (session=\"5a8d813a5b73098b5ae954cd4374a9ce\", element=\"95a5c662-5e44-4dd3-8a9c-63fda508b0b0\")>, <selenium.webdriver.remote.webelement.WebElement (session=\"5a8d813a5b73098b5ae954cd4374a9ce\", element=\"add75ab4-d157-4e4b-a9ae-cf97a0b2a8d7\")>, <selenium.webdriver.remote.webelement.WebElement (session=\"5a8d813a5b73098b5ae954cd4374a9ce\", element=\"6d220936-4c8b-4f0f-b4f9-2017b2774a7e\")>, <selenium.webdriver.remote.webelement.WebElement (session=\"5a8d813a5b73098b5ae954cd4374a9ce\", element=\"a7e9ab83-c3ba-4e17-83f2-c1af93c5469d\")>, <selenium.webdriver.remote.webelement.WebElement (session=\"5a8d813a5b73098b5ae954cd4374a9ce\", element=\"38e788d8-2ce3-423b-91b2-455c6c1c6a63\")>, <selenium.webdriver.remote.webelement.WebElement (session=\"5a8d813a5b73098b5ae954cd4374a9ce\", element=\"48d30dd9-f7ea-4ab6-b10c-29073b787c3e\")>]\n",
      "17\n"
     ]
    }
   ],
   "source": [
    "driver = webdriver.Chrome(executable_path='C:/Users/R01-PC2/Downloads/chromedriver_win32/chromedriver.exe')\n",
    "\n",
    "# .get to open a website\n",
    "driver.get(\"https://www.eurasiaonline.ie/store/Above-5-Kg-c48470739\")\n",
    "\n",
    "# 5 seconds delay\n",
    "time.sleep(5)\n",
    "\n",
    "#single elements by xpath in list\n",
    "elements = driver.find_elements_by_xpath('//div[@class=\"grid-product__title-inner\"]')\n",
    "\n",
    "print(elements)\n",
    "print(len(elements))\n",
    "\n",
    "driver.close()"
   ]
  },
  {
   "cell_type": "code",
   "execution_count": 29,
   "metadata": {},
   "outputs": [
    {
     "name": "stdout",
     "output_type": "stream",
     "text": [
      "Aashirvaad Chakki Atta 10 Kg\n"
     ]
    }
   ],
   "source": [
    "driver = webdriver.Chrome(executable_path='C:/Users/R01-PC2/Downloads/chromedriver_win32/chromedriver.exe')\n",
    "\n",
    "# .get to open a website\n",
    "driver.get(\"https://www.eurasiaonline.ie/store/Above-5-Kg-c48470739\")\n",
    "\n",
    "# 5 seconds delay\n",
    "time.sleep(5)\n",
    "\n",
    "#single element by xpath\n",
    "element = driver.find_element_by_xpath('//*[@id=\"my-store-15331630\"]/div/div/div/div[2]/div/div[2]/div/div[1]/div/div[2]/div[2]/div[2]/div/div[1]/div/div[2]/a[2]/div')\n",
    "\n",
    "print(element.text)\n",
    "\n",
    "#Check 1 more way to print text in a div BELOW"
   ]
  },
  {
   "cell_type": "code",
   "execution_count": 30,
   "metadata": {},
   "outputs": [
    {
     "name": "stdout",
     "output_type": "stream",
     "text": [
      "Aashirvaad Chakki Atta 10 Kg\n"
     ]
    }
   ],
   "source": [
    "driver = webdriver.Chrome(executable_path='C:/Users/R01-PC2/Downloads/chromedriver_win32/chromedriver.exe')\n",
    "\n",
    "# .get to open a website\n",
    "driver.get(\"https://www.eurasiaonline.ie/store/Above-5-Kg-c48470739\")\n",
    "\n",
    "# 5 seconds delay\n",
    "time.sleep(5)\n",
    "\n",
    "#single element by xpath\n",
    "element = driver.find_element_by_xpath('//*[@id=\"my-store-15331630\"]/div/div/div/div[2]/div/div[2]/div/div[1]/div/div[2]/div[2]/div[2]/div/div[1]/div/div[2]/a[2]/div')\n",
    "\n",
    "print(element.get_attribute('innerHTML'))"
   ]
  },
  {
   "cell_type": "code",
   "execution_count": 34,
   "metadata": {},
   "outputs": [
    {
     "name": "stdout",
     "output_type": "stream",
     "text": [
      "https://www.eurasiaonline.ie/store/Aashirvaad-Chakki-Atta-10-Kg-p188932771\n",
      "https://www.eurasiaonline.ie/store/Ashvill-Chakki-Atta-10-Kg-p188932835\n",
      "https://www.eurasiaonline.ie/store/Ashvill-Chakki-Atta-20-Kg-p188932836\n",
      "https://www.eurasiaonline.ie/store/East-End-Chakki-Gold-Atta-10-Kg-p188974154\n",
      "https://www.eurasiaonline.ie/store/Elephant-Atta-Medium-10-Kg-p188974268\n",
      "https://www.eurasiaonline.ie/store/Elephant-Atta-Medium-25-Kg-p188974269\n",
      "https://www.eurasiaonline.ie/store/Elephant-Atta-White-10-Kg-p188974270\n",
      "https://www.eurasiaonline.ie/store/Elephant-Brown-Atta-10-Kg-p188974271\n",
      "https://www.eurasiaonline.ie/store/Elite-Chakki-Atta-10-Kg-p188974273\n",
      "https://www.eurasiaonline.ie/store/Elite-Chakki-Atta-10-Kg-p188974274\n",
      "https://www.eurasiaonline.ie/store/Heera-Chapatti-Flour-25-Kg-p188974517\n",
      "https://www.eurasiaonline.ie/store/Heera-Chapatti-Medium-10-Kg-p188974518\n",
      "https://www.eurasiaonline.ie/store/Iwisa-Flour-10-Kg-p188974692\n",
      "https://www.eurasiaonline.ie/store/Pillsbury-Chakki-Atta-10-Kg-p188975075\n",
      "https://www.eurasiaonline.ie/store/Swarna-Chakki-Fresh-Atta-10-Kg-p188975372\n",
      "https://www.eurasiaonline.ie/store/Anil-Atta-10Kg-p283220946\n",
      "https://www.eurasiaonline.ie/store/Anil-Chakki-Atta-10Kg-p283225642\n"
     ]
    }
   ],
   "source": [
    "driver = webdriver.Chrome(executable_path='C:/Users/R01-PC2/Downloads/chromedriver_win32/chromedriver.exe')\n",
    "\n",
    "# .get to open a website\n",
    "driver.get(\"https://www.eurasiaonline.ie/store/Above-5-Kg-c48470739\")\n",
    "\n",
    "# 5 seconds delay\n",
    "time.sleep(5)\n",
    "\n",
    "elements = driver.find_elements_by_class_name('grid-product__title')\n",
    "\n",
    "for i in elements:\n",
    "    print(i.get_attribute('href'))\n",
    "    \n",
    "driver.close()"
   ]
  },
  {
   "cell_type": "code",
   "execution_count": null,
   "metadata": {},
   "outputs": [],
   "source": []
  }
 ],
 "metadata": {
  "kernelspec": {
   "display_name": "Python 3",
   "language": "python",
   "name": "python3"
  },
  "language_info": {
   "codemirror_mode": {
    "name": "ipython",
    "version": 3
   },
   "file_extension": ".py",
   "mimetype": "text/x-python",
   "name": "python",
   "nbconvert_exporter": "python",
   "pygments_lexer": "ipython3",
   "version": "3.8.5"
  }
 },
 "nbformat": 4,
 "nbformat_minor": 4
}
