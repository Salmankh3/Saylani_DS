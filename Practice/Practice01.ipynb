{
 "cells": [
  {
   "cell_type": "markdown",
   "metadata": {},
   "source": [
    "# OPERATORS"
   ]
  },
  {
   "cell_type": "markdown",
   "metadata": {},
   "source": [
    "There are six kinds of Operators in Python:\n",
    "    - Arithematic Operators (+,-,*,/,%)\n",
    "    - Assignment Operator (=)\n",
    "    - Relational Operators (<,>,==,<=,>=,!=)\n",
    "    - Logical Operators (and, or, not)\n",
    "    - Unary Operator (-[variable])\n",
    "    - Bitwise Operator"
   ]
  },
  {
   "cell_type": "code",
   "execution_count": 1,
   "metadata": {},
   "outputs": [
    {
     "data": {
      "text/plain": [
       "3"
      ]
     },
     "execution_count": 1,
     "metadata": {},
     "output_type": "execute_result"
    }
   ],
   "source": [
    "#Assignment Operator\n",
    "a = 3 #Here using assignment operator to give a value \"3\" to the variable \"a\"\n",
    "a"
   ]
  },
  {
   "cell_type": "code",
   "execution_count": 2,
   "metadata": {},
   "outputs": [
    {
     "name": "stdout",
     "output_type": "stream",
     "text": [
      "4   6\n"
     ]
    }
   ],
   "source": [
    "a , b = 4 , 6  #Assigning multiple variables with respective values through assignment operator\n",
    "print(a,\" \",b)"
   ]
  },
  {
   "cell_type": "markdown",
   "metadata": {},
   "source": [
    "<------------------------------------------------------------------------------------------------------->"
   ]
  },
  {
   "cell_type": "code",
   "execution_count": 3,
   "metadata": {},
   "outputs": [
    {
     "data": {
      "text/plain": [
       "-4"
      ]
     },
     "execution_count": 3,
     "metadata": {},
     "output_type": "execute_result"
    }
   ],
   "source": [
    "#Unary Operator\n",
    "-a #Applying Unary operator before variable \"a\" to make it negative"
   ]
  },
  {
   "cell_type": "code",
   "execution_count": 4,
   "metadata": {},
   "outputs": [
    {
     "data": {
      "text/plain": [
       "-4"
      ]
     },
     "execution_count": 4,
     "metadata": {},
     "output_type": "execute_result"
    }
   ],
   "source": [
    "a = -a  #Re-assigning \"a\" with Unary operation\n",
    "a #Hereit becomes negative"
   ]
  },
  {
   "cell_type": "code",
   "execution_count": 5,
   "metadata": {},
   "outputs": [],
   "source": [
    "a = -a #Again making it positive through Unary Operator"
   ]
  },
  {
   "cell_type": "code",
   "execution_count": 6,
   "metadata": {},
   "outputs": [
    {
     "data": {
      "text/plain": [
       "4"
      ]
     },
     "execution_count": 6,
     "metadata": {},
     "output_type": "execute_result"
    }
   ],
   "source": [
    "a  #Made Positive Successfully"
   ]
  },
  {
   "cell_type": "markdown",
   "metadata": {},
   "source": [
    "<------------------------------------------------------------------------------------------------------->"
   ]
  },
  {
   "cell_type": "code",
   "execution_count": 7,
   "metadata": {},
   "outputs": [
    {
     "name": "stdout",
     "output_type": "stream",
     "text": [
      "a = 4 \n",
      "b = 6\n"
     ]
    }
   ],
   "source": [
    "#Arithematic Operators\n",
    "print(\"a =\",a, \"\\nb =\",b)"
   ]
  },
  {
   "cell_type": "code",
   "execution_count": 8,
   "metadata": {},
   "outputs": [
    {
     "data": {
      "text/plain": [
       "10"
      ]
     },
     "execution_count": 8,
     "metadata": {},
     "output_type": "execute_result"
    }
   ],
   "source": [
    "a + b "
   ]
  },
  {
   "cell_type": "code",
   "execution_count": 9,
   "metadata": {},
   "outputs": [
    {
     "data": {
      "text/plain": [
       "-2"
      ]
     },
     "execution_count": 9,
     "metadata": {},
     "output_type": "execute_result"
    }
   ],
   "source": [
    "a - b"
   ]
  },
  {
   "cell_type": "code",
   "execution_count": 10,
   "metadata": {},
   "outputs": [
    {
     "data": {
      "text/plain": [
       "24"
      ]
     },
     "execution_count": 10,
     "metadata": {},
     "output_type": "execute_result"
    }
   ],
   "source": [
    "a * b "
   ]
  },
  {
   "cell_type": "code",
   "execution_count": 11,
   "metadata": {},
   "outputs": [
    {
     "data": {
      "text/plain": [
       "0.6666666666666666"
      ]
     },
     "execution_count": 11,
     "metadata": {},
     "output_type": "execute_result"
    }
   ],
   "source": [
    "a / b"
   ]
  },
  {
   "cell_type": "code",
   "execution_count": 12,
   "metadata": {},
   "outputs": [
    {
     "data": {
      "text/plain": [
       "2"
      ]
     },
     "execution_count": 12,
     "metadata": {},
     "output_type": "execute_result"
    }
   ],
   "source": [
    "b % a"
   ]
  },
  {
   "cell_type": "markdown",
   "metadata": {},
   "source": [
    "<------------------------------------------------------------------------------------------------------->"
   ]
  },
  {
   "cell_type": "code",
   "execution_count": 13,
   "metadata": {},
   "outputs": [],
   "source": [
    "#Relational Operators\n",
    "x, y = 40, 35"
   ]
  },
  {
   "cell_type": "code",
   "execution_count": 14,
   "metadata": {},
   "outputs": [
    {
     "data": {
      "text/plain": [
       "False"
      ]
     },
     "execution_count": 14,
     "metadata": {},
     "output_type": "execute_result"
    }
   ],
   "source": [
    "x < y"
   ]
  },
  {
   "cell_type": "code",
   "execution_count": 15,
   "metadata": {},
   "outputs": [
    {
     "data": {
      "text/plain": [
       "True"
      ]
     },
     "execution_count": 15,
     "metadata": {},
     "output_type": "execute_result"
    }
   ],
   "source": [
    "x > y"
   ]
  },
  {
   "cell_type": "code",
   "execution_count": 16,
   "metadata": {},
   "outputs": [
    {
     "data": {
      "text/plain": [
       "False"
      ]
     },
     "execution_count": 16,
     "metadata": {},
     "output_type": "execute_result"
    }
   ],
   "source": [
    "x <= y"
   ]
  },
  {
   "cell_type": "code",
   "execution_count": 17,
   "metadata": {},
   "outputs": [
    {
     "data": {
      "text/plain": [
       "True"
      ]
     },
     "execution_count": 17,
     "metadata": {},
     "output_type": "execute_result"
    }
   ],
   "source": [
    "x >= y"
   ]
  },
  {
   "cell_type": "code",
   "execution_count": 18,
   "metadata": {},
   "outputs": [
    {
     "data": {
      "text/plain": [
       "False"
      ]
     },
     "execution_count": 18,
     "metadata": {},
     "output_type": "execute_result"
    }
   ],
   "source": [
    "x == y"
   ]
  },
  {
   "cell_type": "code",
   "execution_count": 19,
   "metadata": {},
   "outputs": [
    {
     "data": {
      "text/plain": [
       "True"
      ]
     },
     "execution_count": 19,
     "metadata": {},
     "output_type": "execute_result"
    }
   ],
   "source": [
    "x != y"
   ]
  },
  {
   "cell_type": "markdown",
   "metadata": {},
   "source": [
    "<------------------------------------------------------------------------------------------------------->"
   ]
  },
  {
   "cell_type": "code",
   "execution_count": 20,
   "metadata": {},
   "outputs": [
    {
     "name": "stdout",
     "output_type": "stream",
     "text": [
      "4 6 40 35\n"
     ]
    }
   ],
   "source": [
    "#Logical Operators\n",
    "print(a,b,x,y)"
   ]
  },
  {
   "cell_type": "code",
   "execution_count": 21,
   "metadata": {},
   "outputs": [
    {
     "data": {
      "text/plain": [
       "True"
      ]
     },
     "execution_count": 21,
     "metadata": {},
     "output_type": "execute_result"
    }
   ],
   "source": [
    "a < b and x > y"
   ]
  },
  {
   "cell_type": "code",
   "execution_count": 22,
   "metadata": {},
   "outputs": [
    {
     "data": {
      "text/plain": [
       "False"
      ]
     },
     "execution_count": 22,
     "metadata": {},
     "output_type": "execute_result"
    }
   ],
   "source": [
    "a > b and x > y"
   ]
  },
  {
   "cell_type": "code",
   "execution_count": 23,
   "metadata": {},
   "outputs": [
    {
     "data": {
      "text/plain": [
       "True"
      ]
     },
     "execution_count": 23,
     "metadata": {},
     "output_type": "execute_result"
    }
   ],
   "source": [
    "a > b or x > y"
   ]
  },
  {
   "cell_type": "code",
   "execution_count": 24,
   "metadata": {},
   "outputs": [
    {
     "data": {
      "text/plain": [
       "False"
      ]
     },
     "execution_count": 24,
     "metadata": {},
     "output_type": "execute_result"
    }
   ],
   "source": [
    "a > y or x < b"
   ]
  },
  {
   "cell_type": "code",
   "execution_count": 25,
   "metadata": {},
   "outputs": [],
   "source": [
    "z = True"
   ]
  },
  {
   "cell_type": "code",
   "execution_count": 26,
   "metadata": {},
   "outputs": [
    {
     "data": {
      "text/plain": [
       "False"
      ]
     },
     "execution_count": 26,
     "metadata": {},
     "output_type": "execute_result"
    }
   ],
   "source": [
    "not z"
   ]
  },
  {
   "cell_type": "code",
   "execution_count": 27,
   "metadata": {},
   "outputs": [
    {
     "data": {
      "text/plain": [
       "True"
      ]
     },
     "execution_count": 27,
     "metadata": {},
     "output_type": "execute_result"
    }
   ],
   "source": [
    "w = False\n",
    "not w"
   ]
  },
  {
   "cell_type": "markdown",
   "metadata": {},
   "source": [
    "<------------------------------------------------------------------------------------------------------->"
   ]
  },
  {
   "cell_type": "code",
   "execution_count": 28,
   "metadata": {},
   "outputs": [
    {
     "data": {
      "text/plain": [
       "-5"
      ]
     },
     "execution_count": 28,
     "metadata": {},
     "output_type": "execute_result"
    }
   ],
   "source": [
    "#Bitwise Operator\n",
    "~a #2s Compliment"
   ]
  },
  {
   "cell_type": "code",
   "execution_count": 29,
   "metadata": {},
   "outputs": [
    {
     "data": {
      "text/plain": [
       "4"
      ]
     },
     "execution_count": 29,
     "metadata": {},
     "output_type": "execute_result"
    }
   ],
   "source": [
    "a & b  #AND Logic on Binary Bits of Numbers"
   ]
  },
  {
   "cell_type": "code",
   "execution_count": 30,
   "metadata": {},
   "outputs": [
    {
     "data": {
      "text/plain": [
       "43"
      ]
     },
     "execution_count": 30,
     "metadata": {},
     "output_type": "execute_result"
    }
   ],
   "source": [
    "x | y  #OR Logic on Binary Bits of Numbers"
   ]
  },
  {
   "cell_type": "code",
   "execution_count": 31,
   "metadata": {},
   "outputs": [
    {
     "data": {
      "text/plain": [
       "39"
      ]
     },
     "execution_count": 31,
     "metadata": {},
     "output_type": "execute_result"
    }
   ],
   "source": [
    "a ^ y #XOR Logic on Binary Bits of Numbers "
   ]
  },
  {
   "cell_type": "code",
   "execution_count": 32,
   "metadata": {},
   "outputs": [
    {
     "data": {
      "text/plain": [
       "160"
      ]
     },
     "execution_count": 32,
     "metadata": {},
     "output_type": "execute_result"
    }
   ],
   "source": [
    "x << 2 #Left Shift (increases bits)"
   ]
  },
  {
   "cell_type": "code",
   "execution_count": 33,
   "metadata": {},
   "outputs": [
    {
     "data": {
      "text/plain": [
       "3"
      ]
     },
     "execution_count": 33,
     "metadata": {},
     "output_type": "execute_result"
    }
   ],
   "source": [
    "b >> 1 #Right Shift (decreases bits)"
   ]
  },
  {
   "cell_type": "markdown",
   "metadata": {},
   "source": [
    "# IF / ELSE "
   ]
  },
  {
   "cell_type": "code",
   "execution_count": 34,
   "metadata": {},
   "outputs": [
    {
     "name": "stdout",
     "output_type": "stream",
     "text": [
      "Salman\n"
     ]
    }
   ],
   "source": [
    "if True:\n",
    "    print(\"Salman\")"
   ]
  },
  {
   "cell_type": "code",
   "execution_count": 35,
   "metadata": {},
   "outputs": [
    {
     "name": "stdout",
     "output_type": "stream",
     "text": [
      "a = 4\n"
     ]
    }
   ],
   "source": [
    "if False:\n",
    "    print(\"Salman\")\n",
    "print(\"a =\",a) #\"a\" is not in if block"
   ]
  },
  {
   "cell_type": "code",
   "execution_count": 36,
   "metadata": {},
   "outputs": [
    {
     "name": "stdout",
     "output_type": "stream",
     "text": [
      "Hi\n"
     ]
    }
   ],
   "source": [
    "s = 6\n",
    "t = 8\n",
    "if s < t:\n",
    "    print(\"Hi\")"
   ]
  },
  {
   "cell_type": "code",
   "execution_count": 37,
   "metadata": {},
   "outputs": [
    {
     "name": "stdout",
     "output_type": "stream",
     "text": [
      "Bye\n"
     ]
    }
   ],
   "source": [
    "s = 6\n",
    "t = 8\n",
    "if s > t:\n",
    "    print(\"Hi\")\n",
    "else:\n",
    "    print(\"Bye\")"
   ]
  },
  {
   "cell_type": "code",
   "execution_count": 38,
   "metadata": {},
   "outputs": [
    {
     "name": "stdout",
     "output_type": "stream",
     "text": [
      "Java\n"
     ]
    }
   ],
   "source": [
    "u = 7\n",
    "if (s > t) and (u > s):\n",
    "    print(\"Python\")\n",
    "else:\n",
    "    print(\"Java\")"
   ]
  },
  {
   "cell_type": "code",
   "execution_count": 39,
   "metadata": {},
   "outputs": [
    {
     "name": "stdout",
     "output_type": "stream",
     "text": [
      "Python\n"
     ]
    }
   ],
   "source": [
    "if (s > t) or (u > s):\n",
    "    print(\"Python\")\n",
    "else:\n",
    "    print(\"Java\")"
   ]
  },
  {
   "cell_type": "markdown",
   "metadata": {},
   "source": [
    "# Practice Programs (Operators and If/Else)"
   ]
  },
  {
   "cell_type": "code",
   "execution_count": 40,
   "metadata": {},
   "outputs": [
    {
     "name": "stdout",
     "output_type": "stream",
     "text": [
      "Enter length of the square: 5\n",
      "Area=  25.0\n"
     ]
    }
   ],
   "source": [
    "#Area of a square\n",
    "length=float(input(\"Enter length of the square: \"))\n",
    "area=length*length\n",
    "print(\"Area= \",area)"
   ]
  },
  {
   "cell_type": "code",
   "execution_count": 41,
   "metadata": {},
   "outputs": [
    {
     "name": "stdout",
     "output_type": "stream",
     "text": [
      "Enter mass in kg: 200\n",
      "Enter acceleration in meter per second square: 3\n",
      "Force=  600.0 N\n"
     ]
    }
   ],
   "source": [
    "#Second law of newton\n",
    "mass=float(input(\"Enter mass in kg: \"))\n",
    "acce=float(input(\"Enter acceleration in meter per second square: \"))\n",
    "force=mass*acce\n",
    "print(\"Force= \",force,\"N\")"
   ]
  },
  {
   "cell_type": "code",
   "execution_count": 42,
   "metadata": {},
   "outputs": [
    {
     "name": "stdout",
     "output_type": "stream",
     "text": [
      "Enter voltage:45\n",
      "Enter current:6\n",
      "Power=  270.0 watt\n"
     ]
    }
   ],
   "source": [
    "#Calculating power\n",
    "volt=float(input(\"Enter voltage:\"))\n",
    "current=float(input(\"Enter current:\"))\n",
    "power = volt*current\n",
    "print(\"Power= \",power,\"watt\")"
   ]
  },
  {
   "cell_type": "code",
   "execution_count": 43,
   "metadata": {},
   "outputs": [
    {
     "name": "stdout",
     "output_type": "stream",
     "text": [
      "Enter initial velocity:46\n",
      "Enter final velocity:34\n",
      "Enter mass in kg:200\n",
      "Change in momentum:  -2400.0\n"
     ]
    }
   ],
   "source": [
    "#Calculating momentum\n",
    "vi=float(input(\"Enter initial velocity:\"))\n",
    "vf=float(input(\"Enter final velocity:\"))\n",
    "m=float(input(\"Enter mass in kg:\"))\n",
    "v=vf-vi\n",
    "p=m*v\n",
    "print(\"Change in momentum: \",p)"
   ]
  },
  {
   "cell_type": "code",
   "execution_count": 44,
   "metadata": {},
   "outputs": [
    {
     "name": "stdout",
     "output_type": "stream",
     "text": [
      "Enter initial velocity:56\n",
      "Enter acceleration:-3\n",
      "Enter time:10\n",
      "Final Velocity=  26.0 m/s\n"
     ]
    }
   ],
   "source": [
    "#Calculating final velocity\n",
    "vi=float(input(\"Enter initial velocity:\"))\n",
    "a=float(input(\"Enter acceleration:\"))\n",
    "t=float(input(\"Enter time:\"))\n",
    "vf=vi+a*t\n",
    "print(\"Final Velocity= \",vf,\"m/s\")"
   ]
  },
  {
   "cell_type": "code",
   "execution_count": 45,
   "metadata": {},
   "outputs": [
    {
     "name": "stdout",
     "output_type": "stream",
     "text": [
      "Enter initial velocity:50\n",
      "Enter acceleration:4\n",
      "Enter time:3\n",
      "Distance is:  168.0 m\n"
     ]
    }
   ],
   "source": [
    "#Calculating distance\n",
    "vi=float(input(\"Enter initial velocity:\"))\n",
    "a=float(input(\"Enter acceleration:\"))\n",
    "t=float(input(\"Enter time:\"))\n",
    "s=float(vi*t)+(1/2*(a*t*t))\n",
    "print(\"Distance is: \",s,\"m\")"
   ]
  },
  {
   "cell_type": "code",
   "execution_count": 46,
   "metadata": {},
   "outputs": [
    {
     "name": "stdout",
     "output_type": "stream",
     "text": [
      "Enter voltage: 45\n",
      "Enter current: 4\n",
      "Resistance=  11.25 ohm\n",
      "Conductance=  0.08888888888888889\n"
     ]
    }
   ],
   "source": [
    "#Calculating resistance and conductance\n",
    "voltage=float(input(\"Enter voltage: \"))\n",
    "current=float(input(\"Enter current: \"))\n",
    "resistance=voltage/current\n",
    "conductance=1/resistance\n",
    "print(\"Resistance= \",resistance,\"ohm\\nConductance= \",conductance)"
   ]
  },
  {
   "cell_type": "code",
   "execution_count": 47,
   "metadata": {},
   "outputs": [
    {
     "name": "stdout",
     "output_type": "stream",
     "text": [
      "Enter current value: 4\n",
      "Enter time in seconds: 3\n",
      "Charge value is:  12.0  Coulumb\n"
     ]
    }
   ],
   "source": [
    "#Calculating Charge\n",
    "current=float(input(\"Enter current value: \"))\n",
    "time=float(input(\"Enter time in seconds: \"))\n",
    "charge = current * time\n",
    "print(\"Charge value is: \",charge,\" Coulumb\")"
   ]
  },
  {
   "cell_type": "code",
   "execution_count": 48,
   "metadata": {},
   "outputs": [
    {
     "name": "stdout",
     "output_type": "stream",
     "text": [
      "Enter alphabet: r\n",
      "It's a consonant\n"
     ]
    }
   ],
   "source": [
    "#Checking whether the alphabet is consonant or vowel\n",
    "alphabet=input(\"Enter alphabet: \")\n",
    "if alphabet=='a' or alphabet=='e' or alphabet=='i' or alphabet=='o' or alphabet=='u':\n",
    "    print(\"It's a vowel\")\n",
    "else:\n",
    "    print(\"It's a consonant\")"
   ]
  },
  {
   "cell_type": "code",
   "execution_count": 49,
   "metadata": {},
   "outputs": [
    {
     "name": "stdout",
     "output_type": "stream",
     "text": [
      "Enter a number: 5\n",
      "Number is odd\n"
     ]
    }
   ],
   "source": [
    "#Checking whether the number is even or odd\n",
    "n=int(input(\"Enter a number: \"))\n",
    "if n%2==0:\n",
    "    print(\"Number is even\")\n",
    "else:\n",
    "    print(\"Number is odd\")"
   ]
  },
  {
   "cell_type": "code",
   "execution_count": 50,
   "metadata": {},
   "outputs": [
    {
     "name": "stdout",
     "output_type": "stream",
     "text": [
      "Enter the value of first side: 4\n",
      "Enter the value of second side: 7\n",
      "Enter the value of third side: 8\n",
      "It's not an isoceles triangle\n"
     ]
    }
   ],
   "source": [
    "#isoceles triangle\n",
    "a=float(input(\"Enter the value of first side: \"))\n",
    "b=float(input(\"Enter the value of second side: \"))\n",
    "c=float(input(\"Enter the value of third side: \"))\n",
    "if a==b or a==c or b==c:\n",
    "    print(\"It's an isoceles triangle\")\n",
    "else:\n",
    "    print(\"It's not an isoceles triangle\")"
   ]
  },
  {
   "cell_type": "code",
   "execution_count": 51,
   "metadata": {},
   "outputs": [
    {
     "name": "stdout",
     "output_type": "stream",
     "text": [
      "Enter first value: 4\n",
      "Enter second value: 6\n",
      "Enter third value: 3\n",
      "Makes a triangle\n"
     ]
    }
   ],
   "source": [
    "#Checking conditions of triangle\n",
    "a=int(input(\"Enter first value: \"))\n",
    "b=int(input(\"Enter second value: \"))\n",
    "c=int(input(\"Enter third value: \"))\n",
    "if a+b>c:\n",
    "    print(\"Makes a triangle\")\n",
    "elif a+c>b:\n",
    "    print(\"Makes a triangle\")\n",
    "elif b+c>a:\n",
    "    print(\"Makes a triangle\")\n",
    "else:\n",
    "    print(\"Condition doesn't satisfy\")"
   ]
  },
  {
   "cell_type": "code",
   "execution_count": 52,
   "metadata": {},
   "outputs": [
    {
     "name": "stdout",
     "output_type": "stream",
     "text": [
      "Enter first value: 4\n",
      "Select operator: -\n",
      "Enter second value: 6\n",
      "Subtraction=  -2\n"
     ]
    }
   ],
   "source": [
    "#Calculator\n",
    "a=int(input(\"Enter first value: \"))\n",
    "operator=input(\"Select operator: \")\n",
    "b=int(input(\"Enter second value: \"))\n",
    "if operator=='+':\n",
    "    print(\"Sum= \",a+b)\n",
    "elif operator=='-':\n",
    "    print(\"Subtraction= \",a-b)\n",
    "elif operator=='*':\n",
    "    print(\"Multiplication= \",a*b)\n",
    "elif operator=='/':\n",
    "    print(\"Division= \",a/b)\n",
    "else:\n",
    "    print(\"Modulus= \",a%b)"
   ]
  },
  {
   "cell_type": "code",
   "execution_count": 53,
   "metadata": {},
   "outputs": [
    {
     "name": "stdout",
     "output_type": "stream",
     "text": [
      "AND:  False\n",
      "OR:  True\n",
      "NOT:  True\n",
      "NAND:  True\n",
      "NOR:  False\n",
      "XOR:  0\n"
     ]
    }
   ],
   "source": [
    "#Logical Operators\n",
    "a=5\n",
    "b=5\n",
    "print(\"AND: \",(a==4) and (b==10))\n",
    "print(\"OR: \",(a==4) or (b==5))\n",
    "print(\"NOT: \",not(a == 6))\n",
    "print(\"NAND: \",not((a==4) and (b==10)))\n",
    "print(\"NOR: \",not((a==4) or (b==5)))\n",
    "print(\"XOR: \",a^b)"
   ]
  },
  {
   "cell_type": "code",
   "execution_count": 54,
   "metadata": {},
   "outputs": [
    {
     "name": "stdout",
     "output_type": "stream",
     "text": [
      "After Swapping a=  5\n",
      "After Swapping b=  2\n"
     ]
    }
   ],
   "source": [
    "#Swapping two numbers using bitwise operator\n",
    "a=2\n",
    "b=5\n",
    "a = a ^ b\n",
    "b = a ^ b\n",
    "a = a ^ b\n",
    "print(\"After Swapping a= \",a)\n",
    "print(\"After Swapping b= \",b)"
   ]
  },
  {
   "cell_type": "code",
   "execution_count": 55,
   "metadata": {},
   "outputs": [
    {
     "name": "stdout",
     "output_type": "stream",
     "text": [
      "Enter area of a circle: 56\n",
      "Radius=  17.823042647994907\n"
     ]
    }
   ],
   "source": [
    "#Radius of a circle\n",
    "import math\n",
    "area=float(input(\"Enter area of a circle: \"))\n",
    "r=area/3.142\n",
    "math.sqrt(r)\n",
    "print(\"Radius= \",r)"
   ]
  },
  {
   "cell_type": "code",
   "execution_count": 56,
   "metadata": {},
   "outputs": [
    {
     "name": "stdout",
     "output_type": "stream",
     "text": [
      "Enter base value: 4\n",
      "Enter perpendicular value: 5\n",
      "Hypotenuse=  6.4031242374328485\n"
     ]
    }
   ],
   "source": [
    "# find the hypotenuse using the Pythagorean theorem\n",
    "import math\n",
    "base=float(input(\"Enter base value: \"))\n",
    "perp=float(input(\"Enter perpendicular value: \"))\n",
    "hyp=(perp*perp)+(base*base)\n",
    "hypo=math.sqrt(hyp)\n",
    "print(\"Hypotenuse= \",hypo)"
   ]
  },
  {
   "cell_type": "code",
   "execution_count": 57,
   "metadata": {},
   "outputs": [
    {
     "name": "stdout",
     "output_type": "stream",
     "text": [
      "(0.16666666666666666+0j)\n",
      "(0.5+0j)\n"
     ]
    }
   ],
   "source": [
    "#Solving quadratic equation\n",
    "import cmath\n",
    "a = 12\n",
    "b = -8\n",
    "c = 1\n",
    "# Discriminent\n",
    "d = (b**2) - (4*a*c)\n",
    "root1 = (-b - cmath.sqrt(d)) / (2 * a)\n",
    "root2 = (-b + cmath.sqrt(d)) / (2 * a)\n",
    "print(root1)\n",
    "print(root2)"
   ]
  },
  {
   "cell_type": "code",
   "execution_count": 58,
   "metadata": {},
   "outputs": [
    {
     "name": "stdout",
     "output_type": "stream",
     "text": [
      "Select Operation:\n",
      "1.To convert cm to m\n",
      "2.To convert inch to meter2\n",
      "Enter Value in inch:63\n",
      "Value in meter= 1.6001999999999998 m\n"
     ]
    }
   ],
   "source": [
    "#Conversion of cm or inch to meter\n",
    "import sys\n",
    "operation=int(input(\"Select Operation:\\n1.To convert cm to m\\n2.To convert inch to meter\"))\n",
    "if operation==1:\n",
    "    cm=float(input(\"Enter Value in cm:\"))\n",
    "    meter = cm * 0.01\n",
    "    print(\"Value in meter=\",meter,\"m\")\n",
    "elif operation==2:\n",
    "    inch=float(input(\"Enter Value in inch:\"))\n",
    "    meter = inch * 0.0254\n",
    "    print(\"Value in meter=\",meter,\"m\")\n",
    "else:\n",
    "    sys.exit(0)"
   ]
  },
  {
   "cell_type": "code",
   "execution_count": 59,
   "metadata": {},
   "outputs": [
    {
     "name": "stdout",
     "output_type": "stream",
     "text": [
      "Enter Student name: Salman\n",
      "Enter Father's name: Abdul Rahim\n",
      "Enter University/College name: BBSUL\n",
      "Enter roll no: 618\n",
      "Enter Semester: 7\n",
      "Enter Data Structure Marks: 45\n",
      "Enter OOAD Marks: 34\n",
      "Enter Techno Marks: 42\n",
      "Enter Maths Marks: 38\n",
      "Enter English Marks: 41\n",
      "Enter Basic Electronics Marks: 39\n",
      "Enter Total Marks: 300\n",
      "\n",
      "\n",
      "Student Name:  Salman \n",
      "Father Name:  Abdul Rahim \n",
      "College Name:  BBSUL \n",
      "Roll No:  618 \n",
      "Semester:  7 \n",
      "Data Structure Marks 45.0 \n",
      "OOAD Marks 34.0 \n",
      "Techno Marks 42.0 \n",
      "Maths Marks 38.0 \n",
      "English Marks:  41.0 \n",
      "BAsic Electronics Marks:  39.0 \n",
      "Total Marks:  300.0 \n",
      "Percentage:  79.66666666666666 \n",
      "\n",
      "Grade: A\n"
     ]
    }
   ],
   "source": [
    "#Creating Marksheet\n",
    "name=input(\"Enter Student name: \")\n",
    "fname=input(\"Enter Father's name: \")\n",
    "cname=input(\"Enter University/College name: \")\n",
    "roll_no=int(input(\"Enter roll no: \"))\n",
    "semester=int(input(\"Enter Semester: \"))\n",
    "s1=float(input(\"Enter Data Structure Marks: \"))\n",
    "s2=float(input(\"Enter OOAD Marks: \"))\n",
    "s3=float(input(\"Enter Techno Marks: \"))\n",
    "s4=float(input(\"Enter Maths Marks: \"))\n",
    "s5=float(input(\"Enter English Marks: \"))\n",
    "s6=float(input(\"Enter Basic Electronics Marks: \"))\n",
    "total=float(input(\"Enter Total Marks: \"))\n",
    "percentage=((s1+s2+s3+s4+s5+s6)/total)*100\n",
    "print(\"\\n\")\n",
    "print(\"Student Name: \",name,\"\\nFather Name: \",fname,\"\\nCollege Name: \",cname,\"\\nRoll No: \",roll_no,\"\\nSemester: \",semester,\n",
    "      \"\\nData Structure Marks\",s1,\"\\nOOAD Marks\",s2,\"\\nTechno Marks\",s3,\"\\nMaths Marks\",s4,\"\\nEnglish Marks: \",s5,\n",
    "      \"\\nBAsic Electronics Marks: \",s6,\"\\nTotal Marks: \",total,\"\\nPercentage: \",percentage,\"\\n\")\n",
    "if percentage>=80:\n",
    "    print(\"Grade: A+\")\n",
    "elif percentage>=70:\n",
    "    print(\"Grade: A\")\n",
    "elif percentage>=60:\n",
    "    print(\"Grade: B\")\n",
    "elif percentage>=50:\n",
    "    print(\"Grade: C\")\n",
    "elif percentage>=40:\n",
    "    print(\"Grade: D\")\n",
    "else:\n",
    "    print(\"Grade: Fail\")   "
   ]
  },
  {
   "cell_type": "code",
   "execution_count": 60,
   "metadata": {},
   "outputs": [
    {
     "name": "stdout",
     "output_type": "stream",
     "text": [
      "Select Operation:\n",
      "1. Convert Centigrade in to Farehenit\n",
      "2. Convet Centigrade into Kelvin\n",
      "3. Convert Farehenit in to Centigrade\n",
      "4. Convert Farehenite into Kelvin\n",
      "1\n",
      "Enter temperature in centigrade:37.77\n",
      "In Farehenite=  99.986\n"
     ]
    }
   ],
   "source": [
    "#Temperature Conversion\n",
    "print(\"Select Operation:\\n1. Convert Centigrade in to Farehenit\\n2. Convet Centigrade into Kelvin\\n3. Convert Farehenit in to Centigrade\\n4. Convert Farehenite into Kelvin\")\n",
    "select=int(input())\n",
    "if select==1:\n",
    "    c=float(input(\"Enter temperature in centigrade:\"))\n",
    "    f=(9*c/5)+32\n",
    "    print(\"In Farehenite= \",f)\n",
    "elif select==2:\n",
    "    c=float(input(\"Enter temperature in centigrade:\"))\n",
    "    k=273+c\n",
    "    print(\"In Kelvin= \",k)\n",
    "elif select==3:\n",
    "    f=float(input(\"Enter temperature in farehenite:\"))\n",
    "    c=5*(f-32)/9\n",
    "    print(\"In Centigrade= \",c)\n",
    "elif select==4:\n",
    "    c=float(input(\"Enter temperature in Farehenite:\"))\n",
    "    c=5*(f-32)/9\n",
    "    k=c+273\n",
    "    print(\"In kelvin= \",k) "
   ]
  }
 ],
 "metadata": {
  "kernelspec": {
   "display_name": "Python 3",
   "language": "python",
   "name": "python3"
  },
  "language_info": {
   "codemirror_mode": {
    "name": "ipython",
    "version": 3
   },
   "file_extension": ".py",
   "mimetype": "text/x-python",
   "name": "python",
   "nbconvert_exporter": "python",
   "pygments_lexer": "ipython3",
   "version": "3.7.0"
  }
 },
 "nbformat": 4,
 "nbformat_minor": 2
}
