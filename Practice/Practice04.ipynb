{
 "cells": [
  {
   "cell_type": "markdown",
   "metadata": {},
   "source": [
    "# SORTING PROGRAMS"
   ]
  },
  {
   "cell_type": "markdown",
   "metadata": {},
   "source": [
    "1) QUICK SORT"
   ]
  },
  {
   "cell_type": "code",
   "execution_count": 1,
   "metadata": {},
   "outputs": [
    {
     "name": "stdout",
     "output_type": "stream",
     "text": [
      "[17, 20, 26, 31, 44, 54, 55, 77, 93]\n"
     ]
    }
   ],
   "source": [
    "def quicksort(x):\n",
    "    if len(x) == 1 or len(x) == 0:\n",
    "        return x\n",
    "    else:\n",
    "        pivot = x[0]\n",
    "        i = 0\n",
    "        for j in range(len(x)-1):\n",
    "            if x[j+1] < pivot:\n",
    "                x[j+1],x[i+1] = x[i+1], x[j+1]\n",
    "                i += 1\n",
    "        x[0],x[i] = x[i],x[0]\n",
    "        first_part = quicksort(x[:i])\n",
    "        second_part = quicksort(x[i+1:])\n",
    "        first_part.append(x[i])\n",
    "        return first_part + second_part\n",
    "\n",
    "alist = [54,26,93,17,77,31,44,55,20]\n",
    "print(quicksort(alist))"
   ]
  },
  {
   "cell_type": "markdown",
   "metadata": {},
   "source": [
    "2) SELECTION SORT"
   ]
  },
  {
   "cell_type": "code",
   "execution_count": 3,
   "metadata": {},
   "outputs": [
    {
     "name": "stdout",
     "output_type": "stream",
     "text": [
      "[1, 2, 3, 4, 7, 12, 15, 20]\n"
     ]
    }
   ],
   "source": [
    "unsorted_list = [20, 7, 3, 4, 12, 15, 2, 1]\n",
    "\n",
    "def s_sort(a):\n",
    "    for j in range(len(a)-1):\n",
    "        min = j \n",
    "        for i in range(j+1, len(a)): \n",
    "            if(a[i]<a[min]):\n",
    "                min = i\n",
    "        a[j],a[min]=a[min],a[j]\n",
    "    print(a)\n",
    "\n",
    "s_sort(unsorted_list)"
   ]
  },
  {
   "cell_type": "markdown",
   "metadata": {},
   "source": [
    "3) SELECTION SORT (with slicing)"
   ]
  },
  {
   "cell_type": "code",
   "execution_count": 2,
   "metadata": {},
   "outputs": [
    {
     "name": "stdout",
     "output_type": "stream",
     "text": [
      "[1, 2, 3, 4, 5, 10, 100]\n"
     ]
    }
   ],
   "source": [
    "source = [4,2,1,10,5,3,100]\n",
    "for i in range(len(source)):\n",
    "    mini = min(source[i:]) #find minimum element\n",
    "    min_index = source[i:].index(mini) #find index of minimum element\n",
    "    source[i + min_index] = source[i] #replace element at min_index with first element\n",
    "    source[i] = mini                  #replace first element with min element\n",
    "print(source)"
   ]
  },
  {
   "cell_type": "markdown",
   "metadata": {},
   "source": [
    "4) BUBBLE SORT"
   ]
  },
  {
   "cell_type": "code",
   "execution_count": 19,
   "metadata": {},
   "outputs": [
    {
     "name": "stdout",
     "output_type": "stream",
     "text": [
      "[14, 21, 27, 41, 43, 45, 46, 57]\n"
     ]
    }
   ],
   "source": [
    "def bubbleSort(list1):\n",
    "    for i in range(len(list1)-1,0,-1):\n",
    "        for j in range(i):\n",
    "            if list1[j]>list1[j+1]:\n",
    "                temp = list1[j]\n",
    "                list1[j] = list1[j+1]\n",
    "                list1[j+1] = temp\n",
    "\n",
    "list1 = [14,46,43,27,57,41,45,21]\n",
    "bubbleSort(list1)\n",
    "print(list1)"
   ]
  },
  {
   "cell_type": "markdown",
   "metadata": {},
   "source": [
    "5) INSERTION SORT"
   ]
  },
  {
   "cell_type": "code",
   "execution_count": 5,
   "metadata": {},
   "outputs": [
    {
     "name": "stdout",
     "output_type": "stream",
     "text": [
      "[14, 21, 41, 43, 46, 57]\n"
     ]
    }
   ],
   "source": [
    "def insertionSort(list2):\n",
    "    for i in range(1,len(list2)):\n",
    "        a = list2[i]\n",
    "        pos = i\n",
    "        while pos > 0 and list2[pos-1] > a:\n",
    "            list2[pos] = list2[pos-1]\n",
    "            pos = pos-1\n",
    "\n",
    "        list2[pos] = a\n",
    "\n",
    "list2 = [14,46,43,57,41,21]\n",
    "insertionSort(list2)\n",
    "print(list2)"
   ]
  },
  {
   "cell_type": "markdown",
   "metadata": {},
   "source": [
    "# SEARCHING PROGRAMS"
   ]
  },
  {
   "cell_type": "code",
   "execution_count": null,
   "metadata": {},
   "outputs": [],
   "source": []
  },
  {
   "cell_type": "markdown",
   "metadata": {},
   "source": [
    "# TRUTH TABLE PROGRAMS"
   ]
  },
  {
   "cell_type": "markdown",
   "metadata": {},
   "source": [
    "AND Logic"
   ]
  },
  {
   "cell_type": "code",
   "execution_count": 2,
   "metadata": {},
   "outputs": [
    {
     "name": "stdout",
     "output_type": "stream",
     "text": [
      "AND Logic Truth Table\n",
      "X__|__Y__|__AND_Logic_\n",
      "0  |  0  |  0\n",
      "0  |  1  |  0\n",
      "1  |  0  |  0\n",
      "1  |  1  |  1\n"
     ]
    }
   ],
   "source": [
    "def AND(x , y):\n",
    "    if x==1 and y==1:\n",
    "        print(x, \" | \",y,\" | \",\"1\")\n",
    "    else:\n",
    "        print(x, \" | \",y,\" | \",\"0\")\n",
    "\n",
    "print(\"AND Logic Truth Table\")\n",
    "print(\"X__|__Y__|__AND_Logic_\")\n",
    "for a in range(0,2):\n",
    "    for b in range(0,2):\n",
    "        AND(a , b)"
   ]
  },
  {
   "cell_type": "markdown",
   "metadata": {},
   "source": [
    "OR Logic"
   ]
  },
  {
   "cell_type": "code",
   "execution_count": 3,
   "metadata": {},
   "outputs": [
    {
     "name": "stdout",
     "output_type": "stream",
     "text": [
      "OR Logic Truth Table\n",
      "X__|__Y__|__OR_Logic_\n",
      "0  |  0  |  0\n",
      "0  |  1  |  1\n",
      "1  |  0  |  1\n",
      "1  |  1  |  1\n"
     ]
    }
   ],
   "source": [
    "def OR(x , y):\n",
    "    if x==1 or y==1:\n",
    "        print(x, \" | \",y,\" | \",\"1\")\n",
    "    else:\n",
    "        print(x, \" | \",y,\" | \",\"0\")\n",
    "\n",
    "print(\"OR Logic Truth Table\")\n",
    "print(\"X__|__Y__|__OR_Logic_\")\n",
    "for a in range(0,2):\n",
    "    for b in range(0,2):\n",
    "        OR(a , b)"
   ]
  },
  {
   "cell_type": "markdown",
   "metadata": {},
   "source": [
    "NOT Logic"
   ]
  },
  {
   "cell_type": "code",
   "execution_count": 7,
   "metadata": {},
   "outputs": [
    {
     "name": "stdout",
     "output_type": "stream",
     "text": [
      "NOT Logic Truth Table\n",
      "X__|__NOT_Logic_\n",
      "0  |  1\n",
      "1  |  0\n"
     ]
    }
   ],
   "source": [
    "def NOT(x):\n",
    "    if x==1:\n",
    "        print(x, \" | \",\"0\")\n",
    "    else:\n",
    "        print(x, \" | \",\"1\")\n",
    "\n",
    "print(\"NOT Logic Truth Table\")\n",
    "print(\"X__|__NOT_Logic_\")\n",
    "for a in range(0,2):\n",
    "    NOT(a)"
   ]
  },
  {
   "cell_type": "markdown",
   "metadata": {},
   "source": [
    "XOR Logic"
   ]
  },
  {
   "cell_type": "code",
   "execution_count": 4,
   "metadata": {},
   "outputs": [
    {
     "name": "stdout",
     "output_type": "stream",
     "text": [
      "XOR Logic Truth Table\n",
      "X__|__Y__|__XOR_Logic_\n",
      "0  |  0  |  1\n",
      "0  |  1  |  0\n",
      "1  |  0  |  0\n",
      "1  |  1  |  1\n"
     ]
    }
   ],
   "source": [
    "def XOR(x , y):\n",
    "    if x==1 and y==1:\n",
    "        print(x, \" | \",y,\" | \",\"1\")\n",
    "    elif x==0 and y==0:\n",
    "        print(x, \" | \",y,\" | \",\"1\")\n",
    "    else:\n",
    "        print(x, \" | \",y,\" | \",\"0\")\n",
    "\n",
    "print(\"XOR Logic Truth Table\")\n",
    "print(\"X__|__Y__|__XOR_Logic_\")\n",
    "for a in range(0,2):\n",
    "    for b in range(0,2):\n",
    "        XOR(a , b)"
   ]
  },
  {
   "cell_type": "markdown",
   "metadata": {},
   "source": [
    "NAND Logic"
   ]
  },
  {
   "cell_type": "code",
   "execution_count": 9,
   "metadata": {},
   "outputs": [
    {
     "name": "stdout",
     "output_type": "stream",
     "text": [
      "NAND Logic Truth Table\n",
      "X__|__Y__|__NAND_Logic_\n",
      "0  |  0  |  1\n",
      "0  |  1  |  1\n",
      "1  |  0  |  1\n",
      "1  |  1  |  0\n"
     ]
    }
   ],
   "source": [
    "def NAND(x , y):\n",
    "    if x==1 and y==1:\n",
    "        print(x, \" | \",y,\" | \",\"0\")\n",
    "    else:\n",
    "        print(x, \" | \",y,\" | \",\"1\")\n",
    "\n",
    "print(\"NAND Logic Truth Table\")\n",
    "print(\"X__|__Y__|__NAND_Logic_\")\n",
    "for a in range(0,2):\n",
    "    for b in range(0,2):\n",
    "        NAND(a , b)"
   ]
  },
  {
   "cell_type": "markdown",
   "metadata": {},
   "source": [
    "NOR Logic"
   ]
  },
  {
   "cell_type": "code",
   "execution_count": 10,
   "metadata": {},
   "outputs": [
    {
     "name": "stdout",
     "output_type": "stream",
     "text": [
      "OR Logic Truth Table\n",
      "X__|__Y__|__NOR_Logic_\n",
      "0  |  0  |  1\n",
      "0  |  1  |  0\n",
      "1  |  0  |  0\n",
      "1  |  1  |  0\n"
     ]
    }
   ],
   "source": [
    "def NOR(x , y):\n",
    "    if x==1 or y==1:\n",
    "        print(x, \" | \",y,\" | \",\"0\")\n",
    "    else:\n",
    "        print(x, \" | \",y,\" | \",\"1\")\n",
    "\n",
    "print(\"OR Logic Truth Table\")\n",
    "print(\"X__|__Y__|__NOR_Logic_\")\n",
    "for a in range(0,2):\n",
    "    for b in range(0,2):\n",
    "        NOR(a , b)"
   ]
  }
 ],
 "metadata": {
  "kernelspec": {
   "display_name": "Python 3",
   "language": "python",
   "name": "python3"
  },
  "language_info": {
   "codemirror_mode": {
    "name": "ipython",
    "version": 3
   },
   "file_extension": ".py",
   "mimetype": "text/x-python",
   "name": "python",
   "nbconvert_exporter": "python",
   "pygments_lexer": "ipython3",
   "version": "3.7.0"
  }
 },
 "nbformat": 4,
 "nbformat_minor": 2
}
