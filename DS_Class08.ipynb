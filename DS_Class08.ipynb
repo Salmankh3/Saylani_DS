{
 "cells": [
  {
   "cell_type": "markdown",
   "metadata": {},
   "source": [
    "# Functions and Dictionary "
   ]
  },
  {
   "cell_type": "code",
   "execution_count": 22,
   "metadata": {},
   "outputs": [],
   "source": [
    "#Example01\n",
    "#8.7 Page No. 146\n",
    "def make_album(artist_name, album_title):\n",
    "    a = {\"Artist_Name\": artist_name, \"Album_Title\": album_title}\n",
    "    return a"
   ]
  },
  {
   "cell_type": "code",
   "execution_count": 23,
   "metadata": {},
   "outputs": [
    {
     "data": {
      "text/plain": [
       "{'Artist_Name': 'Atif Aslam', 'Album_Title': 'Jal'}"
      ]
     },
     "execution_count": 23,
     "metadata": {},
     "output_type": "execute_result"
    }
   ],
   "source": [
    "make_album(\"Atif Aslam\",\"Jal\")"
   ]
  },
  {
   "cell_type": "code",
   "execution_count": 24,
   "metadata": {},
   "outputs": [
    {
     "data": {
      "text/plain": [
       "{'Artist_Name': 'Ali Zafar', 'Album_Title': 'Raahi'}"
      ]
     },
     "execution_count": 24,
     "metadata": {},
     "output_type": "execute_result"
    }
   ],
   "source": [
    "make_album(\"Ali Zafar\",\"Raahi\")"
   ]
  },
  {
   "cell_type": "code",
   "execution_count": 25,
   "metadata": {},
   "outputs": [
    {
     "data": {
      "text/plain": [
       "{'Artist_Name': 'Salman Khatri', 'Album_Title': 'Humsafar'}"
      ]
     },
     "execution_count": 25,
     "metadata": {},
     "output_type": "execute_result"
    }
   ],
   "source": [
    "make_album(\"Salman Khatri\",\"Humsafar\")"
   ]
  },
  {
   "cell_type": "code",
   "execution_count": 8,
   "metadata": {},
   "outputs": [],
   "source": [
    "#8.7 (Part 2) Page No. 146\n",
    "def new_album(artist_name, album_title, tracks=\"\"):\n",
    "    x = {\"Artist_Name\": artist_name, \"Album_Title\": album_title}\n",
    "    if tracks:\n",
    "        x[\"No. Of Tracks\"] = tracks\n",
    "    return x"
   ]
  },
  {
   "cell_type": "code",
   "execution_count": 11,
   "metadata": {},
   "outputs": [
    {
     "data": {
      "text/plain": [
       "{'Artist_Name': 'Uzaif Raja', 'Album_Title': 'Talaash', 'No. Of Tracks': '4'}"
      ]
     },
     "execution_count": 11,
     "metadata": {},
     "output_type": "execute_result"
    }
   ],
   "source": [
    "new_album(\"Uzaif Raja\", \"Talaash\", \"4\")"
   ]
  },
  {
   "cell_type": "code",
   "execution_count": 12,
   "metadata": {},
   "outputs": [
    {
     "data": {
      "text/plain": [
       "{'Artist_Name': 'Uzaif Raja', 'Album_Title': 'Talaash'}"
      ]
     },
     "execution_count": 12,
     "metadata": {},
     "output_type": "execute_result"
    }
   ],
   "source": [
    "new_album(\"Uzaif Raja\", \"Talaash\")"
   ]
  },
  {
   "cell_type": "code",
   "execution_count": 6,
   "metadata": {},
   "outputs": [],
   "source": [
    "#Example02\n",
    "#8.8 Page No.146\n",
    "def new_album():\n",
    "    x = {}\n",
    "    while True:\n",
    "        artist_name = input(\"Enter Artist Name: \")\n",
    "        if artist_name == \"q\":\n",
    "            break\n",
    "        else:\n",
    "            x[\"Artist_Name\"] = artist_name\n",
    "        \n",
    "        album_title = input(\"Enter Album Title: \")\n",
    "        if album_title == \"q\":\n",
    "            break\n",
    "        else:\n",
    "            x[\"Album_Title\"] = album_title\n",
    "    \n",
    "        tracks = input(\"Enter No. Of Tracks: \")\n",
    "        x[\"No. Of Tracks\"] = tracks\n",
    "        break\n",
    "        \n",
    "    \n",
    "    return x"
   ]
  },
  {
   "cell_type": "code",
   "execution_count": 7,
   "metadata": {},
   "outputs": [
    {
     "name": "stdout",
     "output_type": "stream",
     "text": [
      "Enter Artist Name: Salman\n",
      "Enter Album Title: Dil Dooba\n",
      "Enter No. Of Tracks: 4\n"
     ]
    },
    {
     "data": {
      "text/plain": [
       "{'Artist_Name': 'Salman', 'Album_Title': 'Dil Dooba', 'No. Of Tracks': '4'}"
      ]
     },
     "execution_count": 7,
     "metadata": {},
     "output_type": "execute_result"
    }
   ],
   "source": [
    "new_album()"
   ]
  },
  {
   "cell_type": "code",
   "execution_count": 46,
   "metadata": {},
   "outputs": [],
   "source": [
    "#Example03\n",
    "#Employee Salary Calculator With Functions\n",
    "def salaryCalc(basic):\n",
    "    \n",
    "    gross = basic - taxCalc(basic) - provFundCalc(basic) + \n",
    "    return gross\n",
    "\n",
    "def taxCalc(b):\n",
    "    tax_ded = 0\n",
    "    if b<30000:\n",
    "        tax_ded = 0\n",
    "    elif b>=30000 and b<50000:\n",
    "        tax_ded = 5\n",
    "    elif b>=50000 and b<100000:\n",
    "        tax_ded = 10\n",
    "    else:\n",
    "        tax_ded = 15\n",
    "    \n",
    "    tot_tax_ded = b*(tax_ded/100)\n",
    "    return tot_tax_ded\n",
    "\n",
    "def provFundCalc(p):\n",
    "    p_fund = 0\n",
    "    if p>=35000 and p<50000:\n",
    "        p_fund = 2\n",
    "    elif p>=50000 and p<75000:\n",
    "        p_fund = 4\n",
    "    else:\n",
    "        p_fund = 6\n",
    "    \n",
    "    tot_p_fund = p*(p_fund/100)\n",
    "    return tot_p_fund\n"
   ]
  },
  {
   "cell_type": "code",
   "execution_count": 47,
   "metadata": {},
   "outputs": [
    {
     "name": "stdout",
     "output_type": "stream",
     "text": [
      "Enter the Basic salary of the employee: 70000\n",
      "Gross Salary of Employee is 60200.0\n"
     ]
    }
   ],
   "source": [
    "basic = int(input(\"Enter the Basic salary of the employee: \"))\n",
    "gross_Salary = salaryCalc(basic)\n",
    "print(f\"Gross Salary of Employee is {gross_Salary}\")"
   ]
  }
 ],
 "metadata": {
  "kernelspec": {
   "display_name": "Python 3",
   "language": "python",
   "name": "python3"
  },
  "language_info": {
   "codemirror_mode": {
    "name": "ipython",
    "version": 3
   },
   "file_extension": ".py",
   "mimetype": "text/x-python",
   "name": "python",
   "nbconvert_exporter": "python",
   "pygments_lexer": "ipython3",
   "version": "3.7.0"
  }
 },
 "nbformat": 4,
 "nbformat_minor": 4
}
