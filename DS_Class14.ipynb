{
 "cells": [
  {
   "cell_type": "markdown",
   "metadata": {},
   "source": [
    "# Instances As Attributes"
   ]
  },
  {
   "cell_type": "code",
   "execution_count": 1,
   "metadata": {},
   "outputs": [],
   "source": [
    "#Example01\n",
    "class Car():\n",
    "    def __init__(self, make, model, year):\n",
    "        self.make = make\n",
    "        self.model = model\n",
    "        self.year = year\n",
    "        self.odometer_reading = 0\n",
    "    def fill_gas_tank(self):        \n",
    "        print(\"This car is filling gas tank!\")\n",
    "    def get_descriptive_name(self):\n",
    "        long_name = str(self.year) + ' ' + self.make + ' ' + self.model\n",
    "        return long_name.title()\n",
    "\n",
    "    def read_odometer(self):\n",
    "        print(\"This car has \" + str(self.odometer_reading) + \" miles on it.\")\n",
    "\n",
    "    def update_odometer(self, mileage):\n",
    "        if mileage >= self.odometer_reading:\n",
    "            self.odometer_reading = mileage\n",
    "        else:\n",
    "            print(\"You can't roll back an odometer!\")\n",
    "\n",
    "    def increment_odometer(self, miles):\n",
    "        self.odometer_reading += miles"
   ]
  },
  {
   "cell_type": "code",
   "execution_count": 2,
   "metadata": {},
   "outputs": [],
   "source": [
    "class Battery():\n",
    "    def __init__(self,amp,plates,manuf):\n",
    "        self.amp = amp\n",
    "        self.plates = plates\n",
    "        self.manuf = manuf\n",
    "    def get_amp(self):\n",
    "        return self.amp"
   ]
  },
  {
   "cell_type": "code",
   "execution_count": 3,
   "metadata": {},
   "outputs": [],
   "source": [
    "class ElectricCar(Car):\n",
    "    def __init__(self, make,model,year):\n",
    "        super().__init__(make, model, year) \n",
    "        self.battery = Battery(\"123A\",27,\"AGS\") #Here is the instance of Battery class as an attribute of Electric Car Class\n",
    "        \n",
    "    def describe_ecar(self):\n",
    "        print(self.model, self.make,self.year,self.battery.get_amp())"
   ]
  },
  {
   "cell_type": "code",
   "execution_count": 4,
   "metadata": {},
   "outputs": [],
   "source": [
    "my_tesla = ElectricCar(\"Tesla\",\"Model X\", \"2016\")"
   ]
  },
  {
   "cell_type": "code",
   "execution_count": 5,
   "metadata": {},
   "outputs": [
    {
     "name": "stdout",
     "output_type": "stream",
     "text": [
      "2016 Tesla Model X\n"
     ]
    }
   ],
   "source": [
    "print(my_tesla.get_descriptive_name())"
   ]
  },
  {
   "cell_type": "code",
   "execution_count": 6,
   "metadata": {},
   "outputs": [
    {
     "name": "stdout",
     "output_type": "stream",
     "text": [
      "Model X Tesla 2016 123A\n"
     ]
    }
   ],
   "source": [
    "my_tesla.describe_ecar()"
   ]
  },
  {
   "cell_type": "markdown",
   "metadata": {},
   "source": [
    "Book Exercise 9.1, 9.2"
   ]
  },
  {
   "cell_type": "code",
   "execution_count": 19,
   "metadata": {},
   "outputs": [],
   "source": [
    "#9.1\n",
    "class Restaurant():\n",
    "    def __init__(self,res_name,cuisine_typ):\n",
    "        self.res_name = res_name\n",
    "        self.cuisine_typ = cuisine_typ\n",
    "        \n",
    "    def describe_restaurant(self):\n",
    "        return f\"Restaurant Name: {self.res_name}, Dish Offer: {self.cuisine_typ}\"\n",
    "    \n",
    "    def open_restaurant(self):\n",
    "        return self.res_name + \" is Open\""
   ]
  },
  {
   "cell_type": "code",
   "execution_count": 20,
   "metadata": {},
   "outputs": [],
   "source": [
    "restaurant = Restaurant(\"Taj Peshaweri\",\"Karhai\")"
   ]
  },
  {
   "cell_type": "code",
   "execution_count": 21,
   "metadata": {},
   "outputs": [
    {
     "data": {
      "text/plain": [
       "'Taj Peshaweri'"
      ]
     },
     "execution_count": 21,
     "metadata": {},
     "output_type": "execute_result"
    }
   ],
   "source": [
    "restaurant.res_name"
   ]
  },
  {
   "cell_type": "code",
   "execution_count": 22,
   "metadata": {},
   "outputs": [
    {
     "data": {
      "text/plain": [
       "'Karhai'"
      ]
     },
     "execution_count": 22,
     "metadata": {},
     "output_type": "execute_result"
    }
   ],
   "source": [
    "restaurant.cuisine_typ"
   ]
  },
  {
   "cell_type": "code",
   "execution_count": 23,
   "metadata": {},
   "outputs": [
    {
     "data": {
      "text/plain": [
       "'Restaurant Name: Taj Peshaweri, Dish Offer: Karhai'"
      ]
     },
     "execution_count": 23,
     "metadata": {},
     "output_type": "execute_result"
    }
   ],
   "source": [
    "restaurant.describe_restaurant()"
   ]
  },
  {
   "cell_type": "code",
   "execution_count": 24,
   "metadata": {},
   "outputs": [
    {
     "data": {
      "text/plain": [
       "'Taj Peshaweri is Open'"
      ]
     },
     "execution_count": 24,
     "metadata": {},
     "output_type": "execute_result"
    }
   ],
   "source": [
    "restaurant.open_restaurant()"
   ]
  },
  {
   "cell_type": "code",
   "execution_count": 25,
   "metadata": {},
   "outputs": [],
   "source": [
    "#9.2\n",
    "r1 = Restaurant(\"KFC\",\"Zinger Burger\")\n",
    "r2 = Restaurant(\"DOM\",\"Pizza\")\n",
    "r3 = Restaurant(\"Dua Restaurant\",\"Lamb Karhai\")"
   ]
  },
  {
   "cell_type": "code",
   "execution_count": 26,
   "metadata": {},
   "outputs": [
    {
     "data": {
      "text/plain": [
       "'Restaurant Name: KFC, Dish Offer: Zinger Burger'"
      ]
     },
     "execution_count": 26,
     "metadata": {},
     "output_type": "execute_result"
    }
   ],
   "source": [
    "r1.describe_restaurant()"
   ]
  },
  {
   "cell_type": "code",
   "execution_count": 27,
   "metadata": {},
   "outputs": [
    {
     "data": {
      "text/plain": [
       "'Restaurant Name: DOM, Dish Offer: Pizza'"
      ]
     },
     "execution_count": 27,
     "metadata": {},
     "output_type": "execute_result"
    }
   ],
   "source": [
    "r2.describe_restaurant()"
   ]
  },
  {
   "cell_type": "code",
   "execution_count": 29,
   "metadata": {},
   "outputs": [
    {
     "data": {
      "text/plain": [
       "'Restaurant Name: Dua Restaurant, Dish Offer: Lamb Karhai'"
      ]
     },
     "execution_count": 29,
     "metadata": {},
     "output_type": "execute_result"
    }
   ],
   "source": [
    "r3.describe_restaurant()"
   ]
  },
  {
   "cell_type": "code",
   "execution_count": 66,
   "metadata": {},
   "outputs": [],
   "source": [
    "#9.4 \n",
    "class Restaurant():\n",
    "    def __init__(self,res_name,cuisine_typ):\n",
    "        self.res_name = res_name\n",
    "        self.cuisine_typ = cuisine_typ\n",
    "        self.person_served = 5\n",
    "        \n",
    "    def describe_restaurant(self):\n",
    "        return f\"Restaurant Name: {self.res_name}, Dish Offer: {self.cuisine_typ}\"\n",
    "    \n",
    "    def open_restaurant(self):\n",
    "        return self.res_name + \" is Open\"\n",
    "    \n",
    "    def num_served(self):\n",
    "        print(\"No. Of Customers served by\",self.res_name,\"are\",self.person_served)\n",
    "        \n",
    "    def set_num_served(self):\n",
    "        a = int(input(\"Enter customer served: \"))\n",
    "        self.person_served = a\n",
    "        \n",
    "    \n",
    "    def increment_num_served(self):\n",
    "        b = int(input(\"Enter how many customers you got today: \"))\n",
    "        self.person_served += b"
   ]
  },
  {
   "cell_type": "code",
   "execution_count": 67,
   "metadata": {},
   "outputs": [],
   "source": [
    "restaurant = Restaurant(\"Cafe Waheed\", \"BBQ\")"
   ]
  },
  {
   "cell_type": "code",
   "execution_count": 39,
   "metadata": {},
   "outputs": [
    {
     "name": "stdout",
     "output_type": "stream",
     "text": [
      "No. Of Customers served by Cafe Waheed are 0\n"
     ]
    }
   ],
   "source": [
    "restaurant.num_served()"
   ]
  },
  {
   "cell_type": "code",
   "execution_count": 68,
   "metadata": {},
   "outputs": [
    {
     "name": "stdout",
     "output_type": "stream",
     "text": [
      "No. Of Customers served by Cafe Waheed are 5\n"
     ]
    }
   ],
   "source": [
    "restaurant.num_served()"
   ]
  },
  {
   "cell_type": "code",
   "execution_count": 69,
   "metadata": {},
   "outputs": [
    {
     "name": "stdout",
     "output_type": "stream",
     "text": [
      "Enter customer served: 11\n"
     ]
    }
   ],
   "source": [
    "restaurant.set_num_served()"
   ]
  },
  {
   "cell_type": "code",
   "execution_count": 70,
   "metadata": {},
   "outputs": [
    {
     "name": "stdout",
     "output_type": "stream",
     "text": [
      "No. Of Customers served by Cafe Waheed are 11\n"
     ]
    }
   ],
   "source": [
    "restaurant.num_served()"
   ]
  },
  {
   "cell_type": "code",
   "execution_count": 75,
   "metadata": {},
   "outputs": [
    {
     "name": "stdout",
     "output_type": "stream",
     "text": [
      "Enter how many customers you got today: 10\n"
     ]
    }
   ],
   "source": [
    "restaurant.increment_num_served()"
   ]
  },
  {
   "cell_type": "code",
   "execution_count": 76,
   "metadata": {},
   "outputs": [
    {
     "name": "stdout",
     "output_type": "stream",
     "text": [
      "No. Of Customers served by Cafe Waheed are 31\n"
     ]
    }
   ],
   "source": [
    "restaurant.num_served()"
   ]
  },
  {
   "cell_type": "code",
   "execution_count": 97,
   "metadata": {},
   "outputs": [],
   "source": [
    "#9.3\n",
    "class User():\n",
    "    def __init__(self,first_name,last_name,gender,age,date_of_birth):\n",
    "        self.first_name = first_name\n",
    "        self.last_name = last_name\n",
    "        self.gender = gender\n",
    "        self.age = age\n",
    "        self. date_of_birth = date_of_birth\n",
    "    \n",
    "    def describe_user(self):\n",
    "        print(\"=== User Profile ===\\n\")\n",
    "        print(\"First Name:\",self.first_name,\"\\nLast Name:\",self.last_name,\"\\nGender:\",self.gender,\"\\nAge:\",self.age,\"\\nDOB:\", self.date_of_birth)\n",
    "        \n",
    "    def greet_user(self):\n",
    "        print(\"Hi\",self.first_name,self.last_name,\"! Welcome to our company!\")"
   ]
  },
  {
   "cell_type": "code",
   "execution_count": 98,
   "metadata": {},
   "outputs": [],
   "source": [
    "u1 = User(\"Salman\",\"Abdul Rahim\",\"Male\",21,\"27/Dec/1999\")\n",
    "u2 = User(\"Uzaif Ahmed\",\"Bashir Ahmed\",\"Male\",23,\"1/Apr/1999\")\n",
    "u3 = User(\"Iqra\",\"Manzoor\",\"Female\",25,\"1/Jan/1998\")"
   ]
  },
  {
   "cell_type": "code",
   "execution_count": 99,
   "metadata": {},
   "outputs": [
    {
     "name": "stdout",
     "output_type": "stream",
     "text": [
      "=== User Profile ===\n",
      "\n",
      "First Name: Salman \n",
      "Last Name: Abdul Rahim \n",
      "Gender: Male \n",
      "Age: 21 \n",
      "DOB: 27/Dec/1999\n"
     ]
    }
   ],
   "source": [
    "u1.describe_user()"
   ]
  },
  {
   "cell_type": "code",
   "execution_count": 100,
   "metadata": {},
   "outputs": [
    {
     "name": "stdout",
     "output_type": "stream",
     "text": [
      "=== User Profile ===\n",
      "\n",
      "First Name: Uzaif Ahmed \n",
      "Last Name: Bashir Ahmed \n",
      "Gender: Male \n",
      "Age: 23 \n",
      "DOB: 1/Apr/1999\n"
     ]
    }
   ],
   "source": [
    "u2.describe_user()"
   ]
  },
  {
   "cell_type": "code",
   "execution_count": 101,
   "metadata": {},
   "outputs": [
    {
     "name": "stdout",
     "output_type": "stream",
     "text": [
      "=== User Profile ===\n",
      "\n",
      "First Name: Iqra \n",
      "Last Name: Manzoor \n",
      "Gender: Female \n",
      "Age: 25 \n",
      "DOB: 1/Jan/1998\n"
     ]
    }
   ],
   "source": [
    "u3.describe_user()"
   ]
  },
  {
   "cell_type": "code",
   "execution_count": 102,
   "metadata": {},
   "outputs": [
    {
     "name": "stdout",
     "output_type": "stream",
     "text": [
      "Hi Salman Abdul Rahim ! Welcome to our company!\n"
     ]
    }
   ],
   "source": [
    "u1.greet_user()"
   ]
  },
  {
   "cell_type": "code",
   "execution_count": 103,
   "metadata": {},
   "outputs": [
    {
     "name": "stdout",
     "output_type": "stream",
     "text": [
      "Hi Uzaif Ahmed Bashir Ahmed ! Welcome to our company!\n"
     ]
    }
   ],
   "source": [
    "u2.greet_user()"
   ]
  },
  {
   "cell_type": "code",
   "execution_count": 104,
   "metadata": {},
   "outputs": [
    {
     "name": "stdout",
     "output_type": "stream",
     "text": [
      "Hi Uzaif Ahmed Bashir Ahmed ! Welcome to our company!\n"
     ]
    }
   ],
   "source": [
    "u2.greet_user()"
   ]
  },
  {
   "cell_type": "code",
   "execution_count": 107,
   "metadata": {},
   "outputs": [],
   "source": [
    "#9.5\n",
    "\n",
    "class User():\n",
    "    def __init__(self,first_name,last_name,gender,age,date_of_birth,login_attempts):\n",
    "        self.first_name = first_name\n",
    "        self.last_name = last_name\n",
    "        self.gender = gender\n",
    "        self.age = age\n",
    "        self. date_of_birth = date_of_birth\n",
    "        self.login_attempts = login_attempts\n",
    "    \n",
    "    def describe_user(self):\n",
    "        print(\"=== User Profile ===\\n\")\n",
    "        print(\"First Name:\",self.first_name,\"\\nLast Name:\",self.last_name,\"\\nGender:\",self.gender,\"\\nAge:\",self.age,\"\\nDOB:\", self.date_of_birth)\n",
    "        \n",
    "    def greet_user(self):\n",
    "        print(\"Hi\",self.first_name,self.last_name,\"! Welcome to our company!\")\n",
    "        \n",
    "    def increment_login_attempt(self):\n",
    "        self.login_attempts += 1\n",
    "        return self.login_attempts\n",
    "    \n",
    "    def reset_login_attempt(self):\n",
    "        self.login_attempts = 0\n",
    "        return self.login_attempts"
   ]
  },
  {
   "cell_type": "code",
   "execution_count": 108,
   "metadata": {},
   "outputs": [],
   "source": [
    "new_user = User(\"Waqar Zaka\",\"Ultimate Hacker\",\"Shemale\",35,\"29/Feb/1947\",4)"
   ]
  },
  {
   "cell_type": "code",
   "execution_count": 109,
   "metadata": {},
   "outputs": [
    {
     "data": {
      "text/plain": [
       "5"
      ]
     },
     "execution_count": 109,
     "metadata": {},
     "output_type": "execute_result"
    }
   ],
   "source": [
    "new_user.increment_login_attempt()"
   ]
  },
  {
   "cell_type": "code",
   "execution_count": 110,
   "metadata": {},
   "outputs": [
    {
     "data": {
      "text/plain": [
       "6"
      ]
     },
     "execution_count": 110,
     "metadata": {},
     "output_type": "execute_result"
    }
   ],
   "source": [
    "new_user.increment_login_attempt()"
   ]
  },
  {
   "cell_type": "code",
   "execution_count": 111,
   "metadata": {},
   "outputs": [
    {
     "data": {
      "text/plain": [
       "7"
      ]
     },
     "execution_count": 111,
     "metadata": {},
     "output_type": "execute_result"
    }
   ],
   "source": [
    "new_user.increment_login_attempt()"
   ]
  },
  {
   "cell_type": "code",
   "execution_count": 112,
   "metadata": {},
   "outputs": [
    {
     "data": {
      "text/plain": [
       "0"
      ]
     },
     "execution_count": 112,
     "metadata": {},
     "output_type": "execute_result"
    }
   ],
   "source": [
    "new_user.reset_login_attempt()"
   ]
  },
  {
   "cell_type": "markdown",
   "metadata": {},
   "source": [
    "ALhamdulillah !! Done with the milestone!"
   ]
  }
 ],
 "metadata": {
  "kernelspec": {
   "display_name": "Python 3",
   "language": "python",
   "name": "python3"
  },
  "language_info": {
   "codemirror_mode": {
    "name": "ipython",
    "version": 3
   },
   "file_extension": ".py",
   "mimetype": "text/x-python",
   "name": "python",
   "nbconvert_exporter": "python",
   "pygments_lexer": "ipython3",
   "version": "3.7.0"
  }
 },
 "nbformat": 4,
 "nbformat_minor": 4
}
