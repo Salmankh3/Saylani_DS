{
  "nbformat": 4,
  "nbformat_minor": 0,
  "metadata": {
    "colab": {
      "name": "Number_MNIST.ipynb",
      "provenance": [],
      "collapsed_sections": [],
      "toc_visible": true
    },
    "kernelspec": {
      "name": "python3",
      "display_name": "Python 3"
    }
  },
  "cells": [
    {
      "cell_type": "markdown",
      "metadata": {
        "id": "6te99DGllA_b"
      },
      "source": [
        "IMPORTING TENSORFLOW\n"
      ]
    },
    {
      "cell_type": "code",
      "metadata": {
        "id": "44icmeUYjaNB"
      },
      "source": [
        "import tensorflow as tf\n",
        "import pandas as pd"
      ],
      "execution_count": 78,
      "outputs": []
    },
    {
      "cell_type": "code",
      "metadata": {
        "id": "S1NjMP8ljaPg",
        "colab": {
          "base_uri": "https://localhost:8080/"
        },
        "outputId": "183c1a57-afef-48e6-8c97-6776f124eccb"
      },
      "source": [
        "print(tf.__version__)"
      ],
      "execution_count": 79,
      "outputs": [
        {
          "output_type": "stream",
          "text": [
            "2.4.1\n"
          ],
          "name": "stdout"
        }
      ]
    },
    {
      "cell_type": "code",
      "metadata": {
        "id": "fwFuj5IPjaRp"
      },
      "source": [
        "mnist = tf.keras.datasets.mnist"
      ],
      "execution_count": 80,
      "outputs": []
    },
    {
      "cell_type": "markdown",
      "metadata": {
        "id": "nwhd4dz1ldGa"
      },
      "source": [
        "LOADING AND SPLITTING MNIST DATASET"
      ]
    },
    {
      "cell_type": "code",
      "metadata": {
        "id": "0tvqIho0jaKr"
      },
      "source": [
        "(training_images, training_labels), (test_images, test_labels) = mnist.load_data()"
      ],
      "execution_count": 81,
      "outputs": []
    },
    {
      "cell_type": "code",
      "metadata": {
        "id": "1DrGcbr3keIs",
        "colab": {
          "base_uri": "https://localhost:8080/"
        },
        "outputId": "6049a4eb-7205-4064-c3c1-a21559b35154"
      },
      "source": [
        "print(len(training_images))\n",
        "print(len(test_images))\n",
        "print(len(training_labels))\n",
        "print(len(test_labels))"
      ],
      "execution_count": 82,
      "outputs": [
        {
          "output_type": "stream",
          "text": [
            "60000\n",
            "10000\n",
            "60000\n",
            "10000\n"
          ],
          "name": "stdout"
        }
      ]
    },
    {
      "cell_type": "code",
      "metadata": {
        "colab": {
          "base_uri": "https://localhost:8080/"
        },
        "id": "jKbhSs4lQzeZ",
        "outputId": "6ff4030e-4006-4ebd-a966-44d8ede28734"
      },
      "source": [
        "print(training_images.shape)\n",
        "print(test_images.shape)"
      ],
      "execution_count": 83,
      "outputs": [
        {
          "output_type": "stream",
          "text": [
            "(60000, 28, 28)\n",
            "(10000, 28, 28)\n"
          ],
          "name": "stdout"
        }
      ]
    },
    {
      "cell_type": "markdown",
      "metadata": {
        "id": "r18hj0AfltUj"
      },
      "source": [
        "DISPLAYING SOME MNIST IMAGES"
      ]
    },
    {
      "cell_type": "code",
      "metadata": {
        "id": "5mvQxPfRkeNe",
        "colab": {
          "base_uri": "https://localhost:8080/",
          "height": 282
        },
        "outputId": "d0a5d525-21f7-435b-e548-627c4531221c"
      },
      "source": [
        "import matplotlib.pyplot as plt\n",
        "#plot the first image in the dataset\n",
        "plt.imshow(training_images[7])"
      ],
      "execution_count": 84,
      "outputs": [
        {
          "output_type": "execute_result",
          "data": {
            "text/plain": [
              "<matplotlib.image.AxesImage at 0x7fd597976d90>"
            ]
          },
          "metadata": {
            "tags": []
          },
          "execution_count": 84
        },
        {
          "output_type": "display_data",
          "data": {
            "image/png": "[encoded data removed]",
            "text/plain": [
              "<Figure size 432x288 with 1 Axes>"
            ]
          },
          "metadata": {
            "tags": [],
            "needs_background": "light"
          }
        }
      ]
    },
    {
      "cell_type": "code",
      "metadata": {
        "id": "2azvHwMskeUS",
        "colab": {
          "base_uri": "https://localhost:8080/",
          "height": 282
        },
        "outputId": "bf49616f-1a66-41b9-f01a-f0739e0a017c"
      },
      "source": [
        "plt.imshow(training_images[100])"
      ],
      "execution_count": 85,
      "outputs": [
        {
          "output_type": "execute_result",
          "data": {
            "text/plain": [
              "<matplotlib.image.AxesImage at 0x7fd59bd92e90>"
            ]
          },
          "metadata": {
            "tags": []
          },
          "execution_count": 85
        },
        {
          "output_type": "display_data",
          "data": {
            "image/png": "[encoded data removed]",
            "text/plain": [
              "<Figure size 432x288 with 1 Axes>"
            ]
          },
          "metadata": {
            "tags": [],
            "needs_background": "light"
          }
        }
      ]
    },
    {
      "cell_type": "code",
      "metadata": {
        "id": "F9kfcxNkkeXJ",
        "colab": {
          "base_uri": "https://localhost:8080/",
          "height": 282
        },
        "outputId": "5f6a5908-8800-4a91-9d31-5a93c3a5bb05"
      },
      "source": [
        "plt.imshow(training_images[605])"
      ],
      "execution_count": 86,
      "outputs": [
        {
          "output_type": "execute_result",
          "data": {
            "text/plain": [
              "<matplotlib.image.AxesImage at 0x7fd5979b0210>"
            ]
          },
          "metadata": {
            "tags": []
          },
          "execution_count": 86
        },
        {
          "output_type": "display_data",
          "data": {
            "image/png": "[encoded data removed]",
            "text/plain": [
              "<Figure size 432x288 with 1 Axes>"
            ]
          },
          "metadata": {
            "tags": [],
            "needs_background": "light"
          }
        }
      ]
    },
    {
      "cell_type": "code",
      "metadata": {
        "id": "rQXw0GcPkeaX",
        "colab": {
          "base_uri": "https://localhost:8080/",
          "height": 282
        },
        "outputId": "d24dc663-63fd-4560-dfb2-b8fb2030aa9c"
      },
      "source": [
        "plt.imshow(training_images[5000])"
      ],
      "execution_count": 87,
      "outputs": [
        {
          "output_type": "execute_result",
          "data": {
            "text/plain": [
              "<matplotlib.image.AxesImage at 0x7fd597a25810>"
            ]
          },
          "metadata": {
            "tags": []
          },
          "execution_count": 87
        },
        {
          "output_type": "display_data",
          "data": {
            "image/png": "[encoded data removed]",
            "text/plain": [
              "<Figure size 432x288 with 1 Axes>"
            ]
          },
          "metadata": {
            "tags": [],
            "needs_background": "light"
          }
        }
      ]
    },
    {
      "cell_type": "markdown",
      "metadata": {
        "id": "s38O7iETmThg"
      },
      "source": [
        "NORMALIZING DATA"
      ]
    },
    {
      "cell_type": "code",
      "metadata": {
        "id": "_odDKf09a-o5"
      },
      "source": [
        "training_images  = training_images / 255.0\n",
        "test_images = test_images / 255.0"
      ],
      "execution_count": 88,
      "outputs": []
    },
    {
      "cell_type": "markdown",
      "metadata": {
        "id": "Xime6RGfbSmH"
      },
      "source": [
        "CREATING ANN MODEL\n",
        "\n"
      ]
    },
    {
      "cell_type": "code",
      "metadata": {
        "id": "O-RD6JhLmYW_"
      },
      "source": [
        "model = tf.keras.models.Sequential([tf.keras.layers.Flatten(),\n",
        "                                    tf.keras.layers.Dense(800,activation=tf.nn.relu, input_shape=(784,)),\n",
        "                                     tf.keras.layers.Dense(550, activation=tf.nn.softmax),\n",
        "                                    tf.keras.layers.Dense(450,activation=tf.nn.relu),\n",
        "                                    tf.keras.layers.Dense(10, activation=tf.nn.softmax)])"
      ],
      "execution_count": 89,
      "outputs": []
    },
    {
      "cell_type": "markdown",
      "metadata": {
        "id": "5seuRRprdA7e"
      },
      "source": [
        "COMPILING AND FITTING VALUES IN MODEL"
      ]
    },
    {
      "cell_type": "code",
      "metadata": {
        "id": "3V6h--j6mcG-",
        "colab": {
          "base_uri": "https://localhost:8080/"
        },
        "outputId": "da8b0c69-8143-4f25-edc4-daa2a9a8c655"
      },
      "source": [
        "model.compile(optimizer = tf.keras.optimizers.RMSprop(),\n",
        "              loss = 'sparse_categorical_crossentropy',\n",
        "              metrics=['accuracy'])\n",
        "model.fit(training_images, training_labels, epochs=10, batch_size=100)"
      ],
      "execution_count": 90,
      "outputs": [
        {
          "output_type": "stream",
          "text": [
            "Epoch 1/10\n",
            "600/600 [==============================] - 17s 27ms/step - loss: 0.9348 - accuracy: 0.7345\n",
            "Epoch 2/10\n",
            "600/600 [==============================] - 16s 27ms/step - loss: 0.1286 - accuracy: 0.9657\n",
            "Epoch 3/10\n",
            "600/600 [==============================] - 17s 27ms/step - loss: 0.0802 - accuracy: 0.9769\n",
            "Epoch 4/10\n",
            "600/600 [==============================] - 17s 28ms/step - loss: 0.0559 - accuracy: 0.9848\n",
            "Epoch 5/10\n",
            "600/600 [==============================] - 17s 28ms/step - loss: 0.0420 - accuracy: 0.9886\n",
            "Epoch 6/10\n",
            "600/600 [==============================] - 16s 27ms/step - loss: 0.0367 - accuracy: 0.9899\n",
            "Epoch 7/10\n",
            "600/600 [==============================] - 16s 27ms/step - loss: 0.0271 - accuracy: 0.9930\n",
            "Epoch 8/10\n",
            "600/600 [==============================] - 16s 27ms/step - loss: 0.0234 - accuracy: 0.9940\n",
            "Epoch 9/10\n",
            "600/600 [==============================] - 16s 27ms/step - loss: 0.0237 - accuracy: 0.9938\n",
            "Epoch 10/10\n",
            "600/600 [==============================] - 16s 27ms/step - loss: 0.0193 - accuracy: 0.9952\n"
          ],
          "name": "stdout"
        },
        {
          "output_type": "execute_result",
          "data": {
            "text/plain": [
              "<tensorflow.python.keras.callbacks.History at 0x7fd599af53d0>"
            ]
          },
          "metadata": {
            "tags": []
          },
          "execution_count": 90
        }
      ]
    },
    {
      "cell_type": "markdown",
      "metadata": {
        "id": "SnrZqHhqdKMN"
      },
      "source": [
        "MODEL EVALUATION WITH TEST VALUES"
      ]
    },
    {
      "cell_type": "code",
      "metadata": {
        "id": "YimI7T-emcJF",
        "colab": {
          "base_uri": "https://localhost:8080/"
        },
        "outputId": "f2571b6e-8812-400a-f049-96344b3b99e8"
      },
      "source": [
        "model.evaluate(test_images, test_labels)"
      ],
      "execution_count": 91,
      "outputs": [
        {
          "output_type": "stream",
          "text": [
            "313/313 [==============================] - 2s 5ms/step - loss: 0.1108 - accuracy: 0.9791\n"
          ],
          "name": "stdout"
        },
        {
          "output_type": "execute_result",
          "data": {
            "text/plain": [
              "[0.1108233779668808, 0.9790999889373779]"
            ]
          },
          "metadata": {
            "tags": []
          },
          "execution_count": 91
        }
      ]
    }
  ]
}